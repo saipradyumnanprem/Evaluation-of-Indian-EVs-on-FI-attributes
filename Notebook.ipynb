{
  "nbformat": 4,
  "nbformat_minor": 0,
  "metadata": {
    "colab": {
      "provenance": []
    },
    "kernelspec": {
      "name": "python3",
      "display_name": "Python 3"
    },
    "language_info": {
      "name": "python"
    }
  },
  "cells": [
    {
      "cell_type": "code",
      "execution_count": null,
      "metadata": {
        "id": "oyvBFfGt-TAO"
      },
      "outputs": [],
      "source": [
        "import pandas as pd\n",
        "import numpy as np\n",
        "import nltk\n",
        "from nltk.sentiment.vader import SentimentIntensityAnalyzer\n",
        "from sklearn.preprocessing import MinMaxScaler"
      ]
    },
    {
      "cell_type": "code",
      "source": [
        "nltk.download('punkt')\n",
        "nltk.download('averaged_perceptron_tagger')\n",
        "nltk.download('vader_lexicon')"
      ],
      "metadata": {
        "colab": {
          "base_uri": "https://localhost:8080/"
        },
        "id": "j3dHoKCj-XWH",
        "outputId": "10f32760-7f15-4a59-fc4c-6b20f346579d"
      },
      "execution_count": null,
      "outputs": [
        {
          "output_type": "stream",
          "name": "stderr",
          "text": [
            "[nltk_data] Downloading package punkt to /root/nltk_data...\n",
            "[nltk_data]   Unzipping tokenizers/punkt.zip.\n",
            "[nltk_data] Downloading package averaged_perceptron_tagger to\n",
            "[nltk_data]     /root/nltk_data...\n",
            "[nltk_data]   Unzipping taggers/averaged_perceptron_tagger.zip.\n",
            "[nltk_data] Downloading package vader_lexicon to /root/nltk_data...\n"
          ]
        },
        {
          "output_type": "execute_result",
          "data": {
            "text/plain": [
              "True"
            ]
          },
          "metadata": {},
          "execution_count": 2
        }
      ]
    },
    {
      "cell_type": "code",
      "source": [
        "sia = SentimentIntensityAnalyzer()"
      ],
      "metadata": {
        "id": "CMh8aanXAWXW"
      },
      "execution_count": null,
      "outputs": []
    },
    {
      "cell_type": "code",
      "source": [
        "df=pd.read_excel(\"/content/All Car.xlsx\")\n",
        "\n",
        "review_data = df[[\"Car_Name\",\"Review_Text\"]]"
      ],
      "metadata": {
        "id": "zfauyriW-ch5"
      },
      "execution_count": null,
      "outputs": []
    },
    {
      "cell_type": "code",
      "source": [
        "review_data.head()"
      ],
      "metadata": {
        "colab": {
          "base_uri": "https://localhost:8080/",
          "height": 206
        },
        "id": "vqHyRJrrW-gA",
        "outputId": "d97e3600-b4e9-4ec6-d2b8-40cb0171f4f8"
      },
      "execution_count": null,
      "outputs": [
        {
          "output_type": "execute_result",
          "data": {
            "text/plain": [
              "       Car_Name                                        Review_Text\n",
              "0  Hyundai Kona  Nice car with good Hyundai service, but car is...\n",
              "1  Hyundai Kona  Versatile and powerful car.The Hyundai Kona El...\n",
              "2  Hyundai Kona  I have driven Hyundai Kina Electric Premium pu...\n",
              "3  Hyundai Kona  Not nice bro you should by kia carens or xuv70...\n",
              "4  Hyundai Kona  I test drove Kona EV. It is driver 's car with..."
            ],
            "text/html": [
              "\n",
              "  <div id=\"df-caa31890-97fd-445c-b081-efbaf275c326\">\n",
              "    <div class=\"colab-df-container\">\n",
              "      <div>\n",
              "<style scoped>\n",
              "    .dataframe tbody tr th:only-of-type {\n",
              "        vertical-align: middle;\n",
              "    }\n",
              "\n",
              "    .dataframe tbody tr th {\n",
              "        vertical-align: top;\n",
              "    }\n",
              "\n",
              "    .dataframe thead th {\n",
              "        text-align: right;\n",
              "    }\n",
              "</style>\n",
              "<table border=\"1\" class=\"dataframe\">\n",
              "  <thead>\n",
              "    <tr style=\"text-align: right;\">\n",
              "      <th></th>\n",
              "      <th>Car_Name</th>\n",
              "      <th>Review_Text</th>\n",
              "    </tr>\n",
              "  </thead>\n",
              "  <tbody>\n",
              "    <tr>\n",
              "      <th>0</th>\n",
              "      <td>Hyundai Kona</td>\n",
              "      <td>Nice car with good Hyundai service, but car is...</td>\n",
              "    </tr>\n",
              "    <tr>\n",
              "      <th>1</th>\n",
              "      <td>Hyundai Kona</td>\n",
              "      <td>Versatile and powerful car.The Hyundai Kona El...</td>\n",
              "    </tr>\n",
              "    <tr>\n",
              "      <th>2</th>\n",
              "      <td>Hyundai Kona</td>\n",
              "      <td>I have driven Hyundai Kina Electric Premium pu...</td>\n",
              "    </tr>\n",
              "    <tr>\n",
              "      <th>3</th>\n",
              "      <td>Hyundai Kona</td>\n",
              "      <td>Not nice bro you should by kia carens or xuv70...</td>\n",
              "    </tr>\n",
              "    <tr>\n",
              "      <th>4</th>\n",
              "      <td>Hyundai Kona</td>\n",
              "      <td>I test drove Kona EV. It is driver 's car with...</td>\n",
              "    </tr>\n",
              "  </tbody>\n",
              "</table>\n",
              "</div>\n",
              "      <button class=\"colab-df-convert\" onclick=\"convertToInteractive('df-caa31890-97fd-445c-b081-efbaf275c326')\"\n",
              "              title=\"Convert this dataframe to an interactive table.\"\n",
              "              style=\"display:none;\">\n",
              "        \n",
              "  <svg xmlns=\"http://www.w3.org/2000/svg\" height=\"24px\"viewBox=\"0 0 24 24\"\n",
              "       width=\"24px\">\n",
              "    <path d=\"M0 0h24v24H0V0z\" fill=\"none\"/>\n",
              "    <path d=\"M18.56 5.44l.94 2.06.94-2.06 2.06-.94-2.06-.94-.94-2.06-.94 2.06-2.06.94zm-11 1L8.5 8.5l.94-2.06 2.06-.94-2.06-.94L8.5 2.5l-.94 2.06-2.06.94zm10 10l.94 2.06.94-2.06 2.06-.94-2.06-.94-.94-2.06-.94 2.06-2.06.94z\"/><path d=\"M17.41 7.96l-1.37-1.37c-.4-.4-.92-.59-1.43-.59-.52 0-1.04.2-1.43.59L10.3 9.45l-7.72 7.72c-.78.78-.78 2.05 0 2.83L4 21.41c.39.39.9.59 1.41.59.51 0 1.02-.2 1.41-.59l7.78-7.78 2.81-2.81c.8-.78.8-2.07 0-2.86zM5.41 20L4 18.59l7.72-7.72 1.47 1.35L5.41 20z\"/>\n",
              "  </svg>\n",
              "      </button>\n",
              "      \n",
              "  <style>\n",
              "    .colab-df-container {\n",
              "      display:flex;\n",
              "      flex-wrap:wrap;\n",
              "      gap: 12px;\n",
              "    }\n",
              "\n",
              "    .colab-df-convert {\n",
              "      background-color: #E8F0FE;\n",
              "      border: none;\n",
              "      border-radius: 50%;\n",
              "      cursor: pointer;\n",
              "      display: none;\n",
              "      fill: #1967D2;\n",
              "      height: 32px;\n",
              "      padding: 0 0 0 0;\n",
              "      width: 32px;\n",
              "    }\n",
              "\n",
              "    .colab-df-convert:hover {\n",
              "      background-color: #E2EBFA;\n",
              "      box-shadow: 0px 1px 2px rgba(60, 64, 67, 0.3), 0px 1px 3px 1px rgba(60, 64, 67, 0.15);\n",
              "      fill: #174EA6;\n",
              "    }\n",
              "\n",
              "    [theme=dark] .colab-df-convert {\n",
              "      background-color: #3B4455;\n",
              "      fill: #D2E3FC;\n",
              "    }\n",
              "\n",
              "    [theme=dark] .colab-df-convert:hover {\n",
              "      background-color: #434B5C;\n",
              "      box-shadow: 0px 1px 3px 1px rgba(0, 0, 0, 0.15);\n",
              "      filter: drop-shadow(0px 1px 2px rgba(0, 0, 0, 0.3));\n",
              "      fill: #FFFFFF;\n",
              "    }\n",
              "  </style>\n",
              "\n",
              "      <script>\n",
              "        const buttonEl =\n",
              "          document.querySelector('#df-caa31890-97fd-445c-b081-efbaf275c326 button.colab-df-convert');\n",
              "        buttonEl.style.display =\n",
              "          google.colab.kernel.accessAllowed ? 'block' : 'none';\n",
              "\n",
              "        async function convertToInteractive(key) {\n",
              "          const element = document.querySelector('#df-caa31890-97fd-445c-b081-efbaf275c326');\n",
              "          const dataTable =\n",
              "            await google.colab.kernel.invokeFunction('convertToInteractive',\n",
              "                                                     [key], {});\n",
              "          if (!dataTable) return;\n",
              "\n",
              "          const docLinkHtml = 'Like what you see? Visit the ' +\n",
              "            '<a target=\"_blank\" href=https://colab.research.google.com/notebooks/data_table.ipynb>data table notebook</a>'\n",
              "            + ' to learn more about interactive tables.';\n",
              "          element.innerHTML = '';\n",
              "          dataTable['output_type'] = 'display_data';\n",
              "          await google.colab.output.renderOutput(dataTable, element);\n",
              "          const docLink = document.createElement('div');\n",
              "          docLink.innerHTML = docLinkHtml;\n",
              "          element.appendChild(docLink);\n",
              "        }\n",
              "      </script>\n",
              "    </div>\n",
              "  </div>\n",
              "  "
            ]
          },
          "metadata": {},
          "execution_count": 5
        }
      ]
    },
    {
      "cell_type": "code",
      "source": [
        "#review_data=list(review_data[\"Review_Text\"])"
      ],
      "metadata": {
        "id": "bsevRq8H-yLC"
      },
      "execution_count": null,
      "outputs": []
    },
    {
      "cell_type": "code",
      "source": [
        "car_names = df[\"Car_Name\"].unique()\n",
        "\n",
        "car_names"
      ],
      "metadata": {
        "colab": {
          "base_uri": "https://localhost:8080/"
        },
        "id": "wSsuasjVh5m3",
        "outputId": "c4814baf-58a3-47c7-8cb2-a1a615e31737"
      },
      "execution_count": null,
      "outputs": [
        {
          "output_type": "execute_result",
          "data": {
            "text/plain": [
              "array(['Hyundai Kona', 'KIA EV6', 'MERCEDES BENZ EQS',\n",
              "       'MERCEDES BENS EQS', 'mercedes bens eqs', 'MG ZS EV',\n",
              "       'TATA Nexon EV max', 'TATA NEXON EV MAX', 'TATA NEXON EV',\n",
              "       'TATA Tigor EV', 'Tata Tigor'], dtype=object)"
            ]
          },
          "metadata": {},
          "execution_count": 7
        }
      ]
    },
    {
      "cell_type": "code",
      "source": [
        "car_reviews_dict = {}"
      ],
      "metadata": {
        "id": "sAkWrF_-pj1s"
      },
      "execution_count": null,
      "outputs": []
    },
    {
      "cell_type": "code",
      "source": [
        "for car_name in car_names:\n",
        "    car_reviews = review_data.loc[review_data['Car_Name'] == car_name, 'Review_Text'].tolist()\n",
        "    car_dict = {'reviews': car_reviews}\n",
        "    car_reviews_dict[car_name] = car_dict"
      ],
      "metadata": {
        "id": "YLKJ_v1KmAmD"
      },
      "execution_count": null,
      "outputs": []
    },
    {
      "cell_type": "code",
      "source": [
        "print(car_reviews_dict)"
      ],
      "metadata": {
        "colab": {
          "base_uri": "https://localhost:8080/"
        },
        "id": "c7HH79kWpnhY",
        "outputId": "d6f2fc80-aec7-4db3-fdb8-41e6afd4b8fd"
      },
      "execution_count": null,
      "outputs": [
        {
          "output_type": "stream",
          "name": "stdout",
          "text": [
            "{'Hyundai Kona': {'reviews': ['Nice car with good Hyundai service, but car is outdated will no real space at all. It is overpriced, and only reason to buy is if you do not like Tata and MG. It has good range of 320 kms, better than Nexon ev max.', \"Versatile and powerful car.The Hyundai Kona Electric Premium will be the first All-Electric SUV in India. It's power packed performance provides a thrilling driving experience with high acceleration over long distances.The Hyundai Kona Electric Premium is here to change the way people think about going electric.\", 'I have driven Hyundai Kina Electric Premium purchased by one of my friend. The experience was very exciting and I am interested to buy Kona now. I have contacted Raja Hyundai ar Sirsa for the same. They showed inability to deliver Kona.', 'Not nice bro you should by kia carens or xuv700 instead of this or buy Hyundai                                  \\nalcazar it has a lot of features with nice looks.', \"I test drove Kona EV. It is driver 's car with fantastic and smooth steering good suspension & reasonable acceleration. I wish larger boot space so that my golf trolley and bag to fit in.  Now I'll have to lower one rear seat to house my golf equipment.\", 'Superb car like as fantastic as petroleum car. Speed is superb. I bought this 2 months ago and it looks premium and fantastic. The car is amazing. This is one of the most number 1 car in the sports car market.', 'Anti national,  worst service, worst customer car, worst dealings to indian customers, over priced, less mileage  huge maintenance cost, have better options in India other than Hyundai.', 'Super happy with it. The car is too good', 'Pretty good car, smooth as a glider fast car, instant pickup and the range in one charge is also pretty good as well, so we can go more miles, a catchy car grab our eye balls everyone wants to ride this', 'Price difference between petrol and electronic could not convince customer to buy electronic car. Difference amount can use for Life time use of petrol diesel car. Moreover long ride is big concern for charging. Only useful for fix route of almost 100 km. Price should be reduced and charging pump should be developed more.', 'Except for the short legroom in the rear, this is a performance car. I wish they are completely removed the boot as electrics will be only a second or third car in most families. This would have given far more leg room for rear passengers. Brilliant car otherwise.', 'Good experience good driving experience all performance good very low maintenance good buying experience and driving experience and good looking wise and good performance etc. Low maintenance', 'Great car purchased from Hindustan Hyundai in Jaipur. Happy with their customer service and staff. Would definitely encourage my family to purchase from them and this car is fabulous.', \"This car is a perfect, modern and stylish car one thing I like about the car it's is long-range and is safe and it so eye-catching a man just cross the road just to ask which Hyundai car is this lastly I love this car I hope you do thanks for your time\", 'Very good performance, silent engine sound, amazing interior and exterior design, low-cost maintenance, comfortable seat driving seat space is good, backspace is amazing. Overall good!', 'Such a very excellent drive, very comfortable, digital and save environment save fuel for future energy. So sporty feel and save money they help easy life and fast-changing option entire zone so cool future tech.', 'Its so amazing and they give best performance. Its battery backup also cool and i like its fast charging. It is more useful for our future. But it is so costly. My advice to add solar panel on the roof.', 'I like this car very much. Because this car is very comfortable for all. I love this car. Riding is very smooth. It fills like a sport car. Servicing method are very easy . This car looking  very sporty. This car is this car is very fast . I buy the car then I show this to my family they will very happy to see this car. Because my all family members are like a sport car.', \"I bought this electric car 2 months back, driven 9900 kms until now. It runs 250 kms around with a single charge comfortably with AC on. Then u have to charge for complete peace of mind. Price high but u get 40% depreciation in your ITR for consecutive 4 years which means u haven't paid anything except for insurance and RTO. please make this car with two sets of battery, one for 250 kms and other for 125 kms, and alternatively, they should get charged by the regenerative power energy source and kinetic energy too thus KONA will go beyond 1000 kms. Very smooth, silent ride. Cruise control and hill assist presently. 2 negative points. Rear seats not having any fan facility and rear shockers are not too good.\", 'Amazing,Amazing\\nFully electric car with amazing power delivery and Battery efficiency with amazing warrenty.\\nHyundai did great job.\\nSurely Hyundai is the Future for Automotive\\nOne thing in India the govt must reduce the tax of this car..\\nby govt tax its around 30lakh in my city..\\nbut with out tax its about 25lakh...\\nIndian Govt please reduce the tax..', 'So here it is the hyundai kona electric the car which completely changed the electric segment in the indian car industry to driving experience with high acceleration long distances', \"I m observing this car from  6 months.. And finally it is launched..\\nHave talk with the local dealer of hyundai about test drive and booking..\\nIt looks amazing with all features in one roof.\\nAnd with 8 years battery guarantee.. It's great car in India..\\nAs per price wise it's some expensive. Must work on price for future of car.\", \"Electric car it's an copy of i20\\nCharging time is too slow 25lakh is higher it's too costly because  of its rate most of the customers will not prefer for the electric car..if its below 16lakh  the car konac will be up I n Indian  market....  they have to introduce more charging stations or points in highways\", 'Everything is premium about the car the seats suspension drivetrain power really dont want to see another I.C engine car ever after this beauty offering 8 years warranty is amazing its best value for people who do 15000 or more kms a year looks are good from the front i wish tuesday rear was done better service and maintenance is almost zero and car pays back for its self its like buying solar panels', \"This is very important segment in our Indian car market and costumers setisfaction it's Zero fuel emulsion but one point disappointed its price other side all things are good before this segment in our country no big options in this segment but now we people's we have choices and also better option in future after coming this car so m very excited for this product thank you\", \"Everything is ok. And I greatly appreciate Hyundai's innovation in bringing electric cars but the price for this is too much and even if the gst gets reduced it will come about 20l but there are many competitors in that range except for the electric transmission.  \\n\\nTo be successful in Indian market they should\\n\\n1.Reduce the price\\n\\n2.implement more electric stations around major cities\\n\\n3.service should be improved incase for electric cars\\n\\n4.free service should be given for at least 8 times\\n\\nAnyway hatsoff for Hyundai for their innovative electric car in Indian roads\", 'Wonderful Hyundai love u Brand amazing driving break comfort sit and super engine and body is very much I like careem colour and premium service and the same time and consideration for the first time I think it would have been able in my life of this communication including attachments are handled a great', 'One of the best EV car available in India with very good range. The price is also the best according to the standards of the car and such a long range drive in one charge.\\nThe power is decent which is sufficient for Indian road users. \\nThe best part of the car is you can save a lot of money while protecting the environment.', 'All off good in this car.i really about to buy it. Excellent car. Hyundai is best company of the year. Its great to drive kona.i love Hyundai verna to. Hyundai is the great customer support. So nicely care about car. And fuel economy is the always satisfied.driving performance are also cool.i like this car.', 'Car is ok... Looking awssmmm and all... But huge question is still now i dint seen of any electric stations...also cost of the car s too much... Not happy\\n\\nAnother thing is wat so difference of using petrol/diesel and electric cars... To reduce the pollution... If it is soo you guyz producing battery for large size in factory... Tat ll not make pollution??', \"As we all know the future is all with electric vehicles, and we didn't yet had any top edge EV cars in india we only had was the Tata tigor and mahindra ev which are the worst ev's, but this kona had impressed me a lot more than petrol cars, it had a seat warmer which is a new feature that is only available in luxury cars, the pick up was awesome, the drive was so smooth.\\nAll I want to say is just go a head and purchase it, don't think about charging it takes only 2 hrs hardly to charge it quickly with the DC Charger,.\\nGO GREELECTRICAL\\nSAVE ENVIRONMENT.\", 'Best car i hv drive till date it is so comfortable that like you are at your home so please buy it fuel efficiency is good very interesting car in this price segment that you see in market,. Thanku Hyundai for launching such beautiful car it hv made our drive hobby and i m fully addicted to this car..', 'It is very good car which help the country from pollution and saves the environment. Its maintenance and servicing cost is also very low as compared to other cars therefore in future we see electric cars between us which is very helpful for our country .if I bought this car then I will be very thankful to that person who had made this car', 'No 1 car in india electric car. Car is so exelent .Speed are so speedy .This cars is no maintance . Performance so very nice .and looks are so beautifull.and very comfartabel car. Engine is so highe perfomance .and good looking designs. And aagad paglchad ne badhi rite jordar car banava ma aavi che .aa car ne game tem chalao moj aavi jay .indias first electirv car so more n more buy this car\\n. So 1 millon s cars sell only 1 months thats perfomance . So good car thankyou so much \\nHundai', 'Hyundai Kona Electric is extremely good car but expensive for its size and performance. We should wait for reduction in GST and road tax which is likely to reduce the price by couple of lakh rupees. If or as And when car is available for Rs 20-22 lakh I for sure will buy it. Electric cars indeed would be cheaper to operate.', \"An i20 for 30 lac.  Good. That's a car worth buying. 452 mileage arai certified.  That's a joke right.  Actual will be half than claimed. I'm waiting for maruti to launch it's electric version of wagon R for the price of 12 lac. What if ur warranty runs out and you need battery change  then what. Re finance it again.\", \"Car is amazing car comes with every safety features ,  but need charging points all over the country and price is higher can't able to buy for middle class people i my opinion they should have base variant in that case price will be affordable for everyone  i hope hyndai will launch more basic variant electric cars\", \"So the future of Indian cars have arrived! Hyundai certainly has heated up the competition in EV segment too now...As currently the Kona Electric is completely build unit that's why the initial cost is looking a bit high because of import tax etc..I hope that it gets upto 20 lakhs after complete manufacturing in India! This is a bang on car and all the best to Hyundai for this!\", 'Wow its an awesome car. And a great car for all people. But they are not launched by manual gear. This are the mistakes. If they launched the manual gear its very great. Please fix an manual gear as soon as posible. While iam seeing the Hyundai car all are awesome. So all of u just trust the Hyundai and buy the car.', 'Comfortable with the latest features. Low running cost. Good seating capacity and it is a good-looking car. Good boot space and a lovely exterior and interior. Value for money car.Read More', 'I took a test drive of the Kona EV. A superb car-like as fantastic as a petrol\\xa0car. It comes\\xa0with fantastic and smooth steering, good suspension & reasonable acceleration. Speed is superb. It looks premium and fantastic. The car is amazing. This is one of the number 1 cars in the sports car market. Instant pickup and the range in one ...Read More', 'Ultimate EV, smooth drive, amazing interiors, good road grip, bigger and wider tires, and exterior look is no less than a premium vehicle like BMW.', 'This is a beautiful car and gives many best features. Its airbags are good and have a beautiful look with a comfortable seat.', 'I took the test drive and the feeling was awesome the power and comfort provided by Hyundai are just the best and talking about the features, all the features are the best in the segment.Read More', 'GOOD CAR WITH NICE SAFETY FEATURES,\\xa0EXCELLENT PERFORMANCE, AND ALSO WITH GREAT ABILITY OF MILEAGE. TILL NOW IN THE ELECTRIC VEHICLE SEGMENT FROM MY EXPERIENCE THIS HYUNDAI KONA IS A GREAT VEHICLE AND VERY EXCITING THING IS THAT IT IS BUDGET-FRIENDLY.\\xa0Read More', 'This car is expensive and needs to increase seating capacity,\\xa0wide sunroof,\\xa0and less\\xa0price.', 'Apart from all the online reviews my personal overall experience of Hyundai Kona was literally very amazing, from interior to exterior, from exploring to driving.\\xa0Everything is perfect in this car and it provides amazing features at a very competitive price in the market right now.\\xa0Read More', 'Hyundai Kona electric car is very comfortable and secure but the electric range is very low, this car very expensive for a middle-class family.\\xa0', \"Using it for the last 1 month.\\xa0It's a gentle-looking beast.\\xa0The pickup power is amazing. I tried 2 competitions cars in this segment. This is the best. Refined and well built,\\xa0and superior performance. The Audio system is better than a premium car segment.\\xa0The Bluetooth\\xa0connectivity to stream all music from a phone, music a...Read More\", 'In the beginning, the car performed excellently well, but after 4 months the mileage on a full charge steadily reduced, and finally, it would not start at all. After paying a hefty amount for this car l am left without a vehicle and the Hyundai service people assured me that would send a replacement vehicle which they kept postponing with lame excu...Read More', 'Battery life and its deterioration with time need to know, also the cost of battery replacement and any battery assessment tool of equipment.\\xa0', \"Well, an electric car this is the tesla of India you can't go wrong with 400 hundred km charging no need for fuel just go on plug the car and at morning you have a full tank of gas.Read More\", 'This car would be the best selling car in India because of technology and design.', 'This is a very useful vehicle and non-polluting.\\xa0The Hyundai Kona is a very modern car and stylish too.', \"I bought this electric car 2 months back, driven 9900 kms until now. It runs 250 kms around with a single charge comfortably with AC on. Then u have to charge for complete peace of mind. Price high but u get 40% depreciation in your ITR for consecutive 4 years which means u haven't paid anything except for insurance and RTO. please make this car wi...Read More\", 'Best car I have ever owned. A paradigm shift in the automotive sector. Easy to drive. Real-life range of 330km on a full charge.', 'Its new electric car of Hyundai fully loaded with features and best technology. Its seats are very comfortable too.', 'Hyundai Kona is a gem of a car. It has all you can get out of a vehicle. power, balance while driving, comfort, fuel economy, reasonable maintenance, what more you need. First I would like to clarify that this review is entirely based on my experience with the vehicle. Being a mechanical and marine engineer, It was obvious that I had to do complete...Read More', 'Hyundai Kona is a brilliant car! Love the driving experience. I am able to get 9.0 to 10.2km per k/h in the city. Traffic or no traffic, this car rocks. Eco mode works really well. The seat ventilations a great feature as well. Kona is a game-changer in India. Zero road tax and reduced insurance have made this car an absolute winner.Read More', \"Hyundai Kona - First electric car of India was REVA but it was a very compact two-seater car with very odd design, it failed because of lack of R&D by the company's team. But Hyundai Kona Electric is an elite vehicle and it will attract n number of customers. The charging station will boost the sales of Hyundai. Those who are habitual of a manu...Read More\", 'The car is a bit high priced and great in its segment.', 'The car is high priced when compared with other cars of the same segment.', 'I swear the car is very smooth and quiet. The car has no maintenance because it is electric. And it has features like internet connectivity and other features that all the Hyundai cars have.Read More', 'The car is very expensive,\\xa0the maintainence cost is very cheap when compared with\\xa0electric vehicles.', 'In India first electric car I am so happy to buy this car. To control our environmental air pollution and everyone wants to encourage this electric car. I hope at the end of the 2020 year be the top-selling electric cars. Great ideas and innovations.Read More', 'Better than all diesel and petrol cars May be this will be the greatest achievement for Hyundai to launch the electric var in India. The price is a little more than fuel cars but according to me, it will be best SUV in India. We indians really need this type of stylish SUV in electric variant.Read More', 'Hyundai Kona is better than all diesel and petrol cars. Maybe this will be the greatest achievement for Hyundai to launch the electric car in India. The price is a little more than fuel cars but according to me, it will be the bestest SUV in India. We Indians really need this type of stylish SUV in electric variant and it seems like it will be not ...Read More', \"Hyundai Kona is the 1st SUV to run in India with electricity. Its design is of another level just like a futuristic concept model. It's just smaller than Creta\\xa0in size. But it looks big. Near the bonnet, we can see the long indicator below it is the led headlamp just like the venue. The grill is missing in this car as its an electric car it do...Read More\", 'Not worth the money, the price needs to come down for masses. Fast charging a must for anyone to buy.', \"Best Car. First Electric car in India. With the best features. I think it is better than other company's cars.\", 'Hyundai Kona is the best electric car,\\xa0the pick up is just amazing.', 'This is the worst car in the segment. The features are not working properly. It is not a worthy car.', 'This is a wonderful car. The interior design is the best. The safety features are amazing.', \"Hyundai Kona is India's first electric SUV car. It is the right car for the environment and will be the best\\xa0car in India.\", 'Wow, it is an excellent design, futuristic & innovative. But the price is pretty higher.', 'Hyundai is the best performing\\xa0company beating all other vehicles. Hyundai is\\xa0the first choice of people at present providing best services to its customers. Hyundai in electric segments of cars will beat all-electric cars of other companies and will set new level standards. It will be the first choice of people of New India.Read More', 'The car is really good. Excellent idea from the company. Prices are high, so please work on them. Make more products like these in a good range of price which is affordable for all. Reveal the car as soon as possible so the new generation of cars start and use of fuel vehicles are stooped.Read More', 'Superb car,\\xa0 I like its designing full of features, good colour, fully-loaded car,', 'An amazing car with best design and amazing looks available\\xa0', 'A nice car from Hyundai. Hyundai Kona is the best EV car which is Hyundai is launching eagerly waiting for it to take a drive.', 'This is an excellent car. The features are very impressive. The looks are really classic.\\xa0', 'Kona is a good car very interesting to know about it. I am proud that I am going to buy this. Good price because it is an electric car. It is an electric SUV.', 'The car offers reasonable performance in this\\xa0range. I hope the price of the car is kept at or around Rs 20 lakh. It can be a very good option for those who drive around 12000 km a year with fewer outstation trips.Read More', \"It's a great\\xa0new for the Indian market. I hope the biggest problem\\xa0of\\xa0pollution\\xa0in India will be sorted by Kona electric. Best suited for metro city and much more.Read More\", \"awesome car should be a great start in india for new talented india that's a great achievement\", 'Showroom price and mileage service cost delivery time', 'I liked the hyundai kona, And the name in itself sounds cute.It is a feature-rich car not just in terms of characters of the car but look-wise too.One more selling point is the affordable price range along with safety standards.I have already booked this car for just one test drive.', 'I like this car and in degree i am going to buy it', 'Hyundai kona ev is equipped with a 100kw dc fast charger that can charge the suv up to 80% in just 54 minutes.The kona ev is expected to cost between rs 25 lakh and rs 30 lakh.', 'nice model.Very beautiful and very stylish looking car.', \"I've been using it for three years.Excellent performance and no maintenance costs.But now is the right time for hyundai to update and expand its model lineup.Just changing the colour palette three years after the kona's introduction is nonsense.Hurry up, Hyundai.\", 'It is a well-designed electric car that takes off the attention of any car very easily.The front grille looks quite attractive and soothing with a usb charging connector.Charging time is okay at 6 hours, But the driving range is 280km only not as claimed by the company.', \"I tried out the kona ev.It has excellent and smooth handling, Strong suspension, And respectable acceleration, Making it a driver's vehicle.I would want a larger boot so that my backpack and golf cart could fit inside.I'll now need to lower one of the back seats to make room for my daily supplies from the market.\", 'The car is very good, It is very good for middle class people, This car does not cause any air pollution']}, 'KIA EV6': {'reviews': [\"It's a great design.Kia EV6 is the future car.Kia did a brilliant job in terms of design and comfort.This definitely looks like a perfect sports car.If you're planning for an Kia EV6 this really is the one for you.\", \"I was able to test ride it for a few KMs, performance is unmatched by anything I've driven before, and features and range are also good. There are some areas where there's room for improvement, There's a space in front of the shifter where you have to keep your phone if you want to use Android Auto/ Apple CarPlay, it's really awkward to access as it's built deep, the infotainment system has a room for a lot of improvement, it's laggy and slow to respond, and just should be better.\", 'Kia has big plans to establish itself as an all-electric car company. Family car buyers looking for a capable, electric car will find that the Kia EV6 easily fits the bill. Its sleek and stylish appearance offers plenty of kerb appeal, while the EV6 is also good to drive. It is more of a sporty family crossover than a traditional SUV.Read More', 'The Kia EV6 is a mix of a Hatchback and an SUV, it has good dynamics reminds us of the Jaguar pace and Aston Martin DBX. It has power tailgates with a big boot space. The rear seats do not have good under-thigh support because of the battery placed underneath. Overall, the car is pretty good but slightly overpriced. This car would have looked good ...Read More', \"Kia EV6 is the first dedicated battery electric vehicle of the company. It's fast, fun to drive, unique to look at and of course, has all the required green credentials. However, the rear seat experience is average with not enough features or even accessories. According to me, it is a large hatchback and a futuristic car.Read More\", 'Kia EV6 offers good driving dynamics, impressive efficiency and range, and more cargo room than some electric competitors. It comes with great features, and the dashboard is quite futuristic, with the infotainment and instrumentation screens arranged in a floating manner.Read More', 'In the EV section it has good mileage, the best features as required, best safety features, overall Kia EV 6 is a very good car as compared to other EV cars. Very very satisfying car.Read More', \"At launch, the EV6 would cost more than Rs 50 lakh. We believe Kia's modest goal of 100 units should be quickly attained, but what's more crucial to note is that the EV6 is an excellent entry-level vehicle and a harbinger of great things to come from Kia. But all of this will undoubtedly cost moneyRead More\", 'Unbelievable look and good\\xa0features car.\\xa0Its heavy performance and style were outstanding. The mileage and perfect shape with advanced features.', 'There is no doubt that the Kia EV6 has the potential to be a halo EV product and that it is a very amazing product from Kia Motors. Sure, the interior could use fewer plastics, but the spaciousness, design, and equipment more than makeup for it. It also has a stunning appearance, accelerates like a demon, and has what we consider to be a decently u...Read More', 'Amazing car with amazing feature seats feels 1st class comfort, the steering wheel is also very smooth to rotate.', 'Lovely look and looks very comfortable, the mileage is average but the overall look is perfect, This Kia E6 can be the future of cars.\\xa0', \"Kia EV6 boasts of a hunched-down and aggressive stance, No matter what angle it is viewed from. It is made even more pronounced from the front, and it is from this angle that it looks like a hot hatchback. But in reality, it's a notchback.Read More\", \"Overall package given by Kia is amazing. Maybe Rear design is inspired by Aston martin but I don't like front design, it looks like baleno and jaguar electric car, in that point I'm disappointed. But the performance, comfort, feature and interior is unmatchable. There is no competitor of EV 6 in India right now and that research done by Kia is just...Read More\", 'Good Car but only value for money under 35-40 lakhs not worth at price of 65lakh and power also feel to low as a normal car and there are some glitches in the software also.Read More', \"Looks attractive and\\xa0the kilometer range is very good.\\xa0It's very spacious, and a combination of an SUV and sedan is amazing.\", 'Good car with smart look and\\xa0best price. It comes\\xa0with all facilities in it. Best one in the market.\\xa0', 'Best design, performance, and comfort good car, it goes swiftly, amazing\\xa0performance, and awesome design.', 'Overall the experience is great,\\xa0the seating quality of this\\xa0car is very comfortable and the exterior looks are also good.\\xa0And the performance of the car is also great.\\xa0Read More', 'Such a\\xa0nice design in the EV segment. Includes a premium interior and exterior look. Impressive\\xa0headlamps design.', 'It was great to have a company like Kia because it gives the best quality of cars on a low budget.', 'The overall experience of this new Kia\\xa0EV6 is loaded with features.\\xa0The premium quality and feeling with the appropriate price.', 'Very good car with the best performance, best features and best comfortability. This car gives a luxurious feeling and is not much expensive.', 'This is a kind of future generation car present in the present world. Its interior, as well as exterior, are excellent. Its engineering is so nice. Its design is so much attractive and anyone can love it. It is superb.Read More', 'More stylish than most mainstream EVs, has athletic and refined driving behavior, comfy and roomy inside. LOWS Infotainment system has some drawbacks, lacks a game-changing driving range, small front trunk space. VERDICT The EV6 is a new entry in the growing EV market, bringing an exciting design and entertaining dynamics.\\xa0Read More', 'This all-new EV looks great and is comfy. Great work KIA toward a new world. 0-60 km/h in 5 sec, satisfaction for speed lovers too.', 'The car is premium, feels everything is looking rich. The pros: looks are ultra luxury and have excellent range. The cons: the price is too high.\\xa0', 'Kia ev6 is a very uniqe car without doubt.It is very quick & fun to drive, It has some exclusive features, It is very spacious & also packed with safety features and promising a decent range too.First car to bring augmented reality to india.', 'Kia ev6 is a rather expensive ev vehicle.Although it has a lot of features and a good range it would not be very popular in india as it is expensive.The driving is very comfortable and the looks are very futuristic as well.The design is very bold and attractive.', \"It's been quite a few months in terms of its slaunch in the market but still, Kia ev6 could not achieve the target it desired or hoped for.Though it is one the most stunning looking car in the electric vehicle segment it is priced too much and it would not make it to compete even compete with rivals.Kia has good features but it should be practical enough for buyers in terms of price range.\", 'The rear seats disappoint because they lack under thigh support and a fairly tall person will not be very comfortable.The rear seats too come with a 60:40 split and that translates into clever use of space especially, If you have more bags to transport.', 'Best car good work so expensive good looking and feeling better and nice car', 'Ev6 is the first electric car from kia.This car gives you the best performance and its looks and design are so attractive that it can captivate anyone.Kia has claimed about this car that it can be driven up to 500 km on a single charge.If you want to buy an electric car then this can be a good option for you.', 'I love features and best experience ', 'Kia ev6 is a rather expensive ev vehicle.Although it has a lot of features and a good range it would not be very popular in india as it is expensive.The driving is very comfortable and the looks are very futuristic as well.The design is very bold and attractive.', 'Ev6 is the first electric car from kia.This car gives you the best performance and its looks and design are so attractive that it can captivate anyone.Kia has claimed about this car that it can be driven up to 500 km on a single charge.If you want to buy an electric car then this can be a good option for you.', \"The electric ev6 is among the boldest and most exciting kia's we’ve seen.This car is spacious and sleek with fast charging capability, Excellent power, And an anxiety-reducing maximum range of 310 miles.It could be described as a high-riding hatchback.I think this car is going to b**w your heart.\"]}, 'MERCEDES BENZ EQS': {'reviews': ['Next Gen Car ... Soon we can expect more car like this ...Interior is Superb with outstanding display ..performance is also good ...Electric Vehicles Will rule the roads in future ..Mercedes Rocks', 'The main focus of this car is about performance and the interior given by the Mercedes. It is one of the best electric car till known. The average of this car is quite good at this range.']}, 'MERCEDES BENS EQS': {'reviews': [\"As a Mercedes Benz EQS owner, I couldn't be happier with my purchase. The car is not only sleek and stylish but it's also packed with cutting-edge technology. The electric powertrain provides instant torque and smooth acceleration, making for a truly exhilarating driving experience. The interior is spacious and luxurious, with high-quality material...Read More\", 'Overall amazing car with good\\xa0comfort. It drove 600 km in single\\xa0charging, and\\xa0it looks very appealing.', 'Best in the class car\\xa0and immersive performance from an electric car. It is\\xa0a wonderful interior with a dynamic screen.', 'Such a super and great interior design.\\xa0Fast charging feature are mind-blowing with decent\\xa0mileage. I like it from bottom of my heart.', \"Best in class Mercedes, I'm experiencing the best auto ever, this gives me technology and class with mileage\"]}, 'mercedes bens eqs': {'reviews': ['Vhecycle renge is awesome because mercedes benz but price is so high', 'This is a very good and best and brightest and beautiful car.', 'This car is fully electric and it is very very very nice', 'Car with excellent mileage, I want to start dealership of this car, I want bmw ceo to contact me.', 'So pleasing and dynamic appearance.Looks sturdy and aesthetic too.']}, 'MG ZS EV': {'reviews': [\"While sub 30L EVs choices are still quite limited now, my major choice between MG ZS and Nexon EV was, like most other buyers, range anxiety. Nexon looks decent, almost 8L cheaper lost because talking to some owners gave me worries about being less 250KM on full charge. 250 is a distance that's not bad for city drivers. But given how EV Charging infrastructure is in India right now seemed risky.  Some users do claim 300 Range on EV MAX but when I checked in their App stats that seemed like far fetched claim. Glad to have chosen MG ZS though the cost was quite higher. ARAI claim was 461KM but after crossing 2000 KM on my MG including a 1000KM long drive I can pretty much have a honest stat to provide. \\n\\nCity driving: You will easily get 320-350 depending on your driving habit.\\nHighway driving: if you drive well, utilizing cruise controls, non-aggressive accelerations, KERS braking  you can easily get 380-400. \\nHaving sunroof a little open or AC on internal circulation, you can conserve range well.   But you will definitely sacrifice somewhat 20-30KM.\\n\\nPerformance: Well, ECO mode is what you mostly need, Normal has a lot of power. Sports mode, save it for afterlife. the car never feels lacking power even in Eco mode. In fact, Steep office parking ramps are easily overpowered in ECO mode itself. I have done 150 Km/h in eco mode easily. Haven't tried that in SPORTS.  Hill driving is smooth. There is hill decent assist as well. Auto brakes assist not rolling backwards. Superb easy to drive.\\n\\nLooks: Car looks great from front (Minus the front grill that they have reworked out of Astor, made of flimsy plastic. you can bend it with single finger press ). I really hope MG redoes the front grill for ZS EV. The back is really ordinary. Nothing of it looks like a 28L+ car.  No Fog lamps (WTF MG), Headlights are decent (Expected more lumens). Panoramic Sun roof is great. Interior is pretty good, premium  and organized.\\n\\nFeatures: No complains. Although 360 camera is pretty bad quality, not very useful other than kind of guessing what's being shown, you cannot guess how far things are on the sides. Images are very very distorted.  But getting to see your wheels help.\\n\\nComfort: Expected better stabilized soft suspensions. The car has higher ground clearance, therefore every pothole shakes your whole body like some weird dance move.   Seats are comfortable premium leather. But not ventilated. Long trips make you sweat a lot. \\n\\nOverall verdict:  A great car but at a premium price. To compete with all the upcoming EVs MG needs to bring  it down to a rational level. Else very few will buy it once Govt. stops zero road tax scheme on EVs. Cause the car will easily cross 32L mark there.\", 'Having driven over 1000kms the mg zs ev excite is a fantastic car. The range is over 350km on highway. In cities, the range is between 260-320km. The suspension is on the softer side. Ground clearance is good. The performance is stellar for a sub 25L car. MG service so far has been outstanding.  The cons so far are the 360 cameras are of poor quality, no auto dimming irvm or electrically folded orvm in the base model. No ventilated seats or rear arm rest. The car is amazing to drive. Highly recommended.', \"Exterior and interior design is good but panoramic sunroof is not much require in Indian climate that's wasting of money. One more thing is that eight lacks RS difference between TATA Nexon ev max is not worth Plus servicing issue with some MG buyers so I would like to say you again think about price if you want to compete with NEXON EV MAX. If price difference is about 1.5 to 2.0L then people will think about to purchase MG ZS EV definitely i agree mg battery is plus 10kw as compared to Nexon ev max.\", 'This is further to update on my earlier review that car is still with MG service dealer.As per direction of MG technicians they are guessing that there may be issue of electrical wiring and control panel.Hence they are changing these items and opened the car for surgery from head to tail.God knows the items which are fitted at factory by robot or manually how it will work.After being fitted at service centre.I would say it is terrible product so far in my case it is proved.I will further update after few more weeks.I have asked MG India to replace my car so just awaiting for their reply.', 'I Am Facing Technical Issues With Regard to Software And Hardware Like Ac And Other Switches.They are not Functioning.And MG Service Delaer Including MG Staff Unable to Find Out Fault Since Last 1 Month. So Caar Is With Their Service Dealer And They Are Just Doing Experiment. Good Thing About Car Is that It Is A Sturdy Car With Good Pick Up', 'MG is taking India lightly. No 73kwh battery is given compared to Nepal and price is 3 to 4 lakhs higher and there is no facelifted version. Thank God I cancelled mine,\\nIf MG lunches the 73kwh battery version for a few lakhs more it would sell like hot cakes. \\nThey are thinking no matter how sub par the product may be Indian buyer will buy it.', \"I've been driving my MG ZS EV for several months now, and my satisfaction with it has only grown over time. Not only is it a pleasure to drive, with smooth acceleration and a quiet ride, but it has also exceeded my expectations in terms of range and reliability. One of the things I appreciate most about my electric car is its environmental benefits...Read More\", 'An electric SUV called the MG ZS EV competes with models like the Jeep Compass and Tata Harrier. It is a very simple and convenient automobile to live with, especially for ecologically aware car owners. Even more so with the most current facelift version, which has several changes.Read More', 'Prices over Rs 25 lakh, are undoubtedly on the pricey side. The ZS EV, on the other hand, justifies the price with its well-appointed interiors, abundance of amenities, and a respectable real-world range. Customers who are prepared to go with some accessories can choose for the less expensive Excite model, which comes with the same battery pack and...Read More', 'MG\\xa0ZS EV is a full-package\\xa0car, and\\xa0the mileage of this car is great.\\xa0It gives a comfortable and convenient experience with a sunroof.', 'It is a very good SUV car in the segment.\\xa0Its\\xa0features\\xa0and safety are also good with the best performance.', \"Overall good car. It has good mileage and the performance of the car is fantastic. The sunroof is also good. It's good for long drives. The MG ZS EV's 44.5 kWh battery is rated 5-star by the European NCAP, given after numerous safety tests to provide you with the safest vehicle experience.Read More\", 'Beautiful interior and comfortable space and sitting soft driven smooth feel. Good Sound quality and controls.', 'This is the best electric car with good range and nice features. The power of this car is mind-blowing and gives more power than other petrol or diesel cars.', 'It is a futuristic car with\\xa0comfort, practical\\xa0stylish design, economically great, and good performance.', 'Superb car in this generation. And the battery is very good,\\xa0the interior is the best. The car design is very beautiful.', 'I feel the car is good enough on the inside but I felt that MG could have done a much better job on the outside especially - the design on the front. The artificial grill on the front is pretty lame - very disappointed with MG on that part. Apart from that, the other features inside the car are something that I guess MG has followed like a traditio...Read More', 'It was a good buying experience I received the car the previous month and took it on a long drive to Mumbai and its riding experience is just awesome.', 'Its a really an awesome car,\\xa0very comfortable with figure-hugging seats. Soft-touch sides and dash generally look much more valuable.\\xa0Higher-spec car. After driving for a while I can honestly say that the MG ZS EV is a really nice place to be.\\xa0The panoramic sunroof is just pure Zen. This is how to drive and experience mindfulness at ...Read More', \"Overall good car. It has good mileage and the performance of the car is fantastic. The sunroof is also good. It's good for long drives.\", 'The car looks beautiful and is amazing to drive. However, it can only allow two people to sit in the back comfortably.\\xa0', 'Overall this\\xa0is a perfect car. Its good mileage\\xa0and comfort were excellent. Moreover riding Ev will give you a better experience.', 'Overall it is a good car with features that are pretty good.\\xa0And looking at EV cars it is the best mid-range model EV.', 'This is an\\xa0excellent car in all aspects, its\\xa0drive quality is good, safety, mileage, interior, exterior, speed, maintenance, pickup etc, all things are good in this car.Read More', 'Very comfortable and affordable for an electric car, Smooth to drive. Great family car or great for anyone.', \"Outstanding features with great driving range. Far better than its rivals. It's a highly futuristic car but the price is a bit high.\", \"Outstanding features with great driving range. Far better than its rivals. It's a highly futuristic car\", \"Customers who are prepared to go with some accessories can choose for the less expensive excite model, Which comes with the same battery pack and, Thus, The same range.In the ev suv market, The mg zs ev has always been a sensible option, And the facelift hasn't changed that.If you're looking for a city-friendly ev that you can use for sporadic weekend journeys its great.\", 'Mg zs ev ex-showroom price ranges from rs.20.99 lakh to rs.24.58 lakh.This electric suv has a battery pack of 44.5kwh.The car looks very premium in appearance and is quite spacious from the inside too, Its interior is quite luxurious.This car can be fully charged in 16 hours.', 'Mg zs ev is an excellent car.According to me it is the best car in the segment.The car feels very premium and as the car is electric it is good for environment as well.It has very good range as well.', 'Mg zs ev is like the best electric car i ever bought it is so good.Buying the car was a surprize for my children thank you mg for making a car so good thank you.', 'ZS EV is one of the premium EVs in India, with more efficiency and reliability than any other EVs in India\\nat an affordable range. The design of the car increases the road presence and makes an amazing grip on the road\\nwhich boosts the performance quality of the car. The power in the car is fun. More power than 140 bhp, Adas(at least level 2). Specified ground clearance. AWD, rear ac vent. More\\nfeature. Disliking interiors could be more premium than 2021. The 2022 front grill looks unattractive. The\\nlagging in infotainment. ', \"Mg zs ev has done well in our country, So in my opinion this will surely uplift the demands and necessities of the aspiring ev customers.In terms of driving performance and range, This will be the most preferable choice and i'm very much opted towards the upliftment of e-mobility, So considering that, Mg zs ev 2022 will be a perfect choice.A big hands up to mg zs ev 2022.\", 'Orange car in india launch date on 2022, 6 seater better car, Automatic', '01/07/2022 launching 100 sales 100 ev vehicle in india 25 lak to 30 laks improve charging station']}, 'TATA Nexon EV max': {'reviews': ['This is my second review after completing 4 months of drive and 6500 kms of running\\n\\n1.Pune City drive : Always using ECO mode and 2nd level of regeneration mode. My daily running in city includes morning drive of about 35 kms and evening drive of 25 kms.   During morning, there is hardly any traffic and can drive peacefully without much hard stops and accelerations. Evening drive is mostly traffic jams and lot of signals. I am charging the vehicle once in a week (mostly on Friday), after driving around 300-320 kms and still with 10 % SOC remaining. So thermionically consistently getting around 350kms of range. A/c is used 50% time, being colder days around.\\n\\n2.Hghway drive: Recently completed Aurangabad tours with 4 people and full A/c drive. During highway drive from Pune to Aurangabad, got range of 250 kms (charged vehicle after completing 151 kms , just after Nagar ) at around 46% SOC. While coming back, used typical state highway (as visited Paithan), range improved to 280kms .There are many good charging stations between Pune-Aurangabad highway (used EV pump and Tata Power during subject drive)\\n\\nReally enjoying my Ev max and looking forward some more long drives, in coming days .', \"Company promised 400 kms/charge, practically I am getting only 250- 260 kms after 2000 kms.. showroom promised a software update which would increase driving range.. battery needs an update or software??? didn't expect this from Tata\", 'Got car after waiting for almost 3 months. Delivery was super smooth without any issues. Dealer (Saibaba) made good arrangement including small cake cutting ceremony, to celebrate the new entity in life.\\n\\nDriving in city is super smooth. For best results, always using city mode and second level of regeneration. After two /three days of driving practice in city , now able to drive the vehicle without using brake pedal at all  (single pedal drive). Regarding driving range at full charge, started with 300 kms  for first 500 kms and now reaching to almost 360kms . Tata provided mobile App (IRA), indicate your driving behavior  and is in general hand in hand with  your car range. Good driving behavior (always getting  me 9 rating), can give range of 300 kms easily. Out of 4 charging cycle (with 7.2 kw charger), also practicing charging by 15 amp  plug (overnight- 10 t0 12 hours) , which in my opinion will help better cell balancing and battery life.', 'Firstly, I had written a review last month on TATA Nexon EV Max. For some reason the mileage seemed to fluctuate based on the driving skills and usage. Since, it was brand new, based on my driving and other criteria, it indicated a very low mileage and I overreacted and posted very negatively about the car and my sincere apologies for the same. Now, after couple of charges, it is back above the promised 400/kms on a full charge.', \"Firstly, the promised mileage was 417 kms for a full charge as per the brochure. when we took delivery it was 385, but when we charged it first time at home after humungous battle with electricians and electricity board, the mileage has dropped to 272 within a week. Tata motors has all kinds of reasons. they claim 417 km mileage they claim if one drives at 30km speed. why will i need a car if it i have to drive at 30km speed, i might as well walk! didn't expect this from the Tata's at all. just like any other company they are just there to make fools out of retail customers. please do not buy this car. it's full of false promises and deceit.\", 'Had a wonderful buying experience as rto is not applicable so it saves pretty good amount, driving experience is the next benchmark for any car. It runs very smooth that you will fall in love with driving. Looks are quite beautiful and looks more better in its new intense teak blue colour, as it is electric service and maintenance cost is very low and if there is any software update Tata will call you and do it for free. Pros are money saving car, good to drive, low cost maintenance cons are you cannot take it for a long drive as charging stations are not as many as petrol pumps apart from it range gets decreased once you put in sport mode. Apart from this no cons.', 'Buying experience is good to dealer and mostly Tata make a good Car in this price range . Driving experience is very smooth and Good pickup speed. ', 'Tata always do some challenging task and this time Tata launch this amazing car.We can compare this car with MG electric which comes with double cost compared to Tata Nexon.Charging stations is a issue right now.But Tata is setting up charging stations in future there will not be any problem.', \"The car is best with it today's specifications and the car is wonderful by looking at its colour and the looks are great.Also it suits a person with good looks and the mileage is also good.\", 'Firstly a big thumbs up to Tata who have priced the car so well. No other EV car in the market is priced as aggressive as Nexon and with the features the Nexon EV MAX provide its totally a win win to the TATA. For pros it offers best in class features such as new premium feel gear knob, auto hold feature with electric handbrake, Harman infotainment screen system, and for safety point of view it has ESP with BAC, etc and the list goes on for the pros.\\nNow cons- it is a bit small car for five passenger to sit, only four adult passenger can fit in the whole car, but in the case of children 5 passenger can easily fit in, could offer new styling design in the exterior but even the same design looks good so not more light on that part.\\nThis is my review for this car, thanks.']}, 'TATA NEXON EV MAX': {'reviews': ['Best in cost and best milage best in comfort. just there is a shortage of EV stations. if that is improved then no one would buy petrol or diesel cars.', 'I was hell impressed with the Tata Nexon EV Max, and not just with its performance, but also its safety features make it more appealing to anyone. I like how well-balanced and comforting it feels to drive an electronic car. Though for me it falls on the expensive side.Read More', 'This is the best electric car with a good range and nice features. The power of this car is mind-blowing and gives more power than other petrol or diesel cars the car looks down and its color is dynamic.Read More', 'This is the best electric car with a good range and nice features. The power of this car is mind-blowing and gives more power than other petrol or diesel cars.', 'One of the best EV\\xa0in budget with good design and easy charging best for budget driving and good performance', 'I was driving this car for almost 3 months. The overall quality of this car is awesome and the performance is amazing. I am excited about the features.', 'This\\xa0model design is very nice with good\\xa0sound quality and nice ac. The ground clearance is sufficient. Runs less than the mentioned range, and charging takes more time. The price is too high.Read More', 'It is the best electric vehicle in this segment It is easy to use vehicle and has a low running cost and performance and comfort are 10/10.', 'Nexon EV, the car is best if you want comfort, style, and ecofriendly. At this price it is just a masterpiece. You should go for it if you are fascinated with EVs and want a budget-friendly car with low maintenance and full of features. My experience is great with it, just delighted.\\xa0Read More', 'The first car, the first time experienced this car, it looks comfortable and classy. No doubt Tata motors are pocket-friendly and services are good.\\xa0', 'I have been using it for 6 months and its performance is absolutely stunning and thrilling. The customer support is very helpful and supportive and also the sales team is superb. Its comfort and features are outstanding. The fast chargers are available very conveniently. The Z connect app is also good with some nice features. The blue colour is abs...Read More']}, 'TATA NEXON EV': {'reviews': ['This is my second evaluation after traveling for 4 months and running for 6500 kilometers. Driving in Jaipur: constantly using eco mode and second-level regeneration mode. I often run in the city for around 35 km in the morning and 25 km at night. There is scarcely any traffic in the morning, allowing for pleasant driving without many abrupt stops and accelerations. The evening commute is primarily congested with several signals. I charge the car once a week (often on Friday), after traveling 300–320 km, and still have 10% soc. Thus, the thermionic system routinely achieves a range of about 350 kilometers.\\n', 'I bought the xz plus lux 3.3.Kw variant at a price range of 19lacs in starlight color.The range factor was the reason for me to buy such an expensive variant.It has claimed range of 330kms, Which is satisfactory in terms of city use.', 'Tata nexon ev max comes at a premium price with premium feaures.The car has solid looks and feels very great and classy from inside.It has good on-road presence.I love the electric driving experience with fast charging and long range.It does no get over heated in summers as well.', 'Tata nexon ev max has awesome built quality.I took this car to some pretty challenging roads and it was able to drive through everything.Tata has made a solid car and i think it is the future of electric cars in india.I am very happy with this car.', 'No more costly petrol needed.More peppy than hirider.All specifications for comfort are same.More cute, Since length is less.Chargable from home power source and outside fast charger.', 'nice car paise nhi hai itne mere pas nhi to mai bhi tata nexon ev lekr ola me attach krta', 'Good to drive.Range is 330-380km.Only drawback is the mrf tyres are not that great.', 'We get around 350km/charge but the car performance and comfort is upto the mark but the aftermarket sales and service is terrible, This is the only reason people are choosing another brand rather than tata, If tata improves their after-market service surely, They will beat hyndai sales they improve mileage surely they beats maruti suzuki and tata will be no:1 forever salute to ratan tata for these precious cars', 'Nexon ev max provides superb ride quality.Tata claims to get a range of up to 437 kmph on a single charge.In terms of speed too, It can achieve the top speed of 0 to 100 kmph in just 9 seconds.I missed a couple of bumps and an unmarked speed breaker but it shook it off and settled down very well.', 'Tata nexon ev max looks more or less similar to the regular version.Overall, Everything in the cabin is well put together, And the quality of plastic bits is very good.The textured dashboard and honeycomb pattern on leather upholstery particularly look impressive.The stability of the car is good.']}, 'TATA Tigor EV': {'reviews': ['Good E v,  5000 kms run , performance is good so far. getting 253Km/ full charge and average energy consumption is 103 watts/ kilometer. This car is fair with Teal Blue colour. Excellent sedan for city drive.  Pros and Cons : Wheel size only 14\", Rotary gear mode selector.', \"We bought new Tata Tigor EV in April 2022 from Gokul Motors, Chrompet, Chennai, after too many questions and clarifications form the vendor.  (TN11Y0076)The car was initially good and until done 10K Kms, no issues. Suddenly got in to mess while completing 15K mark, where the car batteries gone and car stopped middle of the road and Tata eventually had to replace battery after keeping over 10 days in the workshop. After big struggle the car was serviced as the service center don't have any troubleshooting or fixing capability of a EV problem. Every time when I do follow up, the workshop people mostly waiting for either (assembly)plant instruction or an Engineer to come down from Plant to fix the car. Again at 23000 Kms, had issues with charging, where the service center staff tried their level best and even after 1 week, they were unable to do the triage.  Latest update I had from Tata services today (As I am typing this review 13Dec2022), workshop needs 3 more days to fix and still not know what was the actual problem with the car. Our hands on experience to share potential EV buyers, please do through analysis and beware that EV is a immature product, in which we are betting on. Thank you..!\"]}, 'Tata Tigor': {'reviews': [\"I purchased my Tata Tigor in December, however, the showroom experience was disappointing. Unfortunately, they didn't deliver my car on schedule; it arrived a little later, but when I did, Tata pleased me so much. Driving the brand-new Tigor both on and off-road provided me with the necessary confidence and incredible experience. Tata's constructio...Read More\", \"Tata tiger is a beast car with fully loaded comfort and the mileage is too good. The suspension is out of the world for a family of 5 members it is worth buying the car's mileage is 19 in cities and 26 on the highway .one should believe this car Ac is tremendously satisfying and the sitting quality is too good. It is a beast car with fully function...Read More\", \"I'm also a Tigor XZ+ 2021 model owner and I think Tigor Is the only value-for-money car under a 10 lakh budget that gives you the feel of having a big car. You will get all the necessary features and this car gives you the best-in-class sitting comfort along with a big boot space. The mileage is also pretty good, I easily get 16-17 kmpl in Delhi. I...Read More\", \"Among this segment's compact sedans, the safest. Good buying experience. Riding is really comfortable. Fantastic sporting looks. Low Cost of Servicing and Maintenance. Excellent fuel efficiency. The Safest and Most Economical Compact Sedan in Its Segment. My knowledge is excellent, and I have owned a Tata Tigor Xz+ for more than three years.Read More\", 'I have Tata Tigor 2020 manual petrol varient. I purchased this car on 24 April 2021. It is a good family car of 5 members. It has been more than a year since I own this car. So, let me tell you about my experience. I had driven this car for approximately 7000 kilometers. It gives a mileage of 16 to 17 in the city and on the highway, it gives 20+ ap...Read More', \"It's superb in design, and\\xa0no one can beat\\xa0Tigor\\xa0in safety. It is a superb car in performance and power.\", 'Good for value and it has nice features. Safety features are good, the\\xa0look build strength is tremendous, and it is a nice car for family purposes.\\xa0Tata is providing\\xa0safety and great performance.Read More', \"We have been looking for a sedan for about 2 years and finally, we ended up having Tata Tigor. Now it's been about 2 years since we own this car, and now also its performance is the same as 2 years before. We had about 2-3 more sedans as our options in this range like Honda Amaze, Ford Aspire, Maruti Dzire, etc. but after taking a test drive for th...Read More\", 'The overall experience was very much satisfactory in this price range stylish safety performance everything is there.', 'Tigor is a fully loaded car with all the required features and top at comfort. Also good in style and has amazing ground clearance but just needs to improve its braking system which makes the sound at very high-speed breaking and in rain.\\xa0Read More', 'Good experience with features and drives, comfortable seating for 5 people.\\xa0Automatic AC, performance is good. Boot space is good easy to adjustable bags. The engine amazingly performs with both CNG and petrol fuel.\\xa0Read More', 'Good to go for people looking for good mileage and low maintenance cost. It also provides some good features such as a back parking camera, music system is not bad. One of the best things is the comfort in the front row.Read More', 'Very easy and comfortable to drive in city, and on highways as well for long drives\\xa0(I have a 2021, XZA+ model). It gives very good mileage (City - 16-18kmpl, Highway - 22-24kmpl), is very stable at high speeds, has good braking, and has bright headlamps suitable for night drives. A big boot space to carry all your luggage, Good ground clearan...Read More', \"It's too good and my personal experience is best safety 5 out of 5, good performance, good look and perfect. This is the best car.\\xa0\", 'Best Sedan car by Tata for middle-class families. Superb look and mileage. Also available in CNG fuel for CNG lovers from an economical perspective.', 'Best ever mileage car. Great car. Robust built quality. Absolutely safe. Delivers amazing mileage of 23+\\xa0kmpl\\xa0in petrol on long drives when driven in safe speed limits between 70 to 90 km/hour.\\xa0Read More', 'Overall Good package Value for money But very much underrated cars even the tata showrooms themselves try to sell Altroz or Nexon rather than Tigor. Average is also decent about 18-19kmpl (AMT version). The top model is also cheaper compared to Dzire top model . Ride is pretty much soft, and the engine feels underpower sometimes when overtaking. Th...Read More', 'Good car for the family, feel safe and comfortable during driving. It gives a great performance on the highways and as well as cities also good. This car design is beautiful, and its features are also good in this segment. Overall, this is a good car for family purposes. Tata cars are the best and most low-maintenance cars. It is the best sedan. Va...Read More', 'I purchased Tata Tigor XZ Plus in November 2021. Everything is fine except mileage which is approx 14 while maximum driving is on highways.', 'This\\xa0car design is beautiful, and its\\xa0features are also good in this segment. It gives a great\\xa0performance on the highways and as well as cities\\xa0also good. Overall, this is a good car for family purposes.Read More', 'This car is very good in safety and comfort. Very\\xa0convenient\\xa0and the service cost is minimal.\\xa0I love the Tata cars because\\xa0the safety of their cars is top-notch,\\xa0one more recently added pocket-friendly feature is CNG which is so good for daily drive.\\xa0Read More', \"It is a good car with\\xa0safety. It's a nice\\xa0driving\\xa0and comfortable car for an enjoyable drive in the city as well as the village.\", 'It is an\\xa0amazing sedan at this price. Its durability, design, safety, and performance are unmatched. I highly recommended this car for a family of 4-5 people.', 'Using it since 2019. Not even found a single demerit of this car. The car gives drivers a luxury touch and provides good mileage and comfort at this price.\\xa0', 'Very nice car in this segment of price, Good in performance and safety Overall an amazing car, Must buy.', 'This is the best sedan car in this price range.\\xa0Its looks, comfort, and safety are also good.', 'Best choice best design, good mileage, very comfortable, good boot space, very low maintenance.\\xa0', 'I own\\xa0a Tigor XZA (AMT) for the past 4.5 years. Bought it just as the AMT version was launched in 2017. The car has done 26000 km till now. \\nPros: - Safety, the reassuring thud from the doors, the heaviness of the boot and hood and of course the 4-star GNCAP rating.\\xa0The engine is responsive in the lower end of the rev band, making it extr...Read More', \"This is a fantastic car.\\xa0Tigor's\\xa0mileage in CNG\\xa0is around 26km/kg,\\xa0auto-start is available\\xa0in the CNG. The design and interior look are also good.Read More\", \"An amazing package from Tata Motors. I have been using this car in AMT form for the last 4years. I have done 47000kms across several highways and intra city driving. It's such a stable vector where you and your family feel safe in the car at higher speeds as well. The car definitely feels one segment higher. Just go for it if you want a safe, comfo...Read More\", \"Best car in the Sedan segment, Best design and CNG mileage up to 28kmpl. My first priority is safety.\\xa0So a Tata company's build quality is better than all companies.\", 'Best a compact sedan car. Spacious, smooth handling, good average, safest sedan car, best build quality.', 'The best sedan car in this segment and over this CNG is company fitted is the best part. After the CNG cylinder, there is a lot of space remaining in the boot.', \"Best sedan in its category. However, electronics require to be more confidence-inspiring. Hill assist or a similar feature in the manual version is the only wish. This is important for today's driving conditions. Overall, very good value for money. Apparently. This is a sedan with a unique character.Read More\", \"This car body colour is very low quality. It's damage within 2 years and 6 months. This time period is very little for the damage body colour\", \"I'm one of the proud owners of Tata Tigor XZ (O) for the last 4+ years. This is the safest vehicle, that I have driven.\\xa0The vehicle is completely under control, with safety like ABS, and EBD it's always fun to drive long rides.Read More\", 'Is price segment me ye car laajawab hai. Driving quality iss car ki bahut acchi hai. Car chalane me itna maza ata hai. Solid hai, sound quality bhi acchi hai Wagon R, Celerio, or Swift se bhi acchi feel hai. driving me hosakta hai aapko dekh kar sahi na lage lekin drive kar ke dekho aapko fark dikhayi dejayega. 7 lakh\\xa0me best car hai.Read More', 'I had bought this car on March 21 right now getting mileage of 22-24kmpl on the highway with speed between 90-100kmph and 15-20kmpl in the city, if you drive a car with a smoothness not give too much load to the engine you would get good mileage, but one draw back is there that it requires some more power overall performance is good specially build...Read More', 'Engine refinement required 4 cylinder\\xa0engine can be good for smooth acceleration, vehicle noise from bonnet can be reduced for better upgrade', 'Easy to drive, feel better in comfort and safety. No worry for how long the ways just drive and drive. One thing says to Tata, why is Tata not promoting this sedan car, it is very shocking to me, and please be in the next generation also.Read More', 'I have just completed 1k\\xa0km with my Tigor XZ Plus. Excellent Car for a middle-class family in budget. Great comfort in a rear seat. Nice suspension. Better than Swift, Dezire, Baleno, and I20. Value for money carRead More', 'Have to improve in seating. Cruize control is not there. The rare ac vent is not there. The glove box is small.', 'Best safest sedan in the budget of 7 lakh on-road. Nice feature overall. With best in segment speakers of Harman.', 'The car mileage is very less around 12 in the city and 17 on the highway. The same price you can get for another car with more than 20+ mileage.', 'It is a supercar anyone can choose it without any tension, and it gives fight to Dzire, Aura, Honda City, etc and Altroz also better go for Tigor better safety, and mileage,\\xa0and boot spaceRead More', 'I am a fan of TATA since 2012. I went with my first car Zest then Safari Storme, and now I have the new Harrier XM, Tigor XM, and a Tata Altroz Dark edition\\xa0and in my family, there are 4 Tigor, so I have the best experience to it, everything is fabulous in the car, its a value for money pack also its the cheapest, and the safest Sedan. The onl...Read More', 'The very good built quality,\\xa0we need to improve service part of Tata\\xa0and please improve the interiors like lock unlock system and handle all. Thanks', 'Five Stars for safety and comfort. The most economical, and budget sedan for a family. If you are a new driver definitely go for an AMT. The only drawback is a 3 cylinder engine.Read More', \"Tata Tigor is one of the worst cars ever, no performance at all, it's like a miniature 3 cylinder engine, no pickup nothing, waste of money, I told many times my dad doesn't go with Tigor but the sales team convinced him and he took vehicle today from one of the Tata Motors in Chennai, TATA group please stop production this kind of miniature engine...Read More\", 'Stylish, comfortable, good for city commuting, easy maintenance, good build quality, good suspension.', \"My experience with Tigor was just awesome. The build quality, handling, and comfort are just superb. Anytime Tigor. Proud to be a Tigor owner.\\xa0Just go for Tigor.\\xa0I know you won't regret it.\\xa0India's safest sedanRead More\", 'Tata Matlab\\xa0trust.\\xa0Most trusted brand in the world Good features, comfortable in the budget, Every thing is good, safety also', 'I have used this vehicle for more than 3 years now. This is the most practical and no-nonsense vehicle. With Tata, you get a few teething issues but they have ironed out issues over the years. I own the AMT variant and have been quite impressed with the ease of usage. If safety, practicality, comfort, and sturdiness is something that you are lookin...Read More', 'A perfect blend of comfort, space, luxury, and Safety.\\xa0Best in class. Highly recommend. Thanks, TATA 🙏', \"I'm using Tigor since August 2017, and I'm very satisfied with it. Good car with decent features, good looks\\xa0at a good price for the middle-class family\", \"I have mixed experience with this car. Been 6 months with this car. Overall average car but the concern with mileage within city 12kmpl. The only good thing - good built quality (I got alignment issue which was fixed in service center in 2nd service), I don't know whose fault. Is it with a car or my driving on our Indian roads) and a good sound sys...Read More\", \"I love Tata cars. It's my dream car Tigor. Tata's car look and built quality are very good. And Safety features are also good\", 'Best in the segment.\\xa0Best sedan. Go for Xz or Xz plus, current mileage 24kmpl on highway and 18 in the city, looks good', 'Purchased Tigor in Jan 2021 and no major issues until now. This car has very good build quality but it lacks power during overtaking.\\xa0', 'Wonderful car, I am very satisfied. Thank you tata, love to drive on the highway roads, bs6 engine refinements improve, silent cabin, chilled ac and comfort also good,', \"Safest car in a decent budget range. Looks like premium also. Performance-wise too good. For mileage, there are two options, eco, and city, and it is giving 19+ on eco mode with ac on Highways. In the city, it's around 15+ on heavy traffic with Ac. Simply go for it.Read More\", 'Tata is best in safety, mileage reliability, my next vehicle is a Tata Harrier.\\xa0You should go for Tata.\\xa0Refuse Maruti.', 'Superb, Safest, Comfortable, Sufficient Boot space. Best\\xa0and\\xa0safest\\xa0family car at\\xa0a reasonable\\xa0price.', 'This car provides the best speaker and space in its price segment. Mileage is ok about 15kmpl, good ground clearance.', 'I bought Tata Tigor XMA AMT in 2020. Till now,\\xa0I am very satisfied. Superb car at a lower price. Average, performance and looks are awesome.', 'Value for many cars, best in safety. I love Tata, best in comfort\\xa0on\\xa0the highway. I am fully satisfied with my Tigor 👍👍👍👍👍👍', 'Tigor maintenance cost is high other than the comparison, but Tigor smart play and sound system is best in class,\\xa0mileage is better', 'Overall a decent car. The quality of interior materials could have been improved. Comfortable for a long drive.', 'Wonderful car, I am very happy with the car body.\\xa0Strong, safest car, Mileage is good for highway Smooth driving', 'Tata Tigor XZ+ (top-end) manual variant. My honest feedback: Pros: 1) Stylish exterior design. Lots of Chromes used in exterior as well as in Interior and with Diamond cut Alloy Wheel, we will get a Premium Sedan to look and feel. 2) Very spacious, lot of Legroom and comfort 3) Good Infotainment System Cons: 1. Very poor pick-up. We need to press t...Read More', 'The car is good and reliable, best at its price.', 'Safest compact sedan with features loaded car.\\xa0Comfortable riding on highways and city.', 'Low maintenance.\\xa0Satisfied milage, good suspension, great build quality. Cons moderate AC quality, more cabin noise.', \"I purchased Arizona Blue Tigor XZ+. It's around 6 months now, never repented. Usable & needed features, handy though & decent performance engine (Not to the extent of F1 Cars, LOL!!) Easily manoeuvrable in the city & excellent handling on highways. Comfortable car for 4 & can accommodate 1 more & will be tight on space for hefty...Read More\", 'You must buy that is a great car, I am recommending everyone to buy this car.\\xa0', 'Nice car in looks and good mileage in highway 23kmpl,\\xa0It is comfortable for\\xa0middle-class people to buy.', 'Very good looking and feedback is almost good. Very strong look. Visited and undertaken test drive also. Some more width expansion is expectable in this cost.', \"I haven't spend a single penny on my car since when I have purchased the car. I really enjoyed using this car.\", 'Tata cars are the best and low maintenance car. It is the best\\xa0sedan. Value for money and good mileage. 15 to 17 in Bangalore traffic city and 21 to 23 on the highway. Amazing car and you will feel safe in this.\\xa0Read More', \"This car is for true enthusiasts.\\xa0It features a rich car also. best safety, best performance, comfortable, crazy-looking car.\\xa0Especially make this car for Indian roads. Overall this sedan is the best.\\xa0I'm happy with this car :)Read More\", 'Best sedan ever nice drive experience highway milage is good, looks nice and performance is solid.', 'Power lag on strip (Ghat) road while AC is ONN almost engine goes off, not much classic interior, very bad experience at sales just trying to loot the customer. Need some more dealers in Goa.Read More', 'Supercar in the budget. Better than all sedans. I am proposing this to sedan planning customers.', \"Tigor is a very worthy car for the price tag. Had got it for 8lk for top-end petrol. Now also it's almost the same even with more features and improved design. Less maintenance for sure. Almost half the maintenance compare to Hyundai or VW. Mileage is a bit of concern because the car itself is 130-150 kg heavier than the tin cans. But if you drive ...Read More\", 'This car looks awesome. Fully features loaded and\\xa0best safety features in this segment.', 'Best car in such price range,\\xa0better than sheeps of Suzuki as well as safety features and strong engine performance with High-quality metallic body and good space. The interior systems are inspired by the Jaguar cars.Read More', 'Good car, no trouble, good pick up, very comfortable for the long drive, also the vehicle is good at the speed of 80 to 100kmph.', 'Most value for money car. Any other car of this feature and built quality will cost much more than this one. Just buy it without any hesitation.', 'Really smooth driving experience with Tata Tigor also it has stylish & stunning features.', 'Very good car and easy to control. It delivers good mileage on the highway\\xa0about 25 kmpl.\\xa0Driving this compact sedan for the last three years.', 'I have been driving Tata Tigor for around 3 years. Very good vehicle. Its performance and comfort levels are also very good. Gives good mileage. Getting around 20.5 km on highways and around 16 in the city.Read More', 'I have brought the Tata Tigor XZ+ manual. I drove approx 1300 km and I am fully satisfied with the car to date. Its a best in a class compact sedan. Engine performance, suspension, stability is good. Mileage is approx. 12.8 in the city and 20.1 on the highway. The overall buying experience was also good. Most fools trying to criticize TATA. But as ...Read More', 'One of the best cars at this price, features, safety, and style everything you want the fantastic job by Tata. No regrets.', 'I am totally satisfied with my car and the service center of Raipur are providing very good after-sales-service.', \"The car is giving the worst mileage 11 km per liter. DOn't buy this car it is giving very bad mileage. A total waste of money.\", 'Tata Tigor is a good car with\\xa0a good look, good driving experience, a powerful brak system, Harman speaker which is an awesome sound effect, revtron 1.2 ltr powerful engine. Everything is good and comes in a common man budget. Powerful safety features.Read More', 'WORST SERVICE SUPPORT BY TATA. And it has some fault which not able to be tracked by TATA Itself and now they kept my car. \\xa0', 'My car tata Tigor zx+ 2020 is just 1 month old and till now I am having the best experience with my car. Everyone complaining about Tata for their after-sale service but in my case, I\\xa0am too happy with the service of National Garage, Raipur CG.Read More', 'Compared to other vehicles, Tata Tigor lags far behind in performance. Features included in the car are very low as well as the mileage of the car\\xa0is also very low.', \"It's my country car, but it is very poor observed on short width roads even while\\xa0speed 20 kmph the mark shows on body paint. I purchase this car in Dec 2018 & my almost traveling on a short wide road &has got bushes marking on the car body paint which reflects it's very old.Also, I can't get milage more than 16 km/ lit even I drive on...Read More\", 'Tigor is a very safe car in India, the car built quality is amazing and very strong, the safety features in this car are also amazing.', 'Safe and good car better on the highway but in the city, it is ok highway mileage about 20 but in city 12. The overall car is comfortable.', 'Tigor spare is quietly high expensive and poor quality. My Tigor 27000 km driven got shock absorbers complaints and steering collet compliant with an estimated cost of 40000 thousand by the service center. Really disappointed with the quality of the make costing a 40000 repair cost for a 500000 vehicle in 27000km.Read More', 'I own xza plus and driven almost 6000 km, excellent in safety, comfort, interior and performance, good in mileage while non-ac, some negative things are, little noisy, outdated door locking knobs, and especially the most worse infotainment system.Read More', 'I have Initially hesitant to go for Tata cars, As 8 months back I used to have a BS4 engine Ertiga vehicle and due to an accident it went to for a total loss. So I brought this Sadan after having a test drive with Honda Amaze, Aura, and Tigor and finally chose because of the features and comfort level of the car. As of now I drove almost 1500Kms an...Read More', 'After a lot of search and thoughts finally booked on 14 Sep 2020 TATA Tigor BS6 version XZ+ manual variant and taken delivery on 12 Oct 2020. So I tried the car in different terrains like highway, state way, village gravel road and I am very satisfied with its performance. Thumps up for Tata for making this car.Read More', 'Mast car at this price.\\xa0A sedan\\xa0with good safety features, good mileage, great music system. Only some notice from the dashboard has to be given to make it perfect.Read More', 'I am using Tata Tigor XZ+ petrol variant for almost 2 years on highway non AC I got 28.4KM/L mileage, thanks Tata motors loved your product.', 'Perfect car for a family best to buy. Its maintenance cost is also low and mileage is around 25 which is very nice.', 'My best and well-experienced suggestion to any customer is not to buy TATA vehicles. I bought TATA TIGOR. From day 1 engine problem. The service also wastes. No response from the tata showroom. Worst service. No milage. Please prefer MARUTI or MAHINDRA rather than TATA. WORST vehicle and service.Read More', 'Much better than Swift Dzire. Everything is fine from the last 1years, but the Tata motors service is not up to the mark as Maruti & Hyundai.', 'I have purchased Tata Tigor as my first car before 2 months. But it gives only 10 to 11 kmpl mileage. After first servicing the mileage gone more down to 8.5 kmpl. Tata Tigor is a stylish and comfortable car but not affordable to daily use for petrol.Read More', 'Excellent car but engine performance should be a little better. Otherwise, all the other things are very best.', 'Very nice & value for money car and delivers\\xa0great\\xa0styling and\\xa0safety and Mileage of the car is also awesome.', 'Nice budget car with fully loaded features like 6-way adjustable driver seat, rear armrest, alloy wheels, front fog lights, cool glove box, much space to store. My stuff, 2 mobile charging ports, rear window defogger, and last but not least largest boot space in this segment.Read More', 'I own XZ+ Diesel and\\xa0driven a few thousand km without any issues. Its mileage machine I always get 20+ km in the city and on highway eco mode delivered me 26-28 km. Build quality is excellent you feel premium inside the cabin. Huge boot space for your long rides, best in segment Harman sound system keeps your mood high. Some initial pickup and...Read More', 'Best value for money sedan. No problem from the last three years. Amazing stability. More than enough cabin and boot space.', \"I have driven my Tigor\\xa0xz+ petrol for few thousand kilometres and I am very happy with my decision despite friends suggesting not to go with Tata cars. Everyone has their priority aspects while purchasing the car but mine was in the order of safety, comfort, price, mileage, and features. It has bagged 4 stars in NCAP for safety, it's suspensio...Read More\", 'An awesome car in all aspects with stunning looks, marvelous performance, and very comfortable.\\xa0I have driven\\xa0520km non-stop but not felt any back pain or tiredness and gives mileage of 24.9km/hr.Read More', 'Very good sedan car gajab bhai shandar sedan hai lelo bilkul aankhe band karke.', 'Awesome build quality. The spacious cabin and boot space. A very comfortable ride with smooth driving. The only mileage is little concern. Overall, value for money car.', \"Good Indian manufacturing car now Tata is improving the quality of all fields like features, safeties, and style.\\xa0Tata car is a long life car and I'm impressed by Tata, but servicing quality required improved like a professional mechanic and better customer service,Read More\", 'One of the best safety sedan car at VFM.\\xa0A car\\xa0engine is the only downside still it can handle things like a boss.', 'I am using a Tigor XZ for approx 2 years, 78000 km driven, and its overall performance is too good.\\xa0No requirement of any part replacement until\\xa0today, the mantainence cost is not high.Read More', 'Low cost and excellent service and excellent performance within the price.', 'The infotainment system is not so user-friendly. It needs an update. All other features are excellent and riding the tiger is always fun. The improved suspension gives confidence in tackling all potholes in Indian roads.Read More', \"Pros: Mileage - great, on the highway, it gives around 25.5 km/ltr. Comfort - Best in the class. I drove it non-stop for 450 kms, didn't even felt tired. Back seats are not that comfortable though. Performance - I have done a lot of off-roading with this. It amazes me every time. Styling - Wasnt a great fan, but it grew on me. Boot: Very well desig...Read More\", 'I love this car 1.safty 100% 2. Performance 100% 3.driving style 100% 4.looking design 100% 5.all off designed 100% worth', 'I feel\\xa0Safe while I drive my car. Nice work by Tata from new platform. I have Own Tiger from last one year my experience is very nice from the Tiger. Eco mode gives fule save options from this car it is such a nice feature for people to drive at less cost. I get 19-20 kmpl in eco mode and 17-19 in city mode so it is good. Their one negative is...Read More', 'Tigor has nice mileage. Tigor is value for money sedan. I have BS4 Tigor which give a nice performance and now Tata has introduced BS6. Tigor which will more impressive.', \"From my personal experience, this is one the best car that TATA Motors has ever produced in India\\xa0market... this is the most valuable car it has everything thing that a good driver needs.. comfort, performance, seating position, build quality and importance. It's music system that mind-boggling awesome...Read More\", \"It's not good, bad performance,\\xa0no comfort in driving, I suggest not to buy this car.\", 'One of the best Semi Sedan car of the line. Worth buying as it is not much costly and the driving experience is very comfortable. You can also use this for the long route. This car gives tough competition to its competitors in the market. Boot space is also big. The look of the car also matters so this car also provides you with one of the finest l...Read More', 'A good and value for money car. The car has stylish looks and gives great mileage too. The build quality is tough and the car is great from a safety point of view.', 'A good and value for money\\xa0car. The car has\\xa0stylish looks and gives great\\xa0mileage too. The build quality is tough and the car is great from a safety point of view.Read More', 'It is an\\xa0awesome car and I got a good experience with this car.\\xa0', \"I'm using the Tata tigor xz+ petrol car since February 2019. It's the best one in sedan car. Feel like very comfortable to my choice. The best looking Interior, exterior, safety, entertainment,boot space,alloy wheels and attractive Egypt blue color and smooth drive. I always love my car and thank to tata motors also for this product.Read More\", 'The boot space of the car is very spacious and feature wais the car is very rich. But the gear shaft vibration will irritate you and the dashboard also make very loud noise even at the normal road.Read More', \"It is a great car for both offroad and city drive, but the features could be a lot better. Did I buy a Tata Tigor in 2018 haven't faced any major problem since then but a sunroof or a better headlamp setup would definitely be perfect?\\xa0Hence, its a perfect car for family of 4 with the perfect size for Indian roads.Read More\", \"Tata Togor is the company's venture to the segment that they have started 'The sub-4-meter sedans'. Tigor is the sedan model of the Tiago. This measures under 4meters to cut the tax duties. Now Tata has upgraded the Tigor to BS 6 and to a new styling ×Design Tigor is now based on impact 2.0 design language. The tripod base shaped arrow design os se...Read More\", \"This car is a budget sedan with good power but when it comes to maintenance then it creates hurdles for you. It's suitable for 4 people,5 the person will have the struggle to sit comfortably. Suspensions are good. Mileage of the car in the city is 18 km and on the highway its 23 km. In conclusion, if you maintain it regularly then its the best buy....Read More\", 'Buy the best safety car, It is an amazing car with all the features.', 'This is a feature-rich car. Its design is amazing.', 'Wonderful car with the best design and delivers good mileage.', 'I have Tata Tigor XZ top model of a diesel variant. Very good build quality than any other similar cars in this category of sedan and one thing is the sound of this car, very superb sound quality.Read More', 'Seats are\\xa0very comfortable and the infotainment system is very great while driving, strong car, long trip mileage is also good.', '\\xa0I own for the last 2 years. XZO in petrol. Very comfortable and very stylish and very good looking.', 'Very good looking entry-level sedan car with good space. I think everyone at least one time takes a test drive for the new version of Tigor. Its style, mileage, comfort, and all other features are amazing.Read More', 'The nice car even, it is the best car in this price as compared to Baleno but it looks the same as other Tata cars that disappoint me.', 'Awesome car. I have been using this and really its pleasure to drive.', 'After-sale service is pathetic, very cheap quality plastic used for the interior. The dashboard makes noise, no proper insulation is done. Burning smell/exhaust smell inside the cabin, the issue not fixed yet.Read More', 'No doubt that Tata had made outstanding vehicles . In that this one is amazing package for those who want strong budget car.']}}\n"
          ]
        }
      ]
    },
    {
      "cell_type": "code",
      "source": [
        "for car_name in car_names:\n",
        "  review = car_reviews_dict[car_name]['reviews']\n",
        "  print(review)"
      ],
      "metadata": {
        "id": "6ls7LQMg_h6u",
        "colab": {
          "base_uri": "https://localhost:8080/"
        },
        "outputId": "ca043774-2003-44b3-83fb-3611fe10bcce"
      },
      "execution_count": null,
      "outputs": [
        {
          "output_type": "stream",
          "name": "stdout",
          "text": [
            "['Nice car with good Hyundai service, but car is outdated will no real space at all. It is overpriced, and only reason to buy is if you do not like Tata and MG. It has good range of 320 kms, better than Nexon ev max.', \"Versatile and powerful car.The Hyundai Kona Electric Premium will be the first All-Electric SUV in India. It's power packed performance provides a thrilling driving experience with high acceleration over long distances.The Hyundai Kona Electric Premium is here to change the way people think about going electric.\", 'I have driven Hyundai Kina Electric Premium purchased by one of my friend. The experience was very exciting and I am interested to buy Kona now. I have contacted Raja Hyundai ar Sirsa for the same. They showed inability to deliver Kona.', 'Not nice bro you should by kia carens or xuv700 instead of this or buy Hyundai                                  \\nalcazar it has a lot of features with nice looks.', \"I test drove Kona EV. It is driver 's car with fantastic and smooth steering good suspension & reasonable acceleration. I wish larger boot space so that my golf trolley and bag to fit in.  Now I'll have to lower one rear seat to house my golf equipment.\", 'Superb car like as fantastic as petroleum car. Speed is superb. I bought this 2 months ago and it looks premium and fantastic. The car is amazing. This is one of the most number 1 car in the sports car market.', 'Anti national,  worst service, worst customer car, worst dealings to indian customers, over priced, less mileage  huge maintenance cost, have better options in India other than Hyundai.', 'Super happy with it. The car is too good', 'Pretty good car, smooth as a glider fast car, instant pickup and the range in one charge is also pretty good as well, so we can go more miles, a catchy car grab our eye balls everyone wants to ride this', 'Price difference between petrol and electronic could not convince customer to buy electronic car. Difference amount can use for Life time use of petrol diesel car. Moreover long ride is big concern for charging. Only useful for fix route of almost 100 km. Price should be reduced and charging pump should be developed more.', 'Except for the short legroom in the rear, this is a performance car. I wish they are completely removed the boot as electrics will be only a second or third car in most families. This would have given far more leg room for rear passengers. Brilliant car otherwise.', 'Good experience good driving experience all performance good very low maintenance good buying experience and driving experience and good looking wise and good performance etc. Low maintenance', 'Great car purchased from Hindustan Hyundai in Jaipur. Happy with their customer service and staff. Would definitely encourage my family to purchase from them and this car is fabulous.', \"This car is a perfect, modern and stylish car one thing I like about the car it's is long-range and is safe and it so eye-catching a man just cross the road just to ask which Hyundai car is this lastly I love this car I hope you do thanks for your time\", 'Very good performance, silent engine sound, amazing interior and exterior design, low-cost maintenance, comfortable seat driving seat space is good, backspace is amazing. Overall good!', 'Such a very excellent drive, very comfortable, digital and save environment save fuel for future energy. So sporty feel and save money they help easy life and fast-changing option entire zone so cool future tech.', 'Its so amazing and they give best performance. Its battery backup also cool and i like its fast charging. It is more useful for our future. But it is so costly. My advice to add solar panel on the roof.', 'I like this car very much. Because this car is very comfortable for all. I love this car. Riding is very smooth. It fills like a sport car. Servicing method are very easy . This car looking  very sporty. This car is this car is very fast . I buy the car then I show this to my family they will very happy to see this car. Because my all family members are like a sport car.', \"I bought this electric car 2 months back, driven 9900 kms until now. It runs 250 kms around with a single charge comfortably with AC on. Then u have to charge for complete peace of mind. Price high but u get 40% depreciation in your ITR for consecutive 4 years which means u haven't paid anything except for insurance and RTO. please make this car with two sets of battery, one for 250 kms and other for 125 kms, and alternatively, they should get charged by the regenerative power energy source and kinetic energy too thus KONA will go beyond 1000 kms. Very smooth, silent ride. Cruise control and hill assist presently. 2 negative points. Rear seats not having any fan facility and rear shockers are not too good.\", 'Amazing,Amazing\\nFully electric car with amazing power delivery and Battery efficiency with amazing warrenty.\\nHyundai did great job.\\nSurely Hyundai is the Future for Automotive\\nOne thing in India the govt must reduce the tax of this car..\\nby govt tax its around 30lakh in my city..\\nbut with out tax its about 25lakh...\\nIndian Govt please reduce the tax..', 'So here it is the hyundai kona electric the car which completely changed the electric segment in the indian car industry to driving experience with high acceleration long distances', \"I m observing this car from  6 months.. And finally it is launched..\\nHave talk with the local dealer of hyundai about test drive and booking..\\nIt looks amazing with all features in one roof.\\nAnd with 8 years battery guarantee.. It's great car in India..\\nAs per price wise it's some expensive. Must work on price for future of car.\", \"Electric car it's an copy of i20\\nCharging time is too slow 25lakh is higher it's too costly because  of its rate most of the customers will not prefer for the electric car..if its below 16lakh  the car konac will be up I n Indian  market....  they have to introduce more charging stations or points in highways\", 'Everything is premium about the car the seats suspension drivetrain power really dont want to see another I.C engine car ever after this beauty offering 8 years warranty is amazing its best value for people who do 15000 or more kms a year looks are good from the front i wish tuesday rear was done better service and maintenance is almost zero and car pays back for its self its like buying solar panels', \"This is very important segment in our Indian car market and costumers setisfaction it's Zero fuel emulsion but one point disappointed its price other side all things are good before this segment in our country no big options in this segment but now we people's we have choices and also better option in future after coming this car so m very excited for this product thank you\", \"Everything is ok. And I greatly appreciate Hyundai's innovation in bringing electric cars but the price for this is too much and even if the gst gets reduced it will come about 20l but there are many competitors in that range except for the electric transmission.  \\n\\nTo be successful in Indian market they should\\n\\n1.Reduce the price\\n\\n2.implement more electric stations around major cities\\n\\n3.service should be improved incase for electric cars\\n\\n4.free service should be given for at least 8 times\\n\\nAnyway hatsoff for Hyundai for their innovative electric car in Indian roads\", 'Wonderful Hyundai love u Brand amazing driving break comfort sit and super engine and body is very much I like careem colour and premium service and the same time and consideration for the first time I think it would have been able in my life of this communication including attachments are handled a great', 'One of the best EV car available in India with very good range. The price is also the best according to the standards of the car and such a long range drive in one charge.\\nThe power is decent which is sufficient for Indian road users. \\nThe best part of the car is you can save a lot of money while protecting the environment.', 'All off good in this car.i really about to buy it. Excellent car. Hyundai is best company of the year. Its great to drive kona.i love Hyundai verna to. Hyundai is the great customer support. So nicely care about car. And fuel economy is the always satisfied.driving performance are also cool.i like this car.', 'Car is ok... Looking awssmmm and all... But huge question is still now i dint seen of any electric stations...also cost of the car s too much... Not happy\\n\\nAnother thing is wat so difference of using petrol/diesel and electric cars... To reduce the pollution... If it is soo you guyz producing battery for large size in factory... Tat ll not make pollution??', \"As we all know the future is all with electric vehicles, and we didn't yet had any top edge EV cars in india we only had was the Tata tigor and mahindra ev which are the worst ev's, but this kona had impressed me a lot more than petrol cars, it had a seat warmer which is a new feature that is only available in luxury cars, the pick up was awesome, the drive was so smooth.\\nAll I want to say is just go a head and purchase it, don't think about charging it takes only 2 hrs hardly to charge it quickly with the DC Charger,.\\nGO GREELECTRICAL\\nSAVE ENVIRONMENT.\", 'Best car i hv drive till date it is so comfortable that like you are at your home so please buy it fuel efficiency is good very interesting car in this price segment that you see in market,. Thanku Hyundai for launching such beautiful car it hv made our drive hobby and i m fully addicted to this car..', 'It is very good car which help the country from pollution and saves the environment. Its maintenance and servicing cost is also very low as compared to other cars therefore in future we see electric cars between us which is very helpful for our country .if I bought this car then I will be very thankful to that person who had made this car', 'No 1 car in india electric car. Car is so exelent .Speed are so speedy .This cars is no maintance . Performance so very nice .and looks are so beautifull.and very comfartabel car. Engine is so highe perfomance .and good looking designs. And aagad paglchad ne badhi rite jordar car banava ma aavi che .aa car ne game tem chalao moj aavi jay .indias first electirv car so more n more buy this car\\n. So 1 millon s cars sell only 1 months thats perfomance . So good car thankyou so much \\nHundai', 'Hyundai Kona Electric is extremely good car but expensive for its size and performance. We should wait for reduction in GST and road tax which is likely to reduce the price by couple of lakh rupees. If or as And when car is available for Rs 20-22 lakh I for sure will buy it. Electric cars indeed would be cheaper to operate.', \"An i20 for 30 lac.  Good. That's a car worth buying. 452 mileage arai certified.  That's a joke right.  Actual will be half than claimed. I'm waiting for maruti to launch it's electric version of wagon R for the price of 12 lac. What if ur warranty runs out and you need battery change  then what. Re finance it again.\", \"Car is amazing car comes with every safety features ,  but need charging points all over the country and price is higher can't able to buy for middle class people i my opinion they should have base variant in that case price will be affordable for everyone  i hope hyndai will launch more basic variant electric cars\", \"So the future of Indian cars have arrived! Hyundai certainly has heated up the competition in EV segment too now...As currently the Kona Electric is completely build unit that's why the initial cost is looking a bit high because of import tax etc..I hope that it gets upto 20 lakhs after complete manufacturing in India! This is a bang on car and all the best to Hyundai for this!\", 'Wow its an awesome car. And a great car for all people. But they are not launched by manual gear. This are the mistakes. If they launched the manual gear its very great. Please fix an manual gear as soon as posible. While iam seeing the Hyundai car all are awesome. So all of u just trust the Hyundai and buy the car.', 'Comfortable with the latest features. Low running cost. Good seating capacity and it is a good-looking car. Good boot space and a lovely exterior and interior. Value for money car.Read More', 'I took a test drive of the Kona EV. A superb car-like as fantastic as a petrol\\xa0car. It comes\\xa0with fantastic and smooth steering, good suspension & reasonable acceleration. Speed is superb. It looks premium and fantastic. The car is amazing. This is one of the number 1 cars in the sports car market. Instant pickup and the range in one ...Read More', 'Ultimate EV, smooth drive, amazing interiors, good road grip, bigger and wider tires, and exterior look is no less than a premium vehicle like BMW.', 'This is a beautiful car and gives many best features. Its airbags are good and have a beautiful look with a comfortable seat.', 'I took the test drive and the feeling was awesome the power and comfort provided by Hyundai are just the best and talking about the features, all the features are the best in the segment.Read More', 'GOOD CAR WITH NICE SAFETY FEATURES,\\xa0EXCELLENT PERFORMANCE, AND ALSO WITH GREAT ABILITY OF MILEAGE. TILL NOW IN THE ELECTRIC VEHICLE SEGMENT FROM MY EXPERIENCE THIS HYUNDAI KONA IS A GREAT VEHICLE AND VERY EXCITING THING IS THAT IT IS BUDGET-FRIENDLY.\\xa0Read More', 'This car is expensive and needs to increase seating capacity,\\xa0wide sunroof,\\xa0and less\\xa0price.', 'Apart from all the online reviews my personal overall experience of Hyundai Kona was literally very amazing, from interior to exterior, from exploring to driving.\\xa0Everything is perfect in this car and it provides amazing features at a very competitive price in the market right now.\\xa0Read More', 'Hyundai Kona electric car is very comfortable and secure but the electric range is very low, this car very expensive for a middle-class family.\\xa0', \"Using it for the last 1 month.\\xa0It's a gentle-looking beast.\\xa0The pickup power is amazing. I tried 2 competitions cars in this segment. This is the best. Refined and well built,\\xa0and superior performance. The Audio system is better than a premium car segment.\\xa0The Bluetooth\\xa0connectivity to stream all music from a phone, music a...Read More\", 'In the beginning, the car performed excellently well, but after 4 months the mileage on a full charge steadily reduced, and finally, it would not start at all. After paying a hefty amount for this car l am left without a vehicle and the Hyundai service people assured me that would send a replacement vehicle which they kept postponing with lame excu...Read More', 'Battery life and its deterioration with time need to know, also the cost of battery replacement and any battery assessment tool of equipment.\\xa0', \"Well, an electric car this is the tesla of India you can't go wrong with 400 hundred km charging no need for fuel just go on plug the car and at morning you have a full tank of gas.Read More\", 'This car would be the best selling car in India because of technology and design.', 'This is a very useful vehicle and non-polluting.\\xa0The Hyundai Kona is a very modern car and stylish too.', \"I bought this electric car 2 months back, driven 9900 kms until now. It runs 250 kms around with a single charge comfortably with AC on. Then u have to charge for complete peace of mind. Price high but u get 40% depreciation in your ITR for consecutive 4 years which means u haven't paid anything except for insurance and RTO. please make this car wi...Read More\", 'Best car I have ever owned. A paradigm shift in the automotive sector. Easy to drive. Real-life range of 330km on a full charge.', 'Its new electric car of Hyundai fully loaded with features and best technology. Its seats are very comfortable too.', 'Hyundai Kona is a gem of a car. It has all you can get out of a vehicle. power, balance while driving, comfort, fuel economy, reasonable maintenance, what more you need. First I would like to clarify that this review is entirely based on my experience with the vehicle. Being a mechanical and marine engineer, It was obvious that I had to do complete...Read More', 'Hyundai Kona is a brilliant car! Love the driving experience. I am able to get 9.0 to 10.2km per k/h in the city. Traffic or no traffic, this car rocks. Eco mode works really well. The seat ventilations a great feature as well. Kona is a game-changer in India. Zero road tax and reduced insurance have made this car an absolute winner.Read More', \"Hyundai Kona - First electric car of India was REVA but it was a very compact two-seater car with very odd design, it failed because of lack of R&D by the company's team. But Hyundai Kona Electric is an elite vehicle and it will attract n number of customers. The charging station will boost the sales of Hyundai. Those who are habitual of a manu...Read More\", 'The car is a bit high priced and great in its segment.', 'The car is high priced when compared with other cars of the same segment.', 'I swear the car is very smooth and quiet. The car has no maintenance because it is electric. And it has features like internet connectivity and other features that all the Hyundai cars have.Read More', 'The car is very expensive,\\xa0the maintainence cost is very cheap when compared with\\xa0electric vehicles.', 'In India first electric car I am so happy to buy this car. To control our environmental air pollution and everyone wants to encourage this electric car. I hope at the end of the 2020 year be the top-selling electric cars. Great ideas and innovations.Read More', 'Better than all diesel and petrol cars May be this will be the greatest achievement for Hyundai to launch the electric var in India. The price is a little more than fuel cars but according to me, it will be best SUV in India. We indians really need this type of stylish SUV in electric variant.Read More', 'Hyundai Kona is better than all diesel and petrol cars. Maybe this will be the greatest achievement for Hyundai to launch the electric car in India. The price is a little more than fuel cars but according to me, it will be the bestest SUV in India. We Indians really need this type of stylish SUV in electric variant and it seems like it will be not ...Read More', \"Hyundai Kona is the 1st SUV to run in India with electricity. Its design is of another level just like a futuristic concept model. It's just smaller than Creta\\xa0in size. But it looks big. Near the bonnet, we can see the long indicator below it is the led headlamp just like the venue. The grill is missing in this car as its an electric car it do...Read More\", 'Not worth the money, the price needs to come down for masses. Fast charging a must for anyone to buy.', \"Best Car. First Electric car in India. With the best features. I think it is better than other company's cars.\", 'Hyundai Kona is the best electric car,\\xa0the pick up is just amazing.', 'This is the worst car in the segment. The features are not working properly. It is not a worthy car.', 'This is a wonderful car. The interior design is the best. The safety features are amazing.', \"Hyundai Kona is India's first electric SUV car. It is the right car for the environment and will be the best\\xa0car in India.\", 'Wow, it is an excellent design, futuristic & innovative. But the price is pretty higher.', 'Hyundai is the best performing\\xa0company beating all other vehicles. Hyundai is\\xa0the first choice of people at present providing best services to its customers. Hyundai in electric segments of cars will beat all-electric cars of other companies and will set new level standards. It will be the first choice of people of New India.Read More', 'The car is really good. Excellent idea from the company. Prices are high, so please work on them. Make more products like these in a good range of price which is affordable for all. Reveal the car as soon as possible so the new generation of cars start and use of fuel vehicles are stooped.Read More', 'Superb car,\\xa0 I like its designing full of features, good colour, fully-loaded car,', 'An amazing car with best design and amazing looks available\\xa0', 'A nice car from Hyundai. Hyundai Kona is the best EV car which is Hyundai is launching eagerly waiting for it to take a drive.', 'This is an excellent car. The features are very impressive. The looks are really classic.\\xa0', 'Kona is a good car very interesting to know about it. I am proud that I am going to buy this. Good price because it is an electric car. It is an electric SUV.', 'The car offers reasonable performance in this\\xa0range. I hope the price of the car is kept at or around Rs 20 lakh. It can be a very good option for those who drive around 12000 km a year with fewer outstation trips.Read More', \"It's a great\\xa0new for the Indian market. I hope the biggest problem\\xa0of\\xa0pollution\\xa0in India will be sorted by Kona electric. Best suited for metro city and much more.Read More\", \"awesome car should be a great start in india for new talented india that's a great achievement\", 'Showroom price and mileage service cost delivery time', 'I liked the hyundai kona, And the name in itself sounds cute.It is a feature-rich car not just in terms of characters of the car but look-wise too.One more selling point is the affordable price range along with safety standards.I have already booked this car for just one test drive.', 'I like this car and in degree i am going to buy it', 'Hyundai kona ev is equipped with a 100kw dc fast charger that can charge the suv up to 80% in just 54 minutes.The kona ev is expected to cost between rs 25 lakh and rs 30 lakh.', 'nice model.Very beautiful and very stylish looking car.', \"I've been using it for three years.Excellent performance and no maintenance costs.But now is the right time for hyundai to update and expand its model lineup.Just changing the colour palette three years after the kona's introduction is nonsense.Hurry up, Hyundai.\", 'It is a well-designed electric car that takes off the attention of any car very easily.The front grille looks quite attractive and soothing with a usb charging connector.Charging time is okay at 6 hours, But the driving range is 280km only not as claimed by the company.', \"I tried out the kona ev.It has excellent and smooth handling, Strong suspension, And respectable acceleration, Making it a driver's vehicle.I would want a larger boot so that my backpack and golf cart could fit inside.I'll now need to lower one of the back seats to make room for my daily supplies from the market.\", 'The car is very good, It is very good for middle class people, This car does not cause any air pollution']\n",
            "[\"It's a great design.Kia EV6 is the future car.Kia did a brilliant job in terms of design and comfort.This definitely looks like a perfect sports car.If you're planning for an Kia EV6 this really is the one for you.\", \"I was able to test ride it for a few KMs, performance is unmatched by anything I've driven before, and features and range are also good. There are some areas where there's room for improvement, There's a space in front of the shifter where you have to keep your phone if you want to use Android Auto/ Apple CarPlay, it's really awkward to access as it's built deep, the infotainment system has a room for a lot of improvement, it's laggy and slow to respond, and just should be better.\", 'Kia has big plans to establish itself as an all-electric car company. Family car buyers looking for a capable, electric car will find that the Kia EV6 easily fits the bill. Its sleek and stylish appearance offers plenty of kerb appeal, while the EV6 is also good to drive. It is more of a sporty family crossover than a traditional SUV.Read More', 'The Kia EV6 is a mix of a Hatchback and an SUV, it has good dynamics reminds us of the Jaguar pace and Aston Martin DBX. It has power tailgates with a big boot space. The rear seats do not have good under-thigh support because of the battery placed underneath. Overall, the car is pretty good but slightly overpriced. This car would have looked good ...Read More', \"Kia EV6 is the first dedicated battery electric vehicle of the company. It's fast, fun to drive, unique to look at and of course, has all the required green credentials. However, the rear seat experience is average with not enough features or even accessories. According to me, it is a large hatchback and a futuristic car.Read More\", 'Kia EV6 offers good driving dynamics, impressive efficiency and range, and more cargo room than some electric competitors. It comes with great features, and the dashboard is quite futuristic, with the infotainment and instrumentation screens arranged in a floating manner.Read More', 'In the EV section it has good mileage, the best features as required, best safety features, overall Kia EV 6 is a very good car as compared to other EV cars. Very very satisfying car.Read More', \"At launch, the EV6 would cost more than Rs 50 lakh. We believe Kia's modest goal of 100 units should be quickly attained, but what's more crucial to note is that the EV6 is an excellent entry-level vehicle and a harbinger of great things to come from Kia. But all of this will undoubtedly cost moneyRead More\", 'Unbelievable look and good\\xa0features car.\\xa0Its heavy performance and style were outstanding. The mileage and perfect shape with advanced features.', 'There is no doubt that the Kia EV6 has the potential to be a halo EV product and that it is a very amazing product from Kia Motors. Sure, the interior could use fewer plastics, but the spaciousness, design, and equipment more than makeup for it. It also has a stunning appearance, accelerates like a demon, and has what we consider to be a decently u...Read More', 'Amazing car with amazing feature seats feels 1st class comfort, the steering wheel is also very smooth to rotate.', 'Lovely look and looks very comfortable, the mileage is average but the overall look is perfect, This Kia E6 can be the future of cars.\\xa0', \"Kia EV6 boasts of a hunched-down and aggressive stance, No matter what angle it is viewed from. It is made even more pronounced from the front, and it is from this angle that it looks like a hot hatchback. But in reality, it's a notchback.Read More\", \"Overall package given by Kia is amazing. Maybe Rear design is inspired by Aston martin but I don't like front design, it looks like baleno and jaguar electric car, in that point I'm disappointed. But the performance, comfort, feature and interior is unmatchable. There is no competitor of EV 6 in India right now and that research done by Kia is just...Read More\", 'Good Car but only value for money under 35-40 lakhs not worth at price of 65lakh and power also feel to low as a normal car and there are some glitches in the software also.Read More', \"Looks attractive and\\xa0the kilometer range is very good.\\xa0It's very spacious, and a combination of an SUV and sedan is amazing.\", 'Good car with smart look and\\xa0best price. It comes\\xa0with all facilities in it. Best one in the market.\\xa0', 'Best design, performance, and comfort good car, it goes swiftly, amazing\\xa0performance, and awesome design.', 'Overall the experience is great,\\xa0the seating quality of this\\xa0car is very comfortable and the exterior looks are also good.\\xa0And the performance of the car is also great.\\xa0Read More', 'Such a\\xa0nice design in the EV segment. Includes a premium interior and exterior look. Impressive\\xa0headlamps design.', 'It was great to have a company like Kia because it gives the best quality of cars on a low budget.', 'The overall experience of this new Kia\\xa0EV6 is loaded with features.\\xa0The premium quality and feeling with the appropriate price.', 'Very good car with the best performance, best features and best comfortability. This car gives a luxurious feeling and is not much expensive.', 'This is a kind of future generation car present in the present world. Its interior, as well as exterior, are excellent. Its engineering is so nice. Its design is so much attractive and anyone can love it. It is superb.Read More', 'More stylish than most mainstream EVs, has athletic and refined driving behavior, comfy and roomy inside. LOWS Infotainment system has some drawbacks, lacks a game-changing driving range, small front trunk space. VERDICT The EV6 is a new entry in the growing EV market, bringing an exciting design and entertaining dynamics.\\xa0Read More', 'This all-new EV looks great and is comfy. Great work KIA toward a new world. 0-60 km/h in 5 sec, satisfaction for speed lovers too.', 'The car is premium, feels everything is looking rich. The pros: looks are ultra luxury and have excellent range. The cons: the price is too high.\\xa0', 'Kia ev6 is a very uniqe car without doubt.It is very quick & fun to drive, It has some exclusive features, It is very spacious & also packed with safety features and promising a decent range too.First car to bring augmented reality to india.', 'Kia ev6 is a rather expensive ev vehicle.Although it has a lot of features and a good range it would not be very popular in india as it is expensive.The driving is very comfortable and the looks are very futuristic as well.The design is very bold and attractive.', \"It's been quite a few months in terms of its slaunch in the market but still, Kia ev6 could not achieve the target it desired or hoped for.Though it is one the most stunning looking car in the electric vehicle segment it is priced too much and it would not make it to compete even compete with rivals.Kia has good features but it should be practical enough for buyers in terms of price range.\", 'The rear seats disappoint because they lack under thigh support and a fairly tall person will not be very comfortable.The rear seats too come with a 60:40 split and that translates into clever use of space especially, If you have more bags to transport.', 'Best car good work so expensive good looking and feeling better and nice car', 'Ev6 is the first electric car from kia.This car gives you the best performance and its looks and design are so attractive that it can captivate anyone.Kia has claimed about this car that it can be driven up to 500 km on a single charge.If you want to buy an electric car then this can be a good option for you.', 'I love features and best experience ', 'Kia ev6 is a rather expensive ev vehicle.Although it has a lot of features and a good range it would not be very popular in india as it is expensive.The driving is very comfortable and the looks are very futuristic as well.The design is very bold and attractive.', 'Ev6 is the first electric car from kia.This car gives you the best performance and its looks and design are so attractive that it can captivate anyone.Kia has claimed about this car that it can be driven up to 500 km on a single charge.If you want to buy an electric car then this can be a good option for you.', \"The electric ev6 is among the boldest and most exciting kia's we’ve seen.This car is spacious and sleek with fast charging capability, Excellent power, And an anxiety-reducing maximum range of 310 miles.It could be described as a high-riding hatchback.I think this car is going to b**w your heart.\"]\n",
            "['Next Gen Car ... Soon we can expect more car like this ...Interior is Superb with outstanding display ..performance is also good ...Electric Vehicles Will rule the roads in future ..Mercedes Rocks', 'The main focus of this car is about performance and the interior given by the Mercedes. It is one of the best electric car till known. The average of this car is quite good at this range.']\n",
            "[\"As a Mercedes Benz EQS owner, I couldn't be happier with my purchase. The car is not only sleek and stylish but it's also packed with cutting-edge technology. The electric powertrain provides instant torque and smooth acceleration, making for a truly exhilarating driving experience. The interior is spacious and luxurious, with high-quality material...Read More\", 'Overall amazing car with good\\xa0comfort. It drove 600 km in single\\xa0charging, and\\xa0it looks very appealing.', 'Best in the class car\\xa0and immersive performance from an electric car. It is\\xa0a wonderful interior with a dynamic screen.', 'Such a super and great interior design.\\xa0Fast charging feature are mind-blowing with decent\\xa0mileage. I like it from bottom of my heart.', \"Best in class Mercedes, I'm experiencing the best auto ever, this gives me technology and class with mileage\"]\n",
            "['Vhecycle renge is awesome because mercedes benz but price is so high', 'This is a very good and best and brightest and beautiful car.', 'This car is fully electric and it is very very very nice', 'Car with excellent mileage, I want to start dealership of this car, I want bmw ceo to contact me.', 'So pleasing and dynamic appearance.Looks sturdy and aesthetic too.']\n",
            "[\"While sub 30L EVs choices are still quite limited now, my major choice between MG ZS and Nexon EV was, like most other buyers, range anxiety. Nexon looks decent, almost 8L cheaper lost because talking to some owners gave me worries about being less 250KM on full charge. 250 is a distance that's not bad for city drivers. But given how EV Charging infrastructure is in India right now seemed risky.  Some users do claim 300 Range on EV MAX but when I checked in their App stats that seemed like far fetched claim. Glad to have chosen MG ZS though the cost was quite higher. ARAI claim was 461KM but after crossing 2000 KM on my MG including a 1000KM long drive I can pretty much have a honest stat to provide. \\n\\nCity driving: You will easily get 320-350 depending on your driving habit.\\nHighway driving: if you drive well, utilizing cruise controls, non-aggressive accelerations, KERS braking  you can easily get 380-400. \\nHaving sunroof a little open or AC on internal circulation, you can conserve range well.   But you will definitely sacrifice somewhat 20-30KM.\\n\\nPerformance: Well, ECO mode is what you mostly need, Normal has a lot of power. Sports mode, save it for afterlife. the car never feels lacking power even in Eco mode. In fact, Steep office parking ramps are easily overpowered in ECO mode itself. I have done 150 Km/h in eco mode easily. Haven't tried that in SPORTS.  Hill driving is smooth. There is hill decent assist as well. Auto brakes assist not rolling backwards. Superb easy to drive.\\n\\nLooks: Car looks great from front (Minus the front grill that they have reworked out of Astor, made of flimsy plastic. you can bend it with single finger press ). I really hope MG redoes the front grill for ZS EV. The back is really ordinary. Nothing of it looks like a 28L+ car.  No Fog lamps (WTF MG), Headlights are decent (Expected more lumens). Panoramic Sun roof is great. Interior is pretty good, premium  and organized.\\n\\nFeatures: No complains. Although 360 camera is pretty bad quality, not very useful other than kind of guessing what's being shown, you cannot guess how far things are on the sides. Images are very very distorted.  But getting to see your wheels help.\\n\\nComfort: Expected better stabilized soft suspensions. The car has higher ground clearance, therefore every pothole shakes your whole body like some weird dance move.   Seats are comfortable premium leather. But not ventilated. Long trips make you sweat a lot. \\n\\nOverall verdict:  A great car but at a premium price. To compete with all the upcoming EVs MG needs to bring  it down to a rational level. Else very few will buy it once Govt. stops zero road tax scheme on EVs. Cause the car will easily cross 32L mark there.\", 'Having driven over 1000kms the mg zs ev excite is a fantastic car. The range is over 350km on highway. In cities, the range is between 260-320km. The suspension is on the softer side. Ground clearance is good. The performance is stellar for a sub 25L car. MG service so far has been outstanding.  The cons so far are the 360 cameras are of poor quality, no auto dimming irvm or electrically folded orvm in the base model. No ventilated seats or rear arm rest. The car is amazing to drive. Highly recommended.', \"Exterior and interior design is good but panoramic sunroof is not much require in Indian climate that's wasting of money. One more thing is that eight lacks RS difference between TATA Nexon ev max is not worth Plus servicing issue with some MG buyers so I would like to say you again think about price if you want to compete with NEXON EV MAX. If price difference is about 1.5 to 2.0L then people will think about to purchase MG ZS EV definitely i agree mg battery is plus 10kw as compared to Nexon ev max.\", 'This is further to update on my earlier review that car is still with MG service dealer.As per direction of MG technicians they are guessing that there may be issue of electrical wiring and control panel.Hence they are changing these items and opened the car for surgery from head to tail.God knows the items which are fitted at factory by robot or manually how it will work.After being fitted at service centre.I would say it is terrible product so far in my case it is proved.I will further update after few more weeks.I have asked MG India to replace my car so just awaiting for their reply.', 'I Am Facing Technical Issues With Regard to Software And Hardware Like Ac And Other Switches.They are not Functioning.And MG Service Delaer Including MG Staff Unable to Find Out Fault Since Last 1 Month. So Caar Is With Their Service Dealer And They Are Just Doing Experiment. Good Thing About Car Is that It Is A Sturdy Car With Good Pick Up', 'MG is taking India lightly. No 73kwh battery is given compared to Nepal and price is 3 to 4 lakhs higher and there is no facelifted version. Thank God I cancelled mine,\\nIf MG lunches the 73kwh battery version for a few lakhs more it would sell like hot cakes. \\nThey are thinking no matter how sub par the product may be Indian buyer will buy it.', \"I've been driving my MG ZS EV for several months now, and my satisfaction with it has only grown over time. Not only is it a pleasure to drive, with smooth acceleration and a quiet ride, but it has also exceeded my expectations in terms of range and reliability. One of the things I appreciate most about my electric car is its environmental benefits...Read More\", 'An electric SUV called the MG ZS EV competes with models like the Jeep Compass and Tata Harrier. It is a very simple and convenient automobile to live with, especially for ecologically aware car owners. Even more so with the most current facelift version, which has several changes.Read More', 'Prices over Rs 25 lakh, are undoubtedly on the pricey side. The ZS EV, on the other hand, justifies the price with its well-appointed interiors, abundance of amenities, and a respectable real-world range. Customers who are prepared to go with some accessories can choose for the less expensive Excite model, which comes with the same battery pack and...Read More', 'MG\\xa0ZS EV is a full-package\\xa0car, and\\xa0the mileage of this car is great.\\xa0It gives a comfortable and convenient experience with a sunroof.', 'It is a very good SUV car in the segment.\\xa0Its\\xa0features\\xa0and safety are also good with the best performance.', \"Overall good car. It has good mileage and the performance of the car is fantastic. The sunroof is also good. It's good for long drives. The MG ZS EV's 44.5 kWh battery is rated 5-star by the European NCAP, given after numerous safety tests to provide you with the safest vehicle experience.Read More\", 'Beautiful interior and comfortable space and sitting soft driven smooth feel. Good Sound quality and controls.', 'This is the best electric car with good range and nice features. The power of this car is mind-blowing and gives more power than other petrol or diesel cars.', 'It is a futuristic car with\\xa0comfort, practical\\xa0stylish design, economically great, and good performance.', 'Superb car in this generation. And the battery is very good,\\xa0the interior is the best. The car design is very beautiful.', 'I feel the car is good enough on the inside but I felt that MG could have done a much better job on the outside especially - the design on the front. The artificial grill on the front is pretty lame - very disappointed with MG on that part. Apart from that, the other features inside the car are something that I guess MG has followed like a traditio...Read More', 'It was a good buying experience I received the car the previous month and took it on a long drive to Mumbai and its riding experience is just awesome.', 'Its a really an awesome car,\\xa0very comfortable with figure-hugging seats. Soft-touch sides and dash generally look much more valuable.\\xa0Higher-spec car. After driving for a while I can honestly say that the MG ZS EV is a really nice place to be.\\xa0The panoramic sunroof is just pure Zen. This is how to drive and experience mindfulness at ...Read More', \"Overall good car. It has good mileage and the performance of the car is fantastic. The sunroof is also good. It's good for long drives.\", 'The car looks beautiful and is amazing to drive. However, it can only allow two people to sit in the back comfortably.\\xa0', 'Overall this\\xa0is a perfect car. Its good mileage\\xa0and comfort were excellent. Moreover riding Ev will give you a better experience.', 'Overall it is a good car with features that are pretty good.\\xa0And looking at EV cars it is the best mid-range model EV.', 'This is an\\xa0excellent car in all aspects, its\\xa0drive quality is good, safety, mileage, interior, exterior, speed, maintenance, pickup etc, all things are good in this car.Read More', 'Very comfortable and affordable for an electric car, Smooth to drive. Great family car or great for anyone.', \"Outstanding features with great driving range. Far better than its rivals. It's a highly futuristic car but the price is a bit high.\", \"Outstanding features with great driving range. Far better than its rivals. It's a highly futuristic car\", \"Customers who are prepared to go with some accessories can choose for the less expensive excite model, Which comes with the same battery pack and, Thus, The same range.In the ev suv market, The mg zs ev has always been a sensible option, And the facelift hasn't changed that.If you're looking for a city-friendly ev that you can use for sporadic weekend journeys its great.\", 'Mg zs ev ex-showroom price ranges from rs.20.99 lakh to rs.24.58 lakh.This electric suv has a battery pack of 44.5kwh.The car looks very premium in appearance and is quite spacious from the inside too, Its interior is quite luxurious.This car can be fully charged in 16 hours.', 'Mg zs ev is an excellent car.According to me it is the best car in the segment.The car feels very premium and as the car is electric it is good for environment as well.It has very good range as well.', 'Mg zs ev is like the best electric car i ever bought it is so good.Buying the car was a surprize for my children thank you mg for making a car so good thank you.', 'ZS EV is one of the premium EVs in India, with more efficiency and reliability than any other EVs in India\\nat an affordable range. The design of the car increases the road presence and makes an amazing grip on the road\\nwhich boosts the performance quality of the car. The power in the car is fun. More power than 140 bhp, Adas(at least level 2). Specified ground clearance. AWD, rear ac vent. More\\nfeature. Disliking interiors could be more premium than 2021. The 2022 front grill looks unattractive. The\\nlagging in infotainment. ', \"Mg zs ev has done well in our country, So in my opinion this will surely uplift the demands and necessities of the aspiring ev customers.In terms of driving performance and range, This will be the most preferable choice and i'm very much opted towards the upliftment of e-mobility, So considering that, Mg zs ev 2022 will be a perfect choice.A big hands up to mg zs ev 2022.\", 'Orange car in india launch date on 2022, 6 seater better car, Automatic', '01/07/2022 launching 100 sales 100 ev vehicle in india 25 lak to 30 laks improve charging station']\n",
            "['This is my second review after completing 4 months of drive and 6500 kms of running\\n\\n1.Pune City drive : Always using ECO mode and 2nd level of regeneration mode. My daily running in city includes morning drive of about 35 kms and evening drive of 25 kms.   During morning, there is hardly any traffic and can drive peacefully without much hard stops and accelerations. Evening drive is mostly traffic jams and lot of signals. I am charging the vehicle once in a week (mostly on Friday), after driving around 300-320 kms and still with 10 % SOC remaining. So thermionically consistently getting around 350kms of range. A/c is used 50% time, being colder days around.\\n\\n2.Hghway drive: Recently completed Aurangabad tours with 4 people and full A/c drive. During highway drive from Pune to Aurangabad, got range of 250 kms (charged vehicle after completing 151 kms , just after Nagar ) at around 46% SOC. While coming back, used typical state highway (as visited Paithan), range improved to 280kms .There are many good charging stations between Pune-Aurangabad highway (used EV pump and Tata Power during subject drive)\\n\\nReally enjoying my Ev max and looking forward some more long drives, in coming days .', \"Company promised 400 kms/charge, practically I am getting only 250- 260 kms after 2000 kms.. showroom promised a software update which would increase driving range.. battery needs an update or software??? didn't expect this from Tata\", 'Got car after waiting for almost 3 months. Delivery was super smooth without any issues. Dealer (Saibaba) made good arrangement including small cake cutting ceremony, to celebrate the new entity in life.\\n\\nDriving in city is super smooth. For best results, always using city mode and second level of regeneration. After two /three days of driving practice in city , now able to drive the vehicle without using brake pedal at all  (single pedal drive). Regarding driving range at full charge, started with 300 kms  for first 500 kms and now reaching to almost 360kms . Tata provided mobile App (IRA), indicate your driving behavior  and is in general hand in hand with  your car range. Good driving behavior (always getting  me 9 rating), can give range of 300 kms easily. Out of 4 charging cycle (with 7.2 kw charger), also practicing charging by 15 amp  plug (overnight- 10 t0 12 hours) , which in my opinion will help better cell balancing and battery life.', 'Firstly, I had written a review last month on TATA Nexon EV Max. For some reason the mileage seemed to fluctuate based on the driving skills and usage. Since, it was brand new, based on my driving and other criteria, it indicated a very low mileage and I overreacted and posted very negatively about the car and my sincere apologies for the same. Now, after couple of charges, it is back above the promised 400/kms on a full charge.', \"Firstly, the promised mileage was 417 kms for a full charge as per the brochure. when we took delivery it was 385, but when we charged it first time at home after humungous battle with electricians and electricity board, the mileage has dropped to 272 within a week. Tata motors has all kinds of reasons. they claim 417 km mileage they claim if one drives at 30km speed. why will i need a car if it i have to drive at 30km speed, i might as well walk! didn't expect this from the Tata's at all. just like any other company they are just there to make fools out of retail customers. please do not buy this car. it's full of false promises and deceit.\", 'Had a wonderful buying experience as rto is not applicable so it saves pretty good amount, driving experience is the next benchmark for any car. It runs very smooth that you will fall in love with driving. Looks are quite beautiful and looks more better in its new intense teak blue colour, as it is electric service and maintenance cost is very low and if there is any software update Tata will call you and do it for free. Pros are money saving car, good to drive, low cost maintenance cons are you cannot take it for a long drive as charging stations are not as many as petrol pumps apart from it range gets decreased once you put in sport mode. Apart from this no cons.', 'Buying experience is good to dealer and mostly Tata make a good Car in this price range . Driving experience is very smooth and Good pickup speed. ', 'Tata always do some challenging task and this time Tata launch this amazing car.We can compare this car with MG electric which comes with double cost compared to Tata Nexon.Charging stations is a issue right now.But Tata is setting up charging stations in future there will not be any problem.', \"The car is best with it today's specifications and the car is wonderful by looking at its colour and the looks are great.Also it suits a person with good looks and the mileage is also good.\", 'Firstly a big thumbs up to Tata who have priced the car so well. No other EV car in the market is priced as aggressive as Nexon and with the features the Nexon EV MAX provide its totally a win win to the TATA. For pros it offers best in class features such as new premium feel gear knob, auto hold feature with electric handbrake, Harman infotainment screen system, and for safety point of view it has ESP with BAC, etc and the list goes on for the pros.\\nNow cons- it is a bit small car for five passenger to sit, only four adult passenger can fit in the whole car, but in the case of children 5 passenger can easily fit in, could offer new styling design in the exterior but even the same design looks good so not more light on that part.\\nThis is my review for this car, thanks.']\n",
            "['Best in cost and best milage best in comfort. just there is a shortage of EV stations. if that is improved then no one would buy petrol or diesel cars.', 'I was hell impressed with the Tata Nexon EV Max, and not just with its performance, but also its safety features make it more appealing to anyone. I like how well-balanced and comforting it feels to drive an electronic car. Though for me it falls on the expensive side.Read More', 'This is the best electric car with a good range and nice features. The power of this car is mind-blowing and gives more power than other petrol or diesel cars the car looks down and its color is dynamic.Read More', 'This is the best electric car with a good range and nice features. The power of this car is mind-blowing and gives more power than other petrol or diesel cars.', 'One of the best EV\\xa0in budget with good design and easy charging best for budget driving and good performance', 'I was driving this car for almost 3 months. The overall quality of this car is awesome and the performance is amazing. I am excited about the features.', 'This\\xa0model design is very nice with good\\xa0sound quality and nice ac. The ground clearance is sufficient. Runs less than the mentioned range, and charging takes more time. The price is too high.Read More', 'It is the best electric vehicle in this segment It is easy to use vehicle and has a low running cost and performance and comfort are 10/10.', 'Nexon EV, the car is best if you want comfort, style, and ecofriendly. At this price it is just a masterpiece. You should go for it if you are fascinated with EVs and want a budget-friendly car with low maintenance and full of features. My experience is great with it, just delighted.\\xa0Read More', 'The first car, the first time experienced this car, it looks comfortable and classy. No doubt Tata motors are pocket-friendly and services are good.\\xa0', 'I have been using it for 6 months and its performance is absolutely stunning and thrilling. The customer support is very helpful and supportive and also the sales team is superb. Its comfort and features are outstanding. The fast chargers are available very conveniently. The Z connect app is also good with some nice features. The blue colour is abs...Read More']\n",
            "['This is my second evaluation after traveling for 4 months and running for 6500 kilometers. Driving in Jaipur: constantly using eco mode and second-level regeneration mode. I often run in the city for around 35 km in the morning and 25 km at night. There is scarcely any traffic in the morning, allowing for pleasant driving without many abrupt stops and accelerations. The evening commute is primarily congested with several signals. I charge the car once a week (often on Friday), after traveling 300–320 km, and still have 10% soc. Thus, the thermionic system routinely achieves a range of about 350 kilometers.\\n', 'I bought the xz plus lux 3.3.Kw variant at a price range of 19lacs in starlight color.The range factor was the reason for me to buy such an expensive variant.It has claimed range of 330kms, Which is satisfactory in terms of city use.', 'Tata nexon ev max comes at a premium price with premium feaures.The car has solid looks and feels very great and classy from inside.It has good on-road presence.I love the electric driving experience with fast charging and long range.It does no get over heated in summers as well.', 'Tata nexon ev max has awesome built quality.I took this car to some pretty challenging roads and it was able to drive through everything.Tata has made a solid car and i think it is the future of electric cars in india.I am very happy with this car.', 'No more costly petrol needed.More peppy than hirider.All specifications for comfort are same.More cute, Since length is less.Chargable from home power source and outside fast charger.', 'nice car paise nhi hai itne mere pas nhi to mai bhi tata nexon ev lekr ola me attach krta', 'Good to drive.Range is 330-380km.Only drawback is the mrf tyres are not that great.', 'We get around 350km/charge but the car performance and comfort is upto the mark but the aftermarket sales and service is terrible, This is the only reason people are choosing another brand rather than tata, If tata improves their after-market service surely, They will beat hyndai sales they improve mileage surely they beats maruti suzuki and tata will be no:1 forever salute to ratan tata for these precious cars', 'Nexon ev max provides superb ride quality.Tata claims to get a range of up to 437 kmph on a single charge.In terms of speed too, It can achieve the top speed of 0 to 100 kmph in just 9 seconds.I missed a couple of bumps and an unmarked speed breaker but it shook it off and settled down very well.', 'Tata nexon ev max looks more or less similar to the regular version.Overall, Everything in the cabin is well put together, And the quality of plastic bits is very good.The textured dashboard and honeycomb pattern on leather upholstery particularly look impressive.The stability of the car is good.']\n",
            "['Good E v,  5000 kms run , performance is good so far. getting 253Km/ full charge and average energy consumption is 103 watts/ kilometer. This car is fair with Teal Blue colour. Excellent sedan for city drive.  Pros and Cons : Wheel size only 14\", Rotary gear mode selector.', \"We bought new Tata Tigor EV in April 2022 from Gokul Motors, Chrompet, Chennai, after too many questions and clarifications form the vendor.  (TN11Y0076)The car was initially good and until done 10K Kms, no issues. Suddenly got in to mess while completing 15K mark, where the car batteries gone and car stopped middle of the road and Tata eventually had to replace battery after keeping over 10 days in the workshop. After big struggle the car was serviced as the service center don't have any troubleshooting or fixing capability of a EV problem. Every time when I do follow up, the workshop people mostly waiting for either (assembly)plant instruction or an Engineer to come down from Plant to fix the car. Again at 23000 Kms, had issues with charging, where the service center staff tried their level best and even after 1 week, they were unable to do the triage.  Latest update I had from Tata services today (As I am typing this review 13Dec2022), workshop needs 3 more days to fix and still not know what was the actual problem with the car. Our hands on experience to share potential EV buyers, please do through analysis and beware that EV is a immature product, in which we are betting on. Thank you..!\"]\n",
            "[\"I purchased my Tata Tigor in December, however, the showroom experience was disappointing. Unfortunately, they didn't deliver my car on schedule; it arrived a little later, but when I did, Tata pleased me so much. Driving the brand-new Tigor both on and off-road provided me with the necessary confidence and incredible experience. Tata's constructio...Read More\", \"Tata tiger is a beast car with fully loaded comfort and the mileage is too good. The suspension is out of the world for a family of 5 members it is worth buying the car's mileage is 19 in cities and 26 on the highway .one should believe this car Ac is tremendously satisfying and the sitting quality is too good. It is a beast car with fully function...Read More\", \"I'm also a Tigor XZ+ 2021 model owner and I think Tigor Is the only value-for-money car under a 10 lakh budget that gives you the feel of having a big car. You will get all the necessary features and this car gives you the best-in-class sitting comfort along with a big boot space. The mileage is also pretty good, I easily get 16-17 kmpl in Delhi. I...Read More\", \"Among this segment's compact sedans, the safest. Good buying experience. Riding is really comfortable. Fantastic sporting looks. Low Cost of Servicing and Maintenance. Excellent fuel efficiency. The Safest and Most Economical Compact Sedan in Its Segment. My knowledge is excellent, and I have owned a Tata Tigor Xz+ for more than three years.Read More\", 'I have Tata Tigor 2020 manual petrol varient. I purchased this car on 24 April 2021. It is a good family car of 5 members. It has been more than a year since I own this car. So, let me tell you about my experience. I had driven this car for approximately 7000 kilometers. It gives a mileage of 16 to 17 in the city and on the highway, it gives 20+ ap...Read More', \"It's superb in design, and\\xa0no one can beat\\xa0Tigor\\xa0in safety. It is a superb car in performance and power.\", 'Good for value and it has nice features. Safety features are good, the\\xa0look build strength is tremendous, and it is a nice car for family purposes.\\xa0Tata is providing\\xa0safety and great performance.Read More', \"We have been looking for a sedan for about 2 years and finally, we ended up having Tata Tigor. Now it's been about 2 years since we own this car, and now also its performance is the same as 2 years before. We had about 2-3 more sedans as our options in this range like Honda Amaze, Ford Aspire, Maruti Dzire, etc. but after taking a test drive for th...Read More\", 'The overall experience was very much satisfactory in this price range stylish safety performance everything is there.', 'Tigor is a fully loaded car with all the required features and top at comfort. Also good in style and has amazing ground clearance but just needs to improve its braking system which makes the sound at very high-speed breaking and in rain.\\xa0Read More', 'Good experience with features and drives, comfortable seating for 5 people.\\xa0Automatic AC, performance is good. Boot space is good easy to adjustable bags. The engine amazingly performs with both CNG and petrol fuel.\\xa0Read More', 'Good to go for people looking for good mileage and low maintenance cost. It also provides some good features such as a back parking camera, music system is not bad. One of the best things is the comfort in the front row.Read More', 'Very easy and comfortable to drive in city, and on highways as well for long drives\\xa0(I have a 2021, XZA+ model). It gives very good mileage (City - 16-18kmpl, Highway - 22-24kmpl), is very stable at high speeds, has good braking, and has bright headlamps suitable for night drives. A big boot space to carry all your luggage, Good ground clearan...Read More', \"It's too good and my personal experience is best safety 5 out of 5, good performance, good look and perfect. This is the best car.\\xa0\", 'Best Sedan car by Tata for middle-class families. Superb look and mileage. Also available in CNG fuel for CNG lovers from an economical perspective.', 'Best ever mileage car. Great car. Robust built quality. Absolutely safe. Delivers amazing mileage of 23+\\xa0kmpl\\xa0in petrol on long drives when driven in safe speed limits between 70 to 90 km/hour.\\xa0Read More', 'Overall Good package Value for money But very much underrated cars even the tata showrooms themselves try to sell Altroz or Nexon rather than Tigor. Average is also decent about 18-19kmpl (AMT version). The top model is also cheaper compared to Dzire top model . Ride is pretty much soft, and the engine feels underpower sometimes when overtaking. Th...Read More', 'Good car for the family, feel safe and comfortable during driving. It gives a great performance on the highways and as well as cities also good. This car design is beautiful, and its features are also good in this segment. Overall, this is a good car for family purposes. Tata cars are the best and most low-maintenance cars. It is the best sedan. Va...Read More', 'I purchased Tata Tigor XZ Plus in November 2021. Everything is fine except mileage which is approx 14 while maximum driving is on highways.', 'This\\xa0car design is beautiful, and its\\xa0features are also good in this segment. It gives a great\\xa0performance on the highways and as well as cities\\xa0also good. Overall, this is a good car for family purposes.Read More', 'This car is very good in safety and comfort. Very\\xa0convenient\\xa0and the service cost is minimal.\\xa0I love the Tata cars because\\xa0the safety of their cars is top-notch,\\xa0one more recently added pocket-friendly feature is CNG which is so good for daily drive.\\xa0Read More', \"It is a good car with\\xa0safety. It's a nice\\xa0driving\\xa0and comfortable car for an enjoyable drive in the city as well as the village.\", 'It is an\\xa0amazing sedan at this price. Its durability, design, safety, and performance are unmatched. I highly recommended this car for a family of 4-5 people.', 'Using it since 2019. Not even found a single demerit of this car. The car gives drivers a luxury touch and provides good mileage and comfort at this price.\\xa0', 'Very nice car in this segment of price, Good in performance and safety Overall an amazing car, Must buy.', 'This is the best sedan car in this price range.\\xa0Its looks, comfort, and safety are also good.', 'Best choice best design, good mileage, very comfortable, good boot space, very low maintenance.\\xa0', 'I own\\xa0a Tigor XZA (AMT) for the past 4.5 years. Bought it just as the AMT version was launched in 2017. The car has done 26000 km till now. \\nPros: - Safety, the reassuring thud from the doors, the heaviness of the boot and hood and of course the 4-star GNCAP rating.\\xa0The engine is responsive in the lower end of the rev band, making it extr...Read More', \"This is a fantastic car.\\xa0Tigor's\\xa0mileage in CNG\\xa0is around 26km/kg,\\xa0auto-start is available\\xa0in the CNG. The design and interior look are also good.Read More\", \"An amazing package from Tata Motors. I have been using this car in AMT form for the last 4years. I have done 47000kms across several highways and intra city driving. It's such a stable vector where you and your family feel safe in the car at higher speeds as well. The car definitely feels one segment higher. Just go for it if you want a safe, comfo...Read More\", \"Best car in the Sedan segment, Best design and CNG mileage up to 28kmpl. My first priority is safety.\\xa0So a Tata company's build quality is better than all companies.\", 'Best a compact sedan car. Spacious, smooth handling, good average, safest sedan car, best build quality.', 'The best sedan car in this segment and over this CNG is company fitted is the best part. After the CNG cylinder, there is a lot of space remaining in the boot.', \"Best sedan in its category. However, electronics require to be more confidence-inspiring. Hill assist or a similar feature in the manual version is the only wish. This is important for today's driving conditions. Overall, very good value for money. Apparently. This is a sedan with a unique character.Read More\", \"This car body colour is very low quality. It's damage within 2 years and 6 months. This time period is very little for the damage body colour\", \"I'm one of the proud owners of Tata Tigor XZ (O) for the last 4+ years. This is the safest vehicle, that I have driven.\\xa0The vehicle is completely under control, with safety like ABS, and EBD it's always fun to drive long rides.Read More\", 'Is price segment me ye car laajawab hai. Driving quality iss car ki bahut acchi hai. Car chalane me itna maza ata hai. Solid hai, sound quality bhi acchi hai Wagon R, Celerio, or Swift se bhi acchi feel hai. driving me hosakta hai aapko dekh kar sahi na lage lekin drive kar ke dekho aapko fark dikhayi dejayega. 7 lakh\\xa0me best car hai.Read More', 'I had bought this car on March 21 right now getting mileage of 22-24kmpl on the highway with speed between 90-100kmph and 15-20kmpl in the city, if you drive a car with a smoothness not give too much load to the engine you would get good mileage, but one draw back is there that it requires some more power overall performance is good specially build...Read More', 'Engine refinement required 4 cylinder\\xa0engine can be good for smooth acceleration, vehicle noise from bonnet can be reduced for better upgrade', 'Easy to drive, feel better in comfort and safety. No worry for how long the ways just drive and drive. One thing says to Tata, why is Tata not promoting this sedan car, it is very shocking to me, and please be in the next generation also.Read More', 'I have just completed 1k\\xa0km with my Tigor XZ Plus. Excellent Car for a middle-class family in budget. Great comfort in a rear seat. Nice suspension. Better than Swift, Dezire, Baleno, and I20. Value for money carRead More', 'Have to improve in seating. Cruize control is not there. The rare ac vent is not there. The glove box is small.', 'Best safest sedan in the budget of 7 lakh on-road. Nice feature overall. With best in segment speakers of Harman.', 'The car mileage is very less around 12 in the city and 17 on the highway. The same price you can get for another car with more than 20+ mileage.', 'It is a supercar anyone can choose it without any tension, and it gives fight to Dzire, Aura, Honda City, etc and Altroz also better go for Tigor better safety, and mileage,\\xa0and boot spaceRead More', 'I am a fan of TATA since 2012. I went with my first car Zest then Safari Storme, and now I have the new Harrier XM, Tigor XM, and a Tata Altroz Dark edition\\xa0and in my family, there are 4 Tigor, so I have the best experience to it, everything is fabulous in the car, its a value for money pack also its the cheapest, and the safest Sedan. The onl...Read More', 'The very good built quality,\\xa0we need to improve service part of Tata\\xa0and please improve the interiors like lock unlock system and handle all. Thanks', 'Five Stars for safety and comfort. The most economical, and budget sedan for a family. If you are a new driver definitely go for an AMT. The only drawback is a 3 cylinder engine.Read More', \"Tata Tigor is one of the worst cars ever, no performance at all, it's like a miniature 3 cylinder engine, no pickup nothing, waste of money, I told many times my dad doesn't go with Tigor but the sales team convinced him and he took vehicle today from one of the Tata Motors in Chennai, TATA group please stop production this kind of miniature engine...Read More\", 'Stylish, comfortable, good for city commuting, easy maintenance, good build quality, good suspension.', \"My experience with Tigor was just awesome. The build quality, handling, and comfort are just superb. Anytime Tigor. Proud to be a Tigor owner.\\xa0Just go for Tigor.\\xa0I know you won't regret it.\\xa0India's safest sedanRead More\", 'Tata Matlab\\xa0trust.\\xa0Most trusted brand in the world Good features, comfortable in the budget, Every thing is good, safety also', 'I have used this vehicle for more than 3 years now. This is the most practical and no-nonsense vehicle. With Tata, you get a few teething issues but they have ironed out issues over the years. I own the AMT variant and have been quite impressed with the ease of usage. If safety, practicality, comfort, and sturdiness is something that you are lookin...Read More', 'A perfect blend of comfort, space, luxury, and Safety.\\xa0Best in class. Highly recommend. Thanks, TATA 🙏', \"I'm using Tigor since August 2017, and I'm very satisfied with it. Good car with decent features, good looks\\xa0at a good price for the middle-class family\", \"I have mixed experience with this car. Been 6 months with this car. Overall average car but the concern with mileage within city 12kmpl. The only good thing - good built quality (I got alignment issue which was fixed in service center in 2nd service), I don't know whose fault. Is it with a car or my driving on our Indian roads) and a good sound sys...Read More\", \"I love Tata cars. It's my dream car Tigor. Tata's car look and built quality are very good. And Safety features are also good\", 'Best in the segment.\\xa0Best sedan. Go for Xz or Xz plus, current mileage 24kmpl on highway and 18 in the city, looks good', 'Purchased Tigor in Jan 2021 and no major issues until now. This car has very good build quality but it lacks power during overtaking.\\xa0', 'Wonderful car, I am very satisfied. Thank you tata, love to drive on the highway roads, bs6 engine refinements improve, silent cabin, chilled ac and comfort also good,', \"Safest car in a decent budget range. Looks like premium also. Performance-wise too good. For mileage, there are two options, eco, and city, and it is giving 19+ on eco mode with ac on Highways. In the city, it's around 15+ on heavy traffic with Ac. Simply go for it.Read More\", 'Tata is best in safety, mileage reliability, my next vehicle is a Tata Harrier.\\xa0You should go for Tata.\\xa0Refuse Maruti.', 'Superb, Safest, Comfortable, Sufficient Boot space. Best\\xa0and\\xa0safest\\xa0family car at\\xa0a reasonable\\xa0price.', 'This car provides the best speaker and space in its price segment. Mileage is ok about 15kmpl, good ground clearance.', 'I bought Tata Tigor XMA AMT in 2020. Till now,\\xa0I am very satisfied. Superb car at a lower price. Average, performance and looks are awesome.', 'Value for many cars, best in safety. I love Tata, best in comfort\\xa0on\\xa0the highway. I am fully satisfied with my Tigor 👍👍👍👍👍👍', 'Tigor maintenance cost is high other than the comparison, but Tigor smart play and sound system is best in class,\\xa0mileage is better', 'Overall a decent car. The quality of interior materials could have been improved. Comfortable for a long drive.', 'Wonderful car, I am very happy with the car body.\\xa0Strong, safest car, Mileage is good for highway Smooth driving', 'Tata Tigor XZ+ (top-end) manual variant. My honest feedback: Pros: 1) Stylish exterior design. Lots of Chromes used in exterior as well as in Interior and with Diamond cut Alloy Wheel, we will get a Premium Sedan to look and feel. 2) Very spacious, lot of Legroom and comfort 3) Good Infotainment System Cons: 1. Very poor pick-up. We need to press t...Read More', 'The car is good and reliable, best at its price.', 'Safest compact sedan with features loaded car.\\xa0Comfortable riding on highways and city.', 'Low maintenance.\\xa0Satisfied milage, good suspension, great build quality. Cons moderate AC quality, more cabin noise.', \"I purchased Arizona Blue Tigor XZ+. It's around 6 months now, never repented. Usable & needed features, handy though & decent performance engine (Not to the extent of F1 Cars, LOL!!) Easily manoeuvrable in the city & excellent handling on highways. Comfortable car for 4 & can accommodate 1 more & will be tight on space for hefty...Read More\", 'You must buy that is a great car, I am recommending everyone to buy this car.\\xa0', 'Nice car in looks and good mileage in highway 23kmpl,\\xa0It is comfortable for\\xa0middle-class people to buy.', 'Very good looking and feedback is almost good. Very strong look. Visited and undertaken test drive also. Some more width expansion is expectable in this cost.', \"I haven't spend a single penny on my car since when I have purchased the car. I really enjoyed using this car.\", 'Tata cars are the best and low maintenance car. It is the best\\xa0sedan. Value for money and good mileage. 15 to 17 in Bangalore traffic city and 21 to 23 on the highway. Amazing car and you will feel safe in this.\\xa0Read More', \"This car is for true enthusiasts.\\xa0It features a rich car also. best safety, best performance, comfortable, crazy-looking car.\\xa0Especially make this car for Indian roads. Overall this sedan is the best.\\xa0I'm happy with this car :)Read More\", 'Best sedan ever nice drive experience highway milage is good, looks nice and performance is solid.', 'Power lag on strip (Ghat) road while AC is ONN almost engine goes off, not much classic interior, very bad experience at sales just trying to loot the customer. Need some more dealers in Goa.Read More', 'Supercar in the budget. Better than all sedans. I am proposing this to sedan planning customers.', \"Tigor is a very worthy car for the price tag. Had got it for 8lk for top-end petrol. Now also it's almost the same even with more features and improved design. Less maintenance for sure. Almost half the maintenance compare to Hyundai or VW. Mileage is a bit of concern because the car itself is 130-150 kg heavier than the tin cans. But if you drive ...Read More\", 'This car looks awesome. Fully features loaded and\\xa0best safety features in this segment.', 'Best car in such price range,\\xa0better than sheeps of Suzuki as well as safety features and strong engine performance with High-quality metallic body and good space. The interior systems are inspired by the Jaguar cars.Read More', 'Good car, no trouble, good pick up, very comfortable for the long drive, also the vehicle is good at the speed of 80 to 100kmph.', 'Most value for money car. Any other car of this feature and built quality will cost much more than this one. Just buy it without any hesitation.', 'Really smooth driving experience with Tata Tigor also it has stylish & stunning features.', 'Very good car and easy to control. It delivers good mileage on the highway\\xa0about 25 kmpl.\\xa0Driving this compact sedan for the last three years.', 'I have been driving Tata Tigor for around 3 years. Very good vehicle. Its performance and comfort levels are also very good. Gives good mileage. Getting around 20.5 km on highways and around 16 in the city.Read More', 'I have brought the Tata Tigor XZ+ manual. I drove approx 1300 km and I am fully satisfied with the car to date. Its a best in a class compact sedan. Engine performance, suspension, stability is good. Mileage is approx. 12.8 in the city and 20.1 on the highway. The overall buying experience was also good. Most fools trying to criticize TATA. But as ...Read More', 'One of the best cars at this price, features, safety, and style everything you want the fantastic job by Tata. No regrets.', 'I am totally satisfied with my car and the service center of Raipur are providing very good after-sales-service.', \"The car is giving the worst mileage 11 km per liter. DOn't buy this car it is giving very bad mileage. A total waste of money.\", 'Tata Tigor is a good car with\\xa0a good look, good driving experience, a powerful brak system, Harman speaker which is an awesome sound effect, revtron 1.2 ltr powerful engine. Everything is good and comes in a common man budget. Powerful safety features.Read More', 'WORST SERVICE SUPPORT BY TATA. And it has some fault which not able to be tracked by TATA Itself and now they kept my car. \\xa0', 'My car tata Tigor zx+ 2020 is just 1 month old and till now I am having the best experience with my car. Everyone complaining about Tata for their after-sale service but in my case, I\\xa0am too happy with the service of National Garage, Raipur CG.Read More', 'Compared to other vehicles, Tata Tigor lags far behind in performance. Features included in the car are very low as well as the mileage of the car\\xa0is also very low.', \"It's my country car, but it is very poor observed on short width roads even while\\xa0speed 20 kmph the mark shows on body paint. I purchase this car in Dec 2018 & my almost traveling on a short wide road &has got bushes marking on the car body paint which reflects it's very old.Also, I can't get milage more than 16 km/ lit even I drive on...Read More\", 'Tigor is a very safe car in India, the car built quality is amazing and very strong, the safety features in this car are also amazing.', 'Safe and good car better on the highway but in the city, it is ok highway mileage about 20 but in city 12. The overall car is comfortable.', 'Tigor spare is quietly high expensive and poor quality. My Tigor 27000 km driven got shock absorbers complaints and steering collet compliant with an estimated cost of 40000 thousand by the service center. Really disappointed with the quality of the make costing a 40000 repair cost for a 500000 vehicle in 27000km.Read More', 'I own xza plus and driven almost 6000 km, excellent in safety, comfort, interior and performance, good in mileage while non-ac, some negative things are, little noisy, outdated door locking knobs, and especially the most worse infotainment system.Read More', 'I have Initially hesitant to go for Tata cars, As 8 months back I used to have a BS4 engine Ertiga vehicle and due to an accident it went to for a total loss. So I brought this Sadan after having a test drive with Honda Amaze, Aura, and Tigor and finally chose because of the features and comfort level of the car. As of now I drove almost 1500Kms an...Read More', 'After a lot of search and thoughts finally booked on 14 Sep 2020 TATA Tigor BS6 version XZ+ manual variant and taken delivery on 12 Oct 2020. So I tried the car in different terrains like highway, state way, village gravel road and I am very satisfied with its performance. Thumps up for Tata for making this car.Read More', 'Mast car at this price.\\xa0A sedan\\xa0with good safety features, good mileage, great music system. Only some notice from the dashboard has to be given to make it perfect.Read More', 'I am using Tata Tigor XZ+ petrol variant for almost 2 years on highway non AC I got 28.4KM/L mileage, thanks Tata motors loved your product.', 'Perfect car for a family best to buy. Its maintenance cost is also low and mileage is around 25 which is very nice.', 'My best and well-experienced suggestion to any customer is not to buy TATA vehicles. I bought TATA TIGOR. From day 1 engine problem. The service also wastes. No response from the tata showroom. Worst service. No milage. Please prefer MARUTI or MAHINDRA rather than TATA. WORST vehicle and service.Read More', 'Much better than Swift Dzire. Everything is fine from the last 1years, but the Tata motors service is not up to the mark as Maruti & Hyundai.', 'I have purchased Tata Tigor as my first car before 2 months. But it gives only 10 to 11 kmpl mileage. After first servicing the mileage gone more down to 8.5 kmpl. Tata Tigor is a stylish and comfortable car but not affordable to daily use for petrol.Read More', 'Excellent car but engine performance should be a little better. Otherwise, all the other things are very best.', 'Very nice & value for money car and delivers\\xa0great\\xa0styling and\\xa0safety and Mileage of the car is also awesome.', 'Nice budget car with fully loaded features like 6-way adjustable driver seat, rear armrest, alloy wheels, front fog lights, cool glove box, much space to store. My stuff, 2 mobile charging ports, rear window defogger, and last but not least largest boot space in this segment.Read More', 'I own XZ+ Diesel and\\xa0driven a few thousand km without any issues. Its mileage machine I always get 20+ km in the city and on highway eco mode delivered me 26-28 km. Build quality is excellent you feel premium inside the cabin. Huge boot space for your long rides, best in segment Harman sound system keeps your mood high. Some initial pickup and...Read More', 'Best value for money sedan. No problem from the last three years. Amazing stability. More than enough cabin and boot space.', \"I have driven my Tigor\\xa0xz+ petrol for few thousand kilometres and I am very happy with my decision despite friends suggesting not to go with Tata cars. Everyone has their priority aspects while purchasing the car but mine was in the order of safety, comfort, price, mileage, and features. It has bagged 4 stars in NCAP for safety, it's suspensio...Read More\", 'An awesome car in all aspects with stunning looks, marvelous performance, and very comfortable.\\xa0I have driven\\xa0520km non-stop but not felt any back pain or tiredness and gives mileage of 24.9km/hr.Read More', 'Very good sedan car gajab bhai shandar sedan hai lelo bilkul aankhe band karke.', 'Awesome build quality. The spacious cabin and boot space. A very comfortable ride with smooth driving. The only mileage is little concern. Overall, value for money car.', \"Good Indian manufacturing car now Tata is improving the quality of all fields like features, safeties, and style.\\xa0Tata car is a long life car and I'm impressed by Tata, but servicing quality required improved like a professional mechanic and better customer service,Read More\", 'One of the best safety sedan car at VFM.\\xa0A car\\xa0engine is the only downside still it can handle things like a boss.', 'I am using a Tigor XZ for approx 2 years, 78000 km driven, and its overall performance is too good.\\xa0No requirement of any part replacement until\\xa0today, the mantainence cost is not high.Read More', 'Low cost and excellent service and excellent performance within the price.', 'The infotainment system is not so user-friendly. It needs an update. All other features are excellent and riding the tiger is always fun. The improved suspension gives confidence in tackling all potholes in Indian roads.Read More', \"Pros: Mileage - great, on the highway, it gives around 25.5 km/ltr. Comfort - Best in the class. I drove it non-stop for 450 kms, didn't even felt tired. Back seats are not that comfortable though. Performance - I have done a lot of off-roading with this. It amazes me every time. Styling - Wasnt a great fan, but it grew on me. Boot: Very well desig...Read More\", 'I love this car 1.safty 100% 2. Performance 100% 3.driving style 100% 4.looking design 100% 5.all off designed 100% worth', 'I feel\\xa0Safe while I drive my car. Nice work by Tata from new platform. I have Own Tiger from last one year my experience is very nice from the Tiger. Eco mode gives fule save options from this car it is such a nice feature for people to drive at less cost. I get 19-20 kmpl in eco mode and 17-19 in city mode so it is good. Their one negative is...Read More', 'Tigor has nice mileage. Tigor is value for money sedan. I have BS4 Tigor which give a nice performance and now Tata has introduced BS6. Tigor which will more impressive.', \"From my personal experience, this is one the best car that TATA Motors has ever produced in India\\xa0market... this is the most valuable car it has everything thing that a good driver needs.. comfort, performance, seating position, build quality and importance. It's music system that mind-boggling awesome...Read More\", \"It's not good, bad performance,\\xa0no comfort in driving, I suggest not to buy this car.\", 'One of the best Semi Sedan car of the line. Worth buying as it is not much costly and the driving experience is very comfortable. You can also use this for the long route. This car gives tough competition to its competitors in the market. Boot space is also big. The look of the car also matters so this car also provides you with one of the finest l...Read More', 'A good and value for money car. The car has stylish looks and gives great mileage too. The build quality is tough and the car is great from a safety point of view.', 'A good and value for money\\xa0car. The car has\\xa0stylish looks and gives great\\xa0mileage too. The build quality is tough and the car is great from a safety point of view.Read More', 'It is an\\xa0awesome car and I got a good experience with this car.\\xa0', \"I'm using the Tata tigor xz+ petrol car since February 2019. It's the best one in sedan car. Feel like very comfortable to my choice. The best looking Interior, exterior, safety, entertainment,boot space,alloy wheels and attractive Egypt blue color and smooth drive. I always love my car and thank to tata motors also for this product.Read More\", 'The boot space of the car is very spacious and feature wais the car is very rich. But the gear shaft vibration will irritate you and the dashboard also make very loud noise even at the normal road.Read More', \"It is a great car for both offroad and city drive, but the features could be a lot better. Did I buy a Tata Tigor in 2018 haven't faced any major problem since then but a sunroof or a better headlamp setup would definitely be perfect?\\xa0Hence, its a perfect car for family of 4 with the perfect size for Indian roads.Read More\", \"Tata Togor is the company's venture to the segment that they have started 'The sub-4-meter sedans'. Tigor is the sedan model of the Tiago. This measures under 4meters to cut the tax duties. Now Tata has upgraded the Tigor to BS 6 and to a new styling ×Design Tigor is now based on impact 2.0 design language. The tripod base shaped arrow design os se...Read More\", \"This car is a budget sedan with good power but when it comes to maintenance then it creates hurdles for you. It's suitable for 4 people,5 the person will have the struggle to sit comfortably. Suspensions are good. Mileage of the car in the city is 18 km and on the highway its 23 km. In conclusion, if you maintain it regularly then its the best buy....Read More\", 'Buy the best safety car, It is an amazing car with all the features.', 'This is a feature-rich car. Its design is amazing.', 'Wonderful car with the best design and delivers good mileage.', 'I have Tata Tigor XZ top model of a diesel variant. Very good build quality than any other similar cars in this category of sedan and one thing is the sound of this car, very superb sound quality.Read More', 'Seats are\\xa0very comfortable and the infotainment system is very great while driving, strong car, long trip mileage is also good.', '\\xa0I own for the last 2 years. XZO in petrol. Very comfortable and very stylish and very good looking.', 'Very good looking entry-level sedan car with good space. I think everyone at least one time takes a test drive for the new version of Tigor. Its style, mileage, comfort, and all other features are amazing.Read More', 'The nice car even, it is the best car in this price as compared to Baleno but it looks the same as other Tata cars that disappoint me.', 'Awesome car. I have been using this and really its pleasure to drive.', 'After-sale service is pathetic, very cheap quality plastic used for the interior. The dashboard makes noise, no proper insulation is done. Burning smell/exhaust smell inside the cabin, the issue not fixed yet.Read More', 'No doubt that Tata had made outstanding vehicles . In that this one is amazing package for those who want strong budget car.']\n"
          ]
        }
      ]
    },
    {
      "cell_type": "code",
      "source": [
        "performance_keywords = ['Performance','Power', 'Acceleration', 'Speed', 'Efficiency', 'Torque', 'Horsepower', 'Battery Life', 'Range Anxiety', 'Regenerative Braking', 'Throttle Response', 'Top Speed', 'Energy Consumption']\n",
        "range_keywords = ['Range','Mileage', 'Distance', 'Driving Range', 'Battery Capacity', 'Charging Time', 'Range Estimation', 'Charge Port', 'Range Extender', 'Fast Charging', 'Home Charging']\n",
        "ride_keywords = ['Ride','Suspension', 'Comfort', 'Smoothness', 'Bumps', 'Handling', 'Ride Height', 'Body Roll', 'Dampening', 'Vibration', 'Harshness']\n",
        "handling_keywords = ['Handling','Agility', 'Responsiveness', 'Precision', 'Stability', 'Cornering', 'Steering Wheel', 'Traction Control', 'Suspension Tuning', 'Brake Balance', 'Chassis Rigidity']\n",
        "braking_keywords = ['Braking','Stopping Power', 'Brake Feel', 'Brake Response', 'ABS', 'Regenerative Braking', 'Brake Pedal', 'Brake Fade', 'Brake Discs', 'Brake Pads', 'Brake Calipers']\n",
        "steering_keywords = ['Streeing','Steering Feel', 'Steering Response', 'Accuracy', 'Weight', 'Electric Power Steering', 'Steering Ratio', 'Steering Column', 'Steering Wheel Controls', 'Lane Keep Assist', 'Adaptive Steering']\n",
        "offroad_capability_keywords = ['Offroad','Ground Clearance', 'Four-Wheel Drive', 'Terrain Modes', 'Rock Crawling', 'Hill Descent Control', 'Skid Plates', 'Approach Angle', 'Departure Angle', 'Articulation', 'Wading Depth']\n",
        "nvh_keywords = ['NVH','Noise', 'Vibration', 'Harshness', 'Cabin Quietness', 'Wind Noise', 'Road Noise', 'Engine Noise', 'Exhaust Note', 'Rattle', 'Squeak']\n",
        "occupant_comfort_keywords = ['HVAC', 'Seating', 'Legroom', 'Headroom', 'Ergonomics', 'Heated Seats', 'Ventilated Seats', 'Massage Seats', 'Memory Seats', 'Seat Material']\n",
        "visibility_and_package_keywords = ['Blind Spots', 'Visibility', 'Aesthetics', 'Cargo Space', 'Storage', 'Sunroof', 'Roof Rails', 'Tinted Glass', 'Power Liftgate', 'Automatic Headlights']\n",
        "safety_keywords = ['Safety','Crash Test Ratings', 'Airbags', 'Collision Avoidance', 'Advanced Driver Assistance Systems', 'Autonomous Driving', 'Lane Departure Warning', 'Forward Collision Warning', 'Automatic Emergency Braking', 'Blind Spot Monitoring', 'Rear Cross Traffic Alert']\n",
        "software_features_keywords= ['Software','Infotainment', 'Navigation', 'Connectivity', 'Voice Recognition', 'App Integration', 'Digital Instrument Cluster', 'Touchscreen', 'Wireless Charging', 'Over-the-Air Updates', 'Remote Control']"
      ],
      "metadata": {
        "id": "YVuoX38mAiD8"
      },
      "execution_count": null,
      "outputs": []
    },
    {
      "cell_type": "code",
      "source": [
        "def section_creator(token_sent, keywords):\n",
        "  return(\" \".join([sentence for sentence in token_sent if any(keyword.lower() in sentence.lower() for keyword in keywords)]))"
      ],
      "metadata": {
        "id": "qw4wiqADaTJG"
      },
      "execution_count": null,
      "outputs": []
    },
    {
      "cell_type": "code",
      "source": [
        "def calc_mean(score, length): \n",
        "  try:\n",
        "      result = score / length\n",
        "  except ZeroDivisionError:\n",
        "      result = 0\n",
        "\n",
        "  return result"
      ],
      "metadata": {
        "id": "WSCRyjX2vbrz"
      },
      "execution_count": null,
      "outputs": []
    },
    {
      "cell_type": "code",
      "source": [
        "result_car = {}"
      ],
      "metadata": {
        "id": "fSRUgy297bF-"
      },
      "execution_count": null,
      "outputs": []
    },
    {
      "cell_type": "code",
      "source": [
        "attributes = [\"performance\", \"range\", \"ride\", \"handling\", \"braking\", \"steering\", \"offroad_capability\", \"nvh\", \"occupant_comfort\", \"visibility_and_package\", \"safety\", \"software_features\"]"
      ],
      "metadata": {
        "id": "6ALzpm2p97NS"
      },
      "execution_count": null,
      "outputs": []
    },
    {
      "cell_type": "code",
      "source": [
        "for car_name in car_names:\n",
        "  reviews =car_reviews_dict[car_name]['reviews']\n",
        "\n",
        "  calculations = dict()\n",
        "\n",
        "  for attribute in attributes:\n",
        "    if attribute != \"\":\n",
        "      calculations[attribute + \"_score\"] = 0\n",
        "      calculations[attribute + \"_count\"] = 0\n",
        " \n",
        "  for review in reviews:\n",
        "    token_sent=nltk.sent_tokenize(review)\n",
        "\n",
        "    for attribute in attributes:\n",
        "      if attribute != \"\":\n",
        "        calculations[attribute + \"_section\"] = section_creator(token_sent, eval(attribute + \"_keywords\")) \n",
        "        if calculations[attribute + \"_section\"] != \"\":\n",
        "          calculations[attribute + \"_score\"] += sia.polarity_scores(calculations[attribute + \"_section\"])['compound']\n",
        "          calculations[attribute + \"_count\"] += 1\n",
        "  \n",
        "  for attribute in attributes:\n",
        "    calculations[attribute + \"_mean\"] = calc_mean(calculations[attribute + \"_score\"], calculations[attribute + \"_count\"])\n",
        "  result_car[car_name] = calculations"
      ],
      "metadata": {
        "id": "JH3ju2xS_LGx"
      },
      "execution_count": null,
      "outputs": []
    },
    {
      "cell_type": "code",
      "source": [
        "#for key, value in result_car.items():\n",
        "#  print(value)\n",
        "#  break\n",
        "print(result_car)"
      ],
      "metadata": {
        "id": "_oDPvrYKJnLJ",
        "outputId": "5a10e5a3-3c5e-455b-ed08-ee91144945ed",
        "colab": {
          "base_uri": "https://localhost:8080/"
        }
      },
      "execution_count": null,
      "outputs": [
        {
          "output_type": "stream",
          "name": "stdout",
          "text": [
            "{'Hyundai Kona': {'performance_score': 14.0953, 'performance_count': 25, 'range_score': 7.435099999999999, 'range_count': 22, 'ride_score': 12.8147, 'ride_count': 19, 'handling_score': 0.8885, 'handling_count': 1, 'braking_score': 0.0, 'braking_count': 1, 'steering_score': 0, 'steering_count': 0, 'offroad_capability_score': 0, 'offroad_capability_count': 0, 'nvh_score': 0, 'nvh_count': 0, 'occupant_comfort_score': 0.7585999999999999, 'occupant_comfort_count': 3, 'visibility_and_package_score': 0.3182, 'visibility_and_package_count': 1, 'safety_score': 4.0788, 'safety_count': 5, 'software_features_score': 0.3612, 'software_features_count': 2, 'performance_section': '', 'range_section': '', 'ride_section': '', 'handling_section': '', 'braking_section': '', 'steering_section': '', 'offroad_capability_section': '', 'nvh_section': '', 'occupant_comfort_section': '', 'visibility_and_package_section': '', 'safety_section': '', 'software_features_section': '', 'performance_mean': 0.563812, 'range_mean': 0.3379590909090909, 'ride_mean': 0.6744578947368421, 'handling_mean': 0.8885, 'braking_mean': 0.0, 'steering_mean': 0, 'offroad_capability_mean': 0, 'nvh_mean': 0, 'occupant_comfort_mean': 0.25286666666666663, 'visibility_and_package_mean': 0.3182, 'safety_mean': 0.81576, 'software_features_mean': 0.1806}, 'KIA EV6': {'performance_score': 8.2353, 'performance_count': 13, 'range_score': 7.946800000000001, 'range_count': 13, 'ride_score': 7.504800000000001, 'ride_count': 11, 'handling_score': 0.8779, 'handling_count': 1, 'braking_score': 0, 'braking_count': 0, 'steering_score': 0, 'steering_count': 0, 'offroad_capability_score': 0, 'offroad_capability_count': 0, 'nvh_score': 0, 'nvh_count': 0, 'occupant_comfort_score': 0.8908, 'occupant_comfort_count': 1, 'visibility_and_package_score': 0, 'visibility_and_package_count': 0, 'safety_score': 1.5726, 'safety_count': 2, 'software_features_score': 1.1677, 'software_features_count': 4, 'performance_section': \"The electric ev6 is among the boldest and most exciting kia's we’ve seen.This car is spacious and sleek with fast charging capability, Excellent power, And an anxiety-reducing maximum range of 310 miles.It could be described as a high-riding hatchback.I think this car is going to b**w your heart.\", 'range_section': \"The electric ev6 is among the boldest and most exciting kia's we’ve seen.This car is spacious and sleek with fast charging capability, Excellent power, And an anxiety-reducing maximum range of 310 miles.It could be described as a high-riding hatchback.I think this car is going to b**w your heart.\", 'ride_section': '', 'handling_section': '', 'braking_section': '', 'steering_section': '', 'offroad_capability_section': '', 'nvh_section': '', 'occupant_comfort_section': '', 'visibility_and_package_section': '', 'safety_section': '', 'software_features_section': '', 'performance_mean': 0.6334846153846154, 'range_mean': 0.6112923076923078, 'ride_mean': 0.6822545454545456, 'handling_mean': 0.8779, 'braking_mean': 0, 'steering_mean': 0, 'offroad_capability_mean': 0, 'nvh_mean': 0, 'occupant_comfort_mean': 0.8908, 'visibility_and_package_mean': 0, 'safety_mean': 0.7863, 'software_features_mean': 0.291925}, 'MERCEDES BENZ EQS': {'performance_score': 0.9297, 'performance_count': 2, 'range_score': 0.4927, 'range_count': 1, 'ride_score': 0, 'ride_count': 0, 'handling_score': 0, 'handling_count': 0, 'braking_score': 0, 'braking_count': 0, 'steering_score': 0, 'steering_count': 0, 'offroad_capability_score': 0, 'offroad_capability_count': 0, 'nvh_score': 0, 'nvh_count': 0, 'occupant_comfort_score': 0, 'occupant_comfort_count': 0, 'visibility_and_package_score': 0, 'visibility_and_package_count': 0, 'safety_score': 0, 'safety_count': 0, 'software_features_score': 0, 'software_features_count': 0, 'performance_section': 'The main focus of this car is about performance and the interior given by the Mercedes.', 'range_section': 'The average of this car is quite good at this range.', 'ride_section': '', 'handling_section': '', 'braking_section': '', 'steering_section': '', 'offroad_capability_section': '', 'nvh_section': '', 'occupant_comfort_section': '', 'visibility_and_package_section': '', 'safety_section': '', 'software_features_section': '', 'performance_mean': 0.46485, 'range_mean': 0.4927, 'ride_mean': 0, 'handling_mean': 0, 'braking_mean': 0, 'steering_mean': 0, 'offroad_capability_mean': 0, 'nvh_mean': 0, 'occupant_comfort_mean': 0, 'visibility_and_package_mean': 0, 'safety_mean': 0, 'software_features_mean': 0}, 'MERCEDES BENS EQS': {'performance_score': 1.3176999999999999, 'performance_count': 2, 'range_score': 0.8555, 'range_count': 2, 'ride_score': 0.8481, 'ride_count': 1, 'handling_score': 0, 'handling_count': 0, 'braking_score': 0, 'braking_count': 0, 'steering_score': 0, 'steering_count': 0, 'offroad_capability_score': 0, 'offroad_capability_count': 0, 'nvh_score': 0, 'nvh_count': 0, 'occupant_comfort_score': 0, 'occupant_comfort_count': 0, 'visibility_and_package_score': 0, 'visibility_and_package_count': 0, 'safety_score': 0, 'safety_count': 0, 'software_features_score': 0, 'software_features_count': 0, 'performance_section': '', 'range_section': \"Best in class Mercedes, I'm experiencing the best auto ever, this gives me technology and class with mileage\", 'ride_section': '', 'handling_section': '', 'braking_section': '', 'steering_section': '', 'offroad_capability_section': '', 'nvh_section': '', 'occupant_comfort_section': '', 'visibility_and_package_section': '', 'safety_section': '', 'software_features_section': '', 'performance_mean': 0.6588499999999999, 'range_mean': 0.42775, 'ride_mean': 0.8481, 'handling_mean': 0, 'braking_mean': 0, 'steering_mean': 0, 'offroad_capability_mean': 0, 'nvh_mean': 0, 'occupant_comfort_mean': 0, 'visibility_and_package_mean': 0, 'safety_mean': 0, 'software_features_mean': 0}, 'mercedes bens eqs': {'performance_score': 0, 'performance_count': 0, 'range_score': 0.6486, 'range_count': 1, 'ride_score': 0, 'ride_count': 0, 'handling_score': 0, 'handling_count': 0, 'braking_score': 0, 'braking_count': 0, 'steering_score': 0, 'steering_count': 0, 'offroad_capability_score': 0, 'offroad_capability_count': 0, 'nvh_score': 0, 'nvh_count': 0, 'occupant_comfort_score': 0, 'occupant_comfort_count': 0, 'visibility_and_package_score': 0, 'visibility_and_package_count': 0, 'safety_score': 0, 'safety_count': 0, 'software_features_score': 0, 'software_features_count': 0, 'performance_section': '', 'range_section': '', 'ride_section': '', 'handling_section': '', 'braking_section': '', 'steering_section': '', 'offroad_capability_section': '', 'nvh_section': '', 'occupant_comfort_section': '', 'visibility_and_package_section': '', 'safety_section': '', 'software_features_section': '', 'performance_mean': 0, 'range_mean': 0.6486, 'ride_mean': 0, 'handling_mean': 0, 'braking_mean': 0, 'steering_mean': 0, 'offroad_capability_mean': 0, 'nvh_mean': 0, 'occupant_comfort_mean': 0, 'visibility_and_package_mean': 0, 'safety_mean': 0, 'software_features_mean': 0}, 'MG ZS EV': {'performance_score': 6.978899999999999, 'performance_count': 11, 'range_score': 12.1012, 'range_count': 19, 'ride_score': 6.1393, 'ride_count': 10, 'handling_score': 0, 'handling_count': 0, 'braking_score': 0.5423, 'braking_count': 1, 'steering_score': 0, 'steering_count': 0, 'offroad_capability_score': 0.6427, 'offroad_capability_count': 3, 'nvh_score': 0, 'nvh_count': 0, 'occupant_comfort_score': -0.296, 'occupant_comfort_count': 1, 'visibility_and_package_score': 1.2828, 'visibility_and_package_count': 6, 'safety_score': 2.4487, 'safety_count': 3, 'software_features_score': -0.3248, 'software_features_count': 2, 'performance_section': '', 'range_section': '', 'ride_section': '', 'handling_section': '', 'braking_section': '', 'steering_section': '', 'offroad_capability_section': '', 'nvh_section': '', 'occupant_comfort_section': '', 'visibility_and_package_section': '', 'safety_section': '', 'software_features_section': '', 'performance_mean': 0.6344454545454545, 'range_mean': 0.6369052631578948, 'ride_mean': 0.6139300000000001, 'handling_mean': 0, 'braking_mean': 0.5423, 'steering_mean': 0, 'offroad_capability_mean': 0.21423333333333336, 'nvh_mean': 0, 'occupant_comfort_mean': -0.296, 'visibility_and_package_mean': 0.2138, 'safety_mean': 0.8162333333333334, 'software_features_mean': -0.1624}, 'TATA Nexon EV max': {'performance_score': 2.4371, 'performance_count': 4, 'range_score': 3.5023999999999997, 'range_count': 8, 'ride_score': 0, 'ride_count': 0, 'handling_score': 0, 'handling_count': 0, 'braking_score': 0.0, 'braking_count': 1, 'steering_score': 0, 'steering_count': 0, 'offroad_capability_score': 0, 'offroad_capability_count': 0, 'nvh_score': 0, 'nvh_count': 0, 'occupant_comfort_score': 0, 'occupant_comfort_count': 0, 'visibility_and_package_score': 0, 'visibility_and_package_count': 0, 'safety_score': 0.7906, 'safety_count': 1, 'software_features_score': 2.4336, 'software_features_count': 3, 'performance_section': '', 'range_section': '', 'ride_section': '', 'handling_section': '', 'braking_section': '', 'steering_section': '', 'offroad_capability_section': '', 'nvh_section': '', 'occupant_comfort_section': '', 'visibility_and_package_section': '', 'safety_section': 'For pros it offers best in class features such as new premium feel gear knob, auto hold feature with electric handbrake, Harman infotainment screen system, and for safety point of view it has ESP with BAC, etc and the list goes on for the pros.', 'software_features_section': 'For pros it offers best in class features such as new premium feel gear knob, auto hold feature with electric handbrake, Harman infotainment screen system, and for safety point of view it has ESP with BAC, etc and the list goes on for the pros.', 'performance_mean': 0.609275, 'range_mean': 0.43779999999999997, 'ride_mean': 0, 'handling_mean': 0, 'braking_mean': 0.0, 'steering_mean': 0, 'offroad_capability_mean': 0, 'nvh_mean': 0, 'occupant_comfort_mean': 0, 'visibility_and_package_mean': 0, 'safety_mean': 0.7906, 'software_features_mean': 0.8112}, 'TATA NEXON EV MAX': {'performance_score': 3.7954, 'performance_count': 7, 'range_score': 1.744, 'range_count': 3, 'ride_score': 4.682300000000001, 'ride_count': 6, 'handling_score': 0, 'handling_count': 0, 'braking_score': 0.7397, 'braking_count': 1, 'steering_score': 0, 'steering_count': 0, 'offroad_capability_score': 0.0, 'offroad_capability_count': 1, 'nvh_score': 0, 'nvh_count': 0, 'occupant_comfort_score': 0, 'occupant_comfort_count': 0, 'visibility_and_package_score': 0, 'visibility_and_package_count': 0, 'safety_score': 0.4497, 'safety_count': 1, 'software_features_score': 0, 'software_features_count': 0, 'performance_section': 'I have been using it for 6 months and its performance is absolutely stunning and thrilling.', 'range_section': '', 'ride_section': 'Its comfort and features are outstanding.', 'handling_section': '', 'braking_section': 'I have been using it for 6 months and its performance is absolutely stunning and thrilling. The blue colour is abs...Read More', 'steering_section': '', 'offroad_capability_section': '', 'nvh_section': '', 'occupant_comfort_section': '', 'visibility_and_package_section': '', 'safety_section': '', 'software_features_section': '', 'performance_mean': 0.5422, 'range_mean': 0.5813333333333334, 'ride_mean': 0.7803833333333334, 'handling_mean': 0, 'braking_mean': 0.7397, 'steering_mean': 0, 'offroad_capability_mean': 0.0, 'nvh_mean': 0, 'occupant_comfort_mean': 0, 'visibility_and_package_mean': 0, 'safety_mean': 0.4497, 'software_features_mean': 0}, 'TATA NEXON EV': {'performance_score': 2.5183, 'performance_count': 4, 'range_score': 2.7617, 'range_count': 6, 'ride_score': 1.9402, 'ride_count': 3, 'handling_score': 0.6124, 'handling_count': 1, 'braking_score': 0, 'braking_count': 0, 'steering_score': 0, 'steering_count': 0, 'offroad_capability_score': 0, 'offroad_capability_count': 0, 'nvh_score': 0, 'nvh_count': 0, 'occupant_comfort_score': 0, 'occupant_comfort_count': 0, 'visibility_and_package_score': 0, 'visibility_and_package_count': 0, 'safety_score': 0, 'safety_count': 0, 'software_features_score': 0, 'software_features_count': 0, 'performance_section': '', 'range_section': '', 'ride_section': '', 'handling_section': 'Tata nexon ev max looks more or less similar to the regular version.Overall, Everything in the cabin is well put together, And the quality of plastic bits is very good.The textured dashboard and honeycomb pattern on leather upholstery particularly look impressive.The stability of the car is good.', 'braking_section': '', 'steering_section': '', 'offroad_capability_section': '', 'nvh_section': '', 'occupant_comfort_section': '', 'visibility_and_package_section': '', 'safety_section': '', 'software_features_section': '', 'performance_mean': 0.629575, 'range_mean': 0.4602833333333333, 'ride_mean': 0.6467333333333333, 'handling_mean': 0.6124, 'braking_mean': 0, 'steering_mean': 0, 'offroad_capability_mean': 0, 'nvh_mean': 0, 'occupant_comfort_mean': 0, 'visibility_and_package_mean': 0, 'safety_mean': 0, 'software_features_mean': 0}, 'TATA Tigor EV': {'performance_score': 0.7845, 'performance_count': 1, 'range_score': 0, 'range_count': 0, 'ride_score': 0, 'ride_count': 0, 'handling_score': 0, 'handling_count': 0, 'braking_score': 0, 'braking_count': 0, 'steering_score': 0, 'steering_count': 0, 'offroad_capability_score': 0, 'offroad_capability_count': 0, 'nvh_score': 0, 'nvh_count': 0, 'occupant_comfort_score': 0, 'occupant_comfort_count': 0, 'visibility_and_package_score': 0, 'visibility_and_package_count': 0, 'safety_score': 0, 'safety_count': 0, 'software_features_score': 0, 'software_features_count': 0, 'performance_section': '', 'range_section': '', 'ride_section': '', 'handling_section': '', 'braking_section': '', 'steering_section': '', 'offroad_capability_section': '', 'nvh_section': '', 'occupant_comfort_section': '', 'visibility_and_package_section': '', 'safety_section': '', 'software_features_section': '', 'performance_mean': 0.7845, 'range_mean': 0, 'ride_mean': 0, 'handling_mean': 0, 'braking_mean': 0, 'steering_mean': 0, 'offroad_capability_mean': 0, 'nvh_mean': 0, 'occupant_comfort_mean': 0, 'visibility_and_package_mean': 0, 'safety_mean': 0, 'software_features_mean': 0}, 'Tata Tigor': {'performance_score': 24.1138, 'performance_count': 45, 'range_score': 26.237800000000007, 'range_count': 53, 'ride_score': 39.79619999999999, 'ride_count': 57, 'handling_score': 3.3871, 'handling_count': 5, 'braking_score': 2.3638000000000003, 'braking_count': 5, 'steering_score': 0, 'steering_count': 0, 'offroad_capability_score': 2.1775, 'offroad_capability_count': 3, 'nvh_score': -0.16759999999999992, 'nvh_count': 4, 'occupant_comfort_score': 2.7733, 'occupant_comfort_count': 4, 'visibility_and_package_score': 0.9118, 'visibility_and_package_count': 1, 'safety_score': 28.468199999999996, 'safety_count': 36, 'software_features_score': 2.0297, 'software_features_count': 4, 'performance_section': '', 'range_section': '', 'ride_section': '', 'handling_section': '', 'braking_section': '', 'steering_section': '', 'offroad_capability_section': '', 'nvh_section': '', 'occupant_comfort_section': '', 'visibility_and_package_section': '', 'safety_section': '', 'software_features_section': '', 'performance_mean': 0.5358622222222222, 'range_mean': 0.4950528301886794, 'ride_mean': 0.6981789473684209, 'handling_mean': 0.67742, 'braking_mean': 0.47276000000000007, 'steering_mean': 0, 'offroad_capability_mean': 0.7258333333333334, 'nvh_mean': -0.04189999999999998, 'occupant_comfort_mean': 0.693325, 'visibility_and_package_mean': 0.9118, 'safety_mean': 0.7907833333333332, 'software_features_mean': 0.507425}}\n"
          ]
        }
      ]
    },
    {
      "cell_type": "code",
      "source": [
        "for key,value in result_car.items():\n",
        "   for attribute in attributes:\n",
        "     value[attribute+'_mean']=\"{:.2f}\".format((value[attribute+'_mean']+1)/2)\n"
      ],
      "metadata": {
        "id": "XuWsrmKWYZQv"
      },
      "execution_count": null,
      "outputs": []
    },
    {
      "cell_type": "code",
      "source": [
        "for key,value in result_car.items():\n",
        "  print(key)\n",
        "  for attribute in attributes:\n",
        "     print(value[attribute+'_mean'])"
      ],
      "metadata": {
        "colab": {
          "base_uri": "https://localhost:8080/"
        },
        "id": "---1KQc1YZvu",
        "outputId": "2ad20360-92b7-40ba-c0dd-e1c35b59daa6"
      },
      "execution_count": null,
      "outputs": [
        {
          "output_type": "stream",
          "name": "stdout",
          "text": [
            "Hyundai Kona\n",
            "0.78\n",
            "0.67\n",
            "0.84\n",
            "0.94\n",
            "0.50\n",
            "0.50\n",
            "0.50\n",
            "0.50\n",
            "0.63\n",
            "0.66\n",
            "0.91\n",
            "0.59\n",
            "KIA EV6\n",
            "0.82\n",
            "0.81\n",
            "0.84\n",
            "0.94\n",
            "0.50\n",
            "0.50\n",
            "0.50\n",
            "0.50\n",
            "0.95\n",
            "0.50\n",
            "0.89\n",
            "0.65\n",
            "MERCEDES BENZ EQS\n",
            "0.73\n",
            "0.75\n",
            "0.50\n",
            "0.50\n",
            "0.50\n",
            "0.50\n",
            "0.50\n",
            "0.50\n",
            "0.50\n",
            "0.50\n",
            "0.50\n",
            "0.50\n",
            "MERCEDES BENS EQS\n",
            "0.83\n",
            "0.71\n",
            "0.92\n",
            "0.50\n",
            "0.50\n",
            "0.50\n",
            "0.50\n",
            "0.50\n",
            "0.50\n",
            "0.50\n",
            "0.50\n",
            "0.50\n",
            "mercedes bens eqs\n",
            "0.50\n",
            "0.82\n",
            "0.50\n",
            "0.50\n",
            "0.50\n",
            "0.50\n",
            "0.50\n",
            "0.50\n",
            "0.50\n",
            "0.50\n",
            "0.50\n",
            "0.50\n",
            "MG ZS EV\n",
            "0.82\n",
            "0.82\n",
            "0.81\n",
            "0.50\n",
            "0.77\n",
            "0.50\n",
            "0.61\n",
            "0.50\n",
            "0.35\n",
            "0.61\n",
            "0.91\n",
            "0.42\n",
            "TATA Nexon EV max\n",
            "0.80\n",
            "0.72\n",
            "0.50\n",
            "0.50\n",
            "0.50\n",
            "0.50\n",
            "0.50\n",
            "0.50\n",
            "0.50\n",
            "0.50\n",
            "0.90\n",
            "0.91\n",
            "TATA NEXON EV MAX\n",
            "0.77\n",
            "0.79\n",
            "0.89\n",
            "0.50\n",
            "0.87\n",
            "0.50\n",
            "0.50\n",
            "0.50\n",
            "0.50\n",
            "0.50\n",
            "0.72\n",
            "0.50\n",
            "TATA NEXON EV\n",
            "0.81\n",
            "0.73\n",
            "0.82\n",
            "0.81\n",
            "0.50\n",
            "0.50\n",
            "0.50\n",
            "0.50\n",
            "0.50\n",
            "0.50\n",
            "0.50\n",
            "0.50\n",
            "TATA Tigor EV\n",
            "0.89\n",
            "0.50\n",
            "0.50\n",
            "0.50\n",
            "0.50\n",
            "0.50\n",
            "0.50\n",
            "0.50\n",
            "0.50\n",
            "0.50\n",
            "0.50\n",
            "0.50\n",
            "Tata Tigor\n",
            "0.77\n",
            "0.75\n",
            "0.85\n",
            "0.84\n",
            "0.74\n",
            "0.50\n",
            "0.86\n",
            "0.48\n",
            "0.85\n",
            "0.96\n",
            "0.90\n",
            "0.75\n"
          ]
        }
      ]
    },
    {
      "cell_type": "code",
      "source": [
        "result_car"
      ],
      "metadata": {
        "colab": {
          "base_uri": "https://localhost:8080/"
        },
        "id": "aHdw4wRlnN7d",
        "outputId": "f13033c7-30ed-4e39-8593-d6fcf9e2e19b"
      },
      "execution_count": null,
      "outputs": [
        {
          "output_type": "execute_result",
          "data": {
            "text/plain": [
              "{'Hyundai Kona': {'performance_score': 14.0953,\n",
              "  'performance_count': 25,\n",
              "  'range_score': 7.435099999999999,\n",
              "  'range_count': 22,\n",
              "  'ride_score': 12.8147,\n",
              "  'ride_count': 19,\n",
              "  'handling_score': 0.8885,\n",
              "  'handling_count': 1,\n",
              "  'braking_score': 0.0,\n",
              "  'braking_count': 1,\n",
              "  'steering_score': 0,\n",
              "  'steering_count': 0,\n",
              "  'offroad_capability_score': 0,\n",
              "  'offroad_capability_count': 0,\n",
              "  'nvh_score': 0,\n",
              "  'nvh_count': 0,\n",
              "  'occupant_comfort_score': 0.7585999999999999,\n",
              "  'occupant_comfort_count': 3,\n",
              "  'visibility_and_package_score': 0.3182,\n",
              "  'visibility_and_package_count': 1,\n",
              "  'safety_score': 4.0788,\n",
              "  'safety_count': 5,\n",
              "  'software_features_score': 0.3612,\n",
              "  'software_features_count': 2,\n",
              "  'performance_section': '',\n",
              "  'range_section': '',\n",
              "  'ride_section': '',\n",
              "  'handling_section': '',\n",
              "  'braking_section': '',\n",
              "  'steering_section': '',\n",
              "  'offroad_capability_section': '',\n",
              "  'nvh_section': '',\n",
              "  'occupant_comfort_section': '',\n",
              "  'visibility_and_package_section': '',\n",
              "  'safety_section': '',\n",
              "  'software_features_section': '',\n",
              "  'performance_mean': '0.78',\n",
              "  'range_mean': '0.67',\n",
              "  'ride_mean': '0.84',\n",
              "  'handling_mean': '0.94',\n",
              "  'braking_mean': '0.50',\n",
              "  'steering_mean': '0.50',\n",
              "  'offroad_capability_mean': '0.50',\n",
              "  'nvh_mean': '0.50',\n",
              "  'occupant_comfort_mean': '0.63',\n",
              "  'visibility_and_package_mean': '0.66',\n",
              "  'safety_mean': '0.91',\n",
              "  'software_features_mean': '0.59'},\n",
              " 'KIA EV6': {'performance_score': 8.2353,\n",
              "  'performance_count': 13,\n",
              "  'range_score': 7.946800000000001,\n",
              "  'range_count': 13,\n",
              "  'ride_score': 7.504800000000001,\n",
              "  'ride_count': 11,\n",
              "  'handling_score': 0.8779,\n",
              "  'handling_count': 1,\n",
              "  'braking_score': 0,\n",
              "  'braking_count': 0,\n",
              "  'steering_score': 0,\n",
              "  'steering_count': 0,\n",
              "  'offroad_capability_score': 0,\n",
              "  'offroad_capability_count': 0,\n",
              "  'nvh_score': 0,\n",
              "  'nvh_count': 0,\n",
              "  'occupant_comfort_score': 0.8908,\n",
              "  'occupant_comfort_count': 1,\n",
              "  'visibility_and_package_score': 0,\n",
              "  'visibility_and_package_count': 0,\n",
              "  'safety_score': 1.5726,\n",
              "  'safety_count': 2,\n",
              "  'software_features_score': 1.1677,\n",
              "  'software_features_count': 4,\n",
              "  'performance_section': \"The electric ev6 is among the boldest and most exciting kia's we’ve seen.This car is spacious and sleek with fast charging capability, Excellent power, And an anxiety-reducing maximum range of 310 miles.It could be described as a high-riding hatchback.I think this car is going to b**w your heart.\",\n",
              "  'range_section': \"The electric ev6 is among the boldest and most exciting kia's we’ve seen.This car is spacious and sleek with fast charging capability, Excellent power, And an anxiety-reducing maximum range of 310 miles.It could be described as a high-riding hatchback.I think this car is going to b**w your heart.\",\n",
              "  'ride_section': '',\n",
              "  'handling_section': '',\n",
              "  'braking_section': '',\n",
              "  'steering_section': '',\n",
              "  'offroad_capability_section': '',\n",
              "  'nvh_section': '',\n",
              "  'occupant_comfort_section': '',\n",
              "  'visibility_and_package_section': '',\n",
              "  'safety_section': '',\n",
              "  'software_features_section': '',\n",
              "  'performance_mean': '0.82',\n",
              "  'range_mean': '0.81',\n",
              "  'ride_mean': '0.84',\n",
              "  'handling_mean': '0.94',\n",
              "  'braking_mean': '0.50',\n",
              "  'steering_mean': '0.50',\n",
              "  'offroad_capability_mean': '0.50',\n",
              "  'nvh_mean': '0.50',\n",
              "  'occupant_comfort_mean': '0.95',\n",
              "  'visibility_and_package_mean': '0.50',\n",
              "  'safety_mean': '0.89',\n",
              "  'software_features_mean': '0.65'},\n",
              " 'MERCEDES BENZ EQS': {'performance_score': 0.9297,\n",
              "  'performance_count': 2,\n",
              "  'range_score': 0.4927,\n",
              "  'range_count': 1,\n",
              "  'ride_score': 0,\n",
              "  'ride_count': 0,\n",
              "  'handling_score': 0,\n",
              "  'handling_count': 0,\n",
              "  'braking_score': 0,\n",
              "  'braking_count': 0,\n",
              "  'steering_score': 0,\n",
              "  'steering_count': 0,\n",
              "  'offroad_capability_score': 0,\n",
              "  'offroad_capability_count': 0,\n",
              "  'nvh_score': 0,\n",
              "  'nvh_count': 0,\n",
              "  'occupant_comfort_score': 0,\n",
              "  'occupant_comfort_count': 0,\n",
              "  'visibility_and_package_score': 0,\n",
              "  'visibility_and_package_count': 0,\n",
              "  'safety_score': 0,\n",
              "  'safety_count': 0,\n",
              "  'software_features_score': 0,\n",
              "  'software_features_count': 0,\n",
              "  'performance_section': 'The main focus of this car is about performance and the interior given by the Mercedes.',\n",
              "  'range_section': 'The average of this car is quite good at this range.',\n",
              "  'ride_section': '',\n",
              "  'handling_section': '',\n",
              "  'braking_section': '',\n",
              "  'steering_section': '',\n",
              "  'offroad_capability_section': '',\n",
              "  'nvh_section': '',\n",
              "  'occupant_comfort_section': '',\n",
              "  'visibility_and_package_section': '',\n",
              "  'safety_section': '',\n",
              "  'software_features_section': '',\n",
              "  'performance_mean': '0.73',\n",
              "  'range_mean': '0.75',\n",
              "  'ride_mean': '0.50',\n",
              "  'handling_mean': '0.50',\n",
              "  'braking_mean': '0.50',\n",
              "  'steering_mean': '0.50',\n",
              "  'offroad_capability_mean': '0.50',\n",
              "  'nvh_mean': '0.50',\n",
              "  'occupant_comfort_mean': '0.50',\n",
              "  'visibility_and_package_mean': '0.50',\n",
              "  'safety_mean': '0.50',\n",
              "  'software_features_mean': '0.50'},\n",
              " 'MERCEDES BENS EQS': {'performance_score': 1.3176999999999999,\n",
              "  'performance_count': 2,\n",
              "  'range_score': 0.8555,\n",
              "  'range_count': 2,\n",
              "  'ride_score': 0.8481,\n",
              "  'ride_count': 1,\n",
              "  'handling_score': 0,\n",
              "  'handling_count': 0,\n",
              "  'braking_score': 0,\n",
              "  'braking_count': 0,\n",
              "  'steering_score': 0,\n",
              "  'steering_count': 0,\n",
              "  'offroad_capability_score': 0,\n",
              "  'offroad_capability_count': 0,\n",
              "  'nvh_score': 0,\n",
              "  'nvh_count': 0,\n",
              "  'occupant_comfort_score': 0,\n",
              "  'occupant_comfort_count': 0,\n",
              "  'visibility_and_package_score': 0,\n",
              "  'visibility_and_package_count': 0,\n",
              "  'safety_score': 0,\n",
              "  'safety_count': 0,\n",
              "  'software_features_score': 0,\n",
              "  'software_features_count': 0,\n",
              "  'performance_section': '',\n",
              "  'range_section': \"Best in class Mercedes, I'm experiencing the best auto ever, this gives me technology and class with mileage\",\n",
              "  'ride_section': '',\n",
              "  'handling_section': '',\n",
              "  'braking_section': '',\n",
              "  'steering_section': '',\n",
              "  'offroad_capability_section': '',\n",
              "  'nvh_section': '',\n",
              "  'occupant_comfort_section': '',\n",
              "  'visibility_and_package_section': '',\n",
              "  'safety_section': '',\n",
              "  'software_features_section': '',\n",
              "  'performance_mean': '0.83',\n",
              "  'range_mean': '0.71',\n",
              "  'ride_mean': '0.92',\n",
              "  'handling_mean': '0.50',\n",
              "  'braking_mean': '0.50',\n",
              "  'steering_mean': '0.50',\n",
              "  'offroad_capability_mean': '0.50',\n",
              "  'nvh_mean': '0.50',\n",
              "  'occupant_comfort_mean': '0.50',\n",
              "  'visibility_and_package_mean': '0.50',\n",
              "  'safety_mean': '0.50',\n",
              "  'software_features_mean': '0.50'},\n",
              " 'mercedes bens eqs': {'performance_score': 0,\n",
              "  'performance_count': 0,\n",
              "  'range_score': 0.6486,\n",
              "  'range_count': 1,\n",
              "  'ride_score': 0,\n",
              "  'ride_count': 0,\n",
              "  'handling_score': 0,\n",
              "  'handling_count': 0,\n",
              "  'braking_score': 0,\n",
              "  'braking_count': 0,\n",
              "  'steering_score': 0,\n",
              "  'steering_count': 0,\n",
              "  'offroad_capability_score': 0,\n",
              "  'offroad_capability_count': 0,\n",
              "  'nvh_score': 0,\n",
              "  'nvh_count': 0,\n",
              "  'occupant_comfort_score': 0,\n",
              "  'occupant_comfort_count': 0,\n",
              "  'visibility_and_package_score': 0,\n",
              "  'visibility_and_package_count': 0,\n",
              "  'safety_score': 0,\n",
              "  'safety_count': 0,\n",
              "  'software_features_score': 0,\n",
              "  'software_features_count': 0,\n",
              "  'performance_section': '',\n",
              "  'range_section': '',\n",
              "  'ride_section': '',\n",
              "  'handling_section': '',\n",
              "  'braking_section': '',\n",
              "  'steering_section': '',\n",
              "  'offroad_capability_section': '',\n",
              "  'nvh_section': '',\n",
              "  'occupant_comfort_section': '',\n",
              "  'visibility_and_package_section': '',\n",
              "  'safety_section': '',\n",
              "  'software_features_section': '',\n",
              "  'performance_mean': '0.50',\n",
              "  'range_mean': '0.82',\n",
              "  'ride_mean': '0.50',\n",
              "  'handling_mean': '0.50',\n",
              "  'braking_mean': '0.50',\n",
              "  'steering_mean': '0.50',\n",
              "  'offroad_capability_mean': '0.50',\n",
              "  'nvh_mean': '0.50',\n",
              "  'occupant_comfort_mean': '0.50',\n",
              "  'visibility_and_package_mean': '0.50',\n",
              "  'safety_mean': '0.50',\n",
              "  'software_features_mean': '0.50'},\n",
              " 'MG ZS EV': {'performance_score': 6.978899999999999,\n",
              "  'performance_count': 11,\n",
              "  'range_score': 12.1012,\n",
              "  'range_count': 19,\n",
              "  'ride_score': 6.1393,\n",
              "  'ride_count': 10,\n",
              "  'handling_score': 0,\n",
              "  'handling_count': 0,\n",
              "  'braking_score': 0.5423,\n",
              "  'braking_count': 1,\n",
              "  'steering_score': 0,\n",
              "  'steering_count': 0,\n",
              "  'offroad_capability_score': 0.6427,\n",
              "  'offroad_capability_count': 3,\n",
              "  'nvh_score': 0,\n",
              "  'nvh_count': 0,\n",
              "  'occupant_comfort_score': -0.296,\n",
              "  'occupant_comfort_count': 1,\n",
              "  'visibility_and_package_score': 1.2828,\n",
              "  'visibility_and_package_count': 6,\n",
              "  'safety_score': 2.4487,\n",
              "  'safety_count': 3,\n",
              "  'software_features_score': -0.3248,\n",
              "  'software_features_count': 2,\n",
              "  'performance_section': '',\n",
              "  'range_section': '',\n",
              "  'ride_section': '',\n",
              "  'handling_section': '',\n",
              "  'braking_section': '',\n",
              "  'steering_section': '',\n",
              "  'offroad_capability_section': '',\n",
              "  'nvh_section': '',\n",
              "  'occupant_comfort_section': '',\n",
              "  'visibility_and_package_section': '',\n",
              "  'safety_section': '',\n",
              "  'software_features_section': '',\n",
              "  'performance_mean': '0.82',\n",
              "  'range_mean': '0.82',\n",
              "  'ride_mean': '0.81',\n",
              "  'handling_mean': '0.50',\n",
              "  'braking_mean': '0.77',\n",
              "  'steering_mean': '0.50',\n",
              "  'offroad_capability_mean': '0.61',\n",
              "  'nvh_mean': '0.50',\n",
              "  'occupant_comfort_mean': '0.35',\n",
              "  'visibility_and_package_mean': '0.61',\n",
              "  'safety_mean': '0.91',\n",
              "  'software_features_mean': '0.42'},\n",
              " 'TATA Nexon EV max': {'performance_score': 2.4371,\n",
              "  'performance_count': 4,\n",
              "  'range_score': 3.5023999999999997,\n",
              "  'range_count': 8,\n",
              "  'ride_score': 0,\n",
              "  'ride_count': 0,\n",
              "  'handling_score': 0,\n",
              "  'handling_count': 0,\n",
              "  'braking_score': 0.0,\n",
              "  'braking_count': 1,\n",
              "  'steering_score': 0,\n",
              "  'steering_count': 0,\n",
              "  'offroad_capability_score': 0,\n",
              "  'offroad_capability_count': 0,\n",
              "  'nvh_score': 0,\n",
              "  'nvh_count': 0,\n",
              "  'occupant_comfort_score': 0,\n",
              "  'occupant_comfort_count': 0,\n",
              "  'visibility_and_package_score': 0,\n",
              "  'visibility_and_package_count': 0,\n",
              "  'safety_score': 0.7906,\n",
              "  'safety_count': 1,\n",
              "  'software_features_score': 2.4336,\n",
              "  'software_features_count': 3,\n",
              "  'performance_section': '',\n",
              "  'range_section': '',\n",
              "  'ride_section': '',\n",
              "  'handling_section': '',\n",
              "  'braking_section': '',\n",
              "  'steering_section': '',\n",
              "  'offroad_capability_section': '',\n",
              "  'nvh_section': '',\n",
              "  'occupant_comfort_section': '',\n",
              "  'visibility_and_package_section': '',\n",
              "  'safety_section': 'For pros it offers best in class features such as new premium feel gear knob, auto hold feature with electric handbrake, Harman infotainment screen system, and for safety point of view it has ESP with BAC, etc and the list goes on for the pros.',\n",
              "  'software_features_section': 'For pros it offers best in class features such as new premium feel gear knob, auto hold feature with electric handbrake, Harman infotainment screen system, and for safety point of view it has ESP with BAC, etc and the list goes on for the pros.',\n",
              "  'performance_mean': '0.80',\n",
              "  'range_mean': '0.72',\n",
              "  'ride_mean': '0.50',\n",
              "  'handling_mean': '0.50',\n",
              "  'braking_mean': '0.50',\n",
              "  'steering_mean': '0.50',\n",
              "  'offroad_capability_mean': '0.50',\n",
              "  'nvh_mean': '0.50',\n",
              "  'occupant_comfort_mean': '0.50',\n",
              "  'visibility_and_package_mean': '0.50',\n",
              "  'safety_mean': '0.90',\n",
              "  'software_features_mean': '0.91'},\n",
              " 'TATA NEXON EV MAX': {'performance_score': 3.7954,\n",
              "  'performance_count': 7,\n",
              "  'range_score': 1.744,\n",
              "  'range_count': 3,\n",
              "  'ride_score': 4.682300000000001,\n",
              "  'ride_count': 6,\n",
              "  'handling_score': 0,\n",
              "  'handling_count': 0,\n",
              "  'braking_score': 0.7397,\n",
              "  'braking_count': 1,\n",
              "  'steering_score': 0,\n",
              "  'steering_count': 0,\n",
              "  'offroad_capability_score': 0.0,\n",
              "  'offroad_capability_count': 1,\n",
              "  'nvh_score': 0,\n",
              "  'nvh_count': 0,\n",
              "  'occupant_comfort_score': 0,\n",
              "  'occupant_comfort_count': 0,\n",
              "  'visibility_and_package_score': 0,\n",
              "  'visibility_and_package_count': 0,\n",
              "  'safety_score': 0.4497,\n",
              "  'safety_count': 1,\n",
              "  'software_features_score': 0,\n",
              "  'software_features_count': 0,\n",
              "  'performance_section': 'I have been using it for 6 months and its performance is absolutely stunning and thrilling.',\n",
              "  'range_section': '',\n",
              "  'ride_section': 'Its comfort and features are outstanding.',\n",
              "  'handling_section': '',\n",
              "  'braking_section': 'I have been using it for 6 months and its performance is absolutely stunning and thrilling. The blue colour is abs...Read More',\n",
              "  'steering_section': '',\n",
              "  'offroad_capability_section': '',\n",
              "  'nvh_section': '',\n",
              "  'occupant_comfort_section': '',\n",
              "  'visibility_and_package_section': '',\n",
              "  'safety_section': '',\n",
              "  'software_features_section': '',\n",
              "  'performance_mean': '0.77',\n",
              "  'range_mean': '0.79',\n",
              "  'ride_mean': '0.89',\n",
              "  'handling_mean': '0.50',\n",
              "  'braking_mean': '0.87',\n",
              "  'steering_mean': '0.50',\n",
              "  'offroad_capability_mean': '0.50',\n",
              "  'nvh_mean': '0.50',\n",
              "  'occupant_comfort_mean': '0.50',\n",
              "  'visibility_and_package_mean': '0.50',\n",
              "  'safety_mean': '0.72',\n",
              "  'software_features_mean': '0.50'},\n",
              " 'TATA NEXON EV': {'performance_score': 2.5183,\n",
              "  'performance_count': 4,\n",
              "  'range_score': 2.7617,\n",
              "  'range_count': 6,\n",
              "  'ride_score': 1.9402,\n",
              "  'ride_count': 3,\n",
              "  'handling_score': 0.6124,\n",
              "  'handling_count': 1,\n",
              "  'braking_score': 0,\n",
              "  'braking_count': 0,\n",
              "  'steering_score': 0,\n",
              "  'steering_count': 0,\n",
              "  'offroad_capability_score': 0,\n",
              "  'offroad_capability_count': 0,\n",
              "  'nvh_score': 0,\n",
              "  'nvh_count': 0,\n",
              "  'occupant_comfort_score': 0,\n",
              "  'occupant_comfort_count': 0,\n",
              "  'visibility_and_package_score': 0,\n",
              "  'visibility_and_package_count': 0,\n",
              "  'safety_score': 0,\n",
              "  'safety_count': 0,\n",
              "  'software_features_score': 0,\n",
              "  'software_features_count': 0,\n",
              "  'performance_section': '',\n",
              "  'range_section': '',\n",
              "  'ride_section': '',\n",
              "  'handling_section': 'Tata nexon ev max looks more or less similar to the regular version.Overall, Everything in the cabin is well put together, And the quality of plastic bits is very good.The textured dashboard and honeycomb pattern on leather upholstery particularly look impressive.The stability of the car is good.',\n",
              "  'braking_section': '',\n",
              "  'steering_section': '',\n",
              "  'offroad_capability_section': '',\n",
              "  'nvh_section': '',\n",
              "  'occupant_comfort_section': '',\n",
              "  'visibility_and_package_section': '',\n",
              "  'safety_section': '',\n",
              "  'software_features_section': '',\n",
              "  'performance_mean': '0.81',\n",
              "  'range_mean': '0.73',\n",
              "  'ride_mean': '0.82',\n",
              "  'handling_mean': '0.81',\n",
              "  'braking_mean': '0.50',\n",
              "  'steering_mean': '0.50',\n",
              "  'offroad_capability_mean': '0.50',\n",
              "  'nvh_mean': '0.50',\n",
              "  'occupant_comfort_mean': '0.50',\n",
              "  'visibility_and_package_mean': '0.50',\n",
              "  'safety_mean': '0.50',\n",
              "  'software_features_mean': '0.50'},\n",
              " 'TATA Tigor EV': {'performance_score': 0.7845,\n",
              "  'performance_count': 1,\n",
              "  'range_score': 0,\n",
              "  'range_count': 0,\n",
              "  'ride_score': 0,\n",
              "  'ride_count': 0,\n",
              "  'handling_score': 0,\n",
              "  'handling_count': 0,\n",
              "  'braking_score': 0,\n",
              "  'braking_count': 0,\n",
              "  'steering_score': 0,\n",
              "  'steering_count': 0,\n",
              "  'offroad_capability_score': 0,\n",
              "  'offroad_capability_count': 0,\n",
              "  'nvh_score': 0,\n",
              "  'nvh_count': 0,\n",
              "  'occupant_comfort_score': 0,\n",
              "  'occupant_comfort_count': 0,\n",
              "  'visibility_and_package_score': 0,\n",
              "  'visibility_and_package_count': 0,\n",
              "  'safety_score': 0,\n",
              "  'safety_count': 0,\n",
              "  'software_features_score': 0,\n",
              "  'software_features_count': 0,\n",
              "  'performance_section': '',\n",
              "  'range_section': '',\n",
              "  'ride_section': '',\n",
              "  'handling_section': '',\n",
              "  'braking_section': '',\n",
              "  'steering_section': '',\n",
              "  'offroad_capability_section': '',\n",
              "  'nvh_section': '',\n",
              "  'occupant_comfort_section': '',\n",
              "  'visibility_and_package_section': '',\n",
              "  'safety_section': '',\n",
              "  'software_features_section': '',\n",
              "  'performance_mean': '0.89',\n",
              "  'range_mean': '0.50',\n",
              "  'ride_mean': '0.50',\n",
              "  'handling_mean': '0.50',\n",
              "  'braking_mean': '0.50',\n",
              "  'steering_mean': '0.50',\n",
              "  'offroad_capability_mean': '0.50',\n",
              "  'nvh_mean': '0.50',\n",
              "  'occupant_comfort_mean': '0.50',\n",
              "  'visibility_and_package_mean': '0.50',\n",
              "  'safety_mean': '0.50',\n",
              "  'software_features_mean': '0.50'},\n",
              " 'Tata Tigor': {'performance_score': 24.1138,\n",
              "  'performance_count': 45,\n",
              "  'range_score': 26.237800000000007,\n",
              "  'range_count': 53,\n",
              "  'ride_score': 39.79619999999999,\n",
              "  'ride_count': 57,\n",
              "  'handling_score': 3.3871,\n",
              "  'handling_count': 5,\n",
              "  'braking_score': 2.3638000000000003,\n",
              "  'braking_count': 5,\n",
              "  'steering_score': 0,\n",
              "  'steering_count': 0,\n",
              "  'offroad_capability_score': 2.1775,\n",
              "  'offroad_capability_count': 3,\n",
              "  'nvh_score': -0.16759999999999992,\n",
              "  'nvh_count': 4,\n",
              "  'occupant_comfort_score': 2.7733,\n",
              "  'occupant_comfort_count': 4,\n",
              "  'visibility_and_package_score': 0.9118,\n",
              "  'visibility_and_package_count': 1,\n",
              "  'safety_score': 28.468199999999996,\n",
              "  'safety_count': 36,\n",
              "  'software_features_score': 2.0297,\n",
              "  'software_features_count': 4,\n",
              "  'performance_section': '',\n",
              "  'range_section': '',\n",
              "  'ride_section': '',\n",
              "  'handling_section': '',\n",
              "  'braking_section': '',\n",
              "  'steering_section': '',\n",
              "  'offroad_capability_section': '',\n",
              "  'nvh_section': '',\n",
              "  'occupant_comfort_section': '',\n",
              "  'visibility_and_package_section': '',\n",
              "  'safety_section': '',\n",
              "  'software_features_section': '',\n",
              "  'performance_mean': '0.77',\n",
              "  'range_mean': '0.75',\n",
              "  'ride_mean': '0.85',\n",
              "  'handling_mean': '0.84',\n",
              "  'braking_mean': '0.74',\n",
              "  'steering_mean': '0.50',\n",
              "  'offroad_capability_mean': '0.86',\n",
              "  'nvh_mean': '0.48',\n",
              "  'occupant_comfort_mean': '0.85',\n",
              "  'visibility_and_package_mean': '0.96',\n",
              "  'safety_mean': '0.90',\n",
              "  'software_features_mean': '0.75'}}"
            ]
          },
          "metadata": {},
          "execution_count": 21
        }
      ]
    },
    {
      "cell_type": "code",
      "source": [
        "final_result_car=dict()\n",
        "for key,value in result_car.items():\n",
        "  temp_dict=dict()\n",
        "  for attribute in attributes:\n",
        "    temp_dict[attribute.upper()]=float(value[attribute+'_mean'])\n",
        "    final_result_car[key]=temp_dict"
      ],
      "metadata": {
        "id": "P5w4F2yBnVGM"
      },
      "execution_count": null,
      "outputs": []
    },
    {
      "cell_type": "code",
      "source": [
        "final_result_car"
      ],
      "metadata": {
        "colab": {
          "base_uri": "https://localhost:8080/"
        },
        "id": "7M9d6K3Foz0L",
        "outputId": "282c7f0a-4cf1-487e-bad5-0603d5a030f4"
      },
      "execution_count": null,
      "outputs": [
        {
          "output_type": "execute_result",
          "data": {
            "text/plain": [
              "{'Hyundai Kona': {'PERFORMANCE': 0.78,\n",
              "  'RANGE': 0.67,\n",
              "  'RIDE': 0.84,\n",
              "  'HANDLING': 0.94,\n",
              "  'BRAKING': 0.5,\n",
              "  'STEERING': 0.5,\n",
              "  'OFFROAD_CAPABILITY': 0.5,\n",
              "  'NVH': 0.5,\n",
              "  'OCCUPANT_COMFORT': 0.63,\n",
              "  'VISIBILITY_AND_PACKAGE': 0.66,\n",
              "  'SAFETY': 0.91,\n",
              "  'SOFTWARE_FEATURES': 0.59},\n",
              " 'KIA EV6': {'PERFORMANCE': 0.82,\n",
              "  'RANGE': 0.81,\n",
              "  'RIDE': 0.84,\n",
              "  'HANDLING': 0.94,\n",
              "  'BRAKING': 0.5,\n",
              "  'STEERING': 0.5,\n",
              "  'OFFROAD_CAPABILITY': 0.5,\n",
              "  'NVH': 0.5,\n",
              "  'OCCUPANT_COMFORT': 0.95,\n",
              "  'VISIBILITY_AND_PACKAGE': 0.5,\n",
              "  'SAFETY': 0.89,\n",
              "  'SOFTWARE_FEATURES': 0.65},\n",
              " 'MERCEDES BENZ EQS': {'PERFORMANCE': 0.73,\n",
              "  'RANGE': 0.75,\n",
              "  'RIDE': 0.5,\n",
              "  'HANDLING': 0.5,\n",
              "  'BRAKING': 0.5,\n",
              "  'STEERING': 0.5,\n",
              "  'OFFROAD_CAPABILITY': 0.5,\n",
              "  'NVH': 0.5,\n",
              "  'OCCUPANT_COMFORT': 0.5,\n",
              "  'VISIBILITY_AND_PACKAGE': 0.5,\n",
              "  'SAFETY': 0.5,\n",
              "  'SOFTWARE_FEATURES': 0.5},\n",
              " 'MERCEDES BENS EQS': {'PERFORMANCE': 0.83,\n",
              "  'RANGE': 0.71,\n",
              "  'RIDE': 0.92,\n",
              "  'HANDLING': 0.5,\n",
              "  'BRAKING': 0.5,\n",
              "  'STEERING': 0.5,\n",
              "  'OFFROAD_CAPABILITY': 0.5,\n",
              "  'NVH': 0.5,\n",
              "  'OCCUPANT_COMFORT': 0.5,\n",
              "  'VISIBILITY_AND_PACKAGE': 0.5,\n",
              "  'SAFETY': 0.5,\n",
              "  'SOFTWARE_FEATURES': 0.5},\n",
              " 'mercedes bens eqs': {'PERFORMANCE': 0.5,\n",
              "  'RANGE': 0.82,\n",
              "  'RIDE': 0.5,\n",
              "  'HANDLING': 0.5,\n",
              "  'BRAKING': 0.5,\n",
              "  'STEERING': 0.5,\n",
              "  'OFFROAD_CAPABILITY': 0.5,\n",
              "  'NVH': 0.5,\n",
              "  'OCCUPANT_COMFORT': 0.5,\n",
              "  'VISIBILITY_AND_PACKAGE': 0.5,\n",
              "  'SAFETY': 0.5,\n",
              "  'SOFTWARE_FEATURES': 0.5},\n",
              " 'MG ZS EV': {'PERFORMANCE': 0.82,\n",
              "  'RANGE': 0.82,\n",
              "  'RIDE': 0.81,\n",
              "  'HANDLING': 0.5,\n",
              "  'BRAKING': 0.77,\n",
              "  'STEERING': 0.5,\n",
              "  'OFFROAD_CAPABILITY': 0.61,\n",
              "  'NVH': 0.5,\n",
              "  'OCCUPANT_COMFORT': 0.35,\n",
              "  'VISIBILITY_AND_PACKAGE': 0.61,\n",
              "  'SAFETY': 0.91,\n",
              "  'SOFTWARE_FEATURES': 0.42},\n",
              " 'TATA Nexon EV max': {'PERFORMANCE': 0.8,\n",
              "  'RANGE': 0.72,\n",
              "  'RIDE': 0.5,\n",
              "  'HANDLING': 0.5,\n",
              "  'BRAKING': 0.5,\n",
              "  'STEERING': 0.5,\n",
              "  'OFFROAD_CAPABILITY': 0.5,\n",
              "  'NVH': 0.5,\n",
              "  'OCCUPANT_COMFORT': 0.5,\n",
              "  'VISIBILITY_AND_PACKAGE': 0.5,\n",
              "  'SAFETY': 0.9,\n",
              "  'SOFTWARE_FEATURES': 0.91},\n",
              " 'TATA NEXON EV MAX': {'PERFORMANCE': 0.77,\n",
              "  'RANGE': 0.79,\n",
              "  'RIDE': 0.89,\n",
              "  'HANDLING': 0.5,\n",
              "  'BRAKING': 0.87,\n",
              "  'STEERING': 0.5,\n",
              "  'OFFROAD_CAPABILITY': 0.5,\n",
              "  'NVH': 0.5,\n",
              "  'OCCUPANT_COMFORT': 0.5,\n",
              "  'VISIBILITY_AND_PACKAGE': 0.5,\n",
              "  'SAFETY': 0.72,\n",
              "  'SOFTWARE_FEATURES': 0.5},\n",
              " 'TATA NEXON EV': {'PERFORMANCE': 0.81,\n",
              "  'RANGE': 0.73,\n",
              "  'RIDE': 0.82,\n",
              "  'HANDLING': 0.81,\n",
              "  'BRAKING': 0.5,\n",
              "  'STEERING': 0.5,\n",
              "  'OFFROAD_CAPABILITY': 0.5,\n",
              "  'NVH': 0.5,\n",
              "  'OCCUPANT_COMFORT': 0.5,\n",
              "  'VISIBILITY_AND_PACKAGE': 0.5,\n",
              "  'SAFETY': 0.5,\n",
              "  'SOFTWARE_FEATURES': 0.5},\n",
              " 'TATA Tigor EV': {'PERFORMANCE': 0.89,\n",
              "  'RANGE': 0.5,\n",
              "  'RIDE': 0.5,\n",
              "  'HANDLING': 0.5,\n",
              "  'BRAKING': 0.5,\n",
              "  'STEERING': 0.5,\n",
              "  'OFFROAD_CAPABILITY': 0.5,\n",
              "  'NVH': 0.5,\n",
              "  'OCCUPANT_COMFORT': 0.5,\n",
              "  'VISIBILITY_AND_PACKAGE': 0.5,\n",
              "  'SAFETY': 0.5,\n",
              "  'SOFTWARE_FEATURES': 0.5},\n",
              " 'Tata Tigor': {'PERFORMANCE': 0.77,\n",
              "  'RANGE': 0.75,\n",
              "  'RIDE': 0.85,\n",
              "  'HANDLING': 0.84,\n",
              "  'BRAKING': 0.74,\n",
              "  'STEERING': 0.5,\n",
              "  'OFFROAD_CAPABILITY': 0.86,\n",
              "  'NVH': 0.48,\n",
              "  'OCCUPANT_COMFORT': 0.85,\n",
              "  'VISIBILITY_AND_PACKAGE': 0.96,\n",
              "  'SAFETY': 0.9,\n",
              "  'SOFTWARE_FEATURES': 0.75}}"
            ]
          },
          "metadata": {},
          "execution_count": 23
        }
      ]
    },
    {
      "cell_type": "code",
      "source": [
        "car_reviews_df=pd.DataFrame(final_result_car)\n",
        "car_reviews_df.to_csv('Final_Output.csv', index=None)\n",
        "df_new = pd.read_csv('Final_Output.csv')\n",
        "GFG = pd.ExcelWriter('Final_Output.xlsx')\n",
        "df_new.to_excel(GFG, index=True)\n",
        "GFG.save()"
      ],
      "metadata": {
        "id": "WWYnbBU2mz-Z"
      },
      "execution_count": null,
      "outputs": []
    },
    {
      "cell_type": "code",
      "source": [
        "for key,value in result_car.items():\n",
        "   for attribute in attributes:\n",
        "     score=float(value[attribute+'_mean'])\n",
        "     if score < 0.2:\n",
        "         value[attribute+'_rating']=\"extremely bad\".upper()\n",
        "     elif score < 0.4:\n",
        "         value[attribute+'_rating']=\"bad\".upper()\n",
        "     elif score < 0.6:\n",
        "         value[attribute+'_rating']=\"okay\".upper()\n",
        "     elif score < 0.8:\n",
        "         value[attribute+'_rating']=\"good\".upper()\n",
        "     else:\n",
        "         value[attribute+'_rating']=\"excellent\".upper()"
      ],
      "metadata": {
        "id": "-7TO38tZbF7h"
      },
      "execution_count": null,
      "outputs": []
    },
    {
      "cell_type": "code",
      "source": [
        "#for key,value in result_car.items():\n",
        "#  print(key)\n",
        "#  for attribute in attributes:\n",
        "#    print(attribute.upper(),\":\",value[attribute+'_rating'])"
      ],
      "metadata": {
        "id": "7kY5EuJJg3qF"
      },
      "execution_count": null,
      "outputs": []
    },
    {
      "cell_type": "code",
      "source": [
        "final_list=[]\n",
        "for attribute in attributes:\n",
        "  temp_dict=dict()\n",
        "  temp_dict[attribute.upper()+\" RATING\"]=result_car['Hyundai Kona'][attribute+'_rating']\n",
        "  final_list.append(temp_dict)\n",
        "print(\"Hyundai Kona\",final_list)"
      ],
      "metadata": {
        "id": "boHbArX98Vnd",
        "colab": {
          "base_uri": "https://localhost:8080/"
        },
        "outputId": "32717b00-5f0d-4969-e562-62924bfc6f8b"
      },
      "execution_count": null,
      "outputs": [
        {
          "output_type": "stream",
          "name": "stdout",
          "text": [
            "Hyundai Kona [{'PERFORMANCE RATING': 'GOOD'}, {'RANGE RATING': 'GOOD'}, {'RIDE RATING': 'EXCELLENT'}, {'HANDLING RATING': 'EXCELLENT'}, {'BRAKING RATING': 'OKAY'}, {'STEERING RATING': 'OKAY'}, {'OFFROAD_CAPABILITY RATING': 'OKAY'}, {'NVH RATING': 'OKAY'}, {'OCCUPANT_COMFORT RATING': 'GOOD'}, {'VISIBILITY_AND_PACKAGE RATING': 'GOOD'}, {'SAFETY RATING': 'EXCELLENT'}, {'SOFTWARE_FEATURES RATING': 'OKAY'}]\n"
          ]
        }
      ]
    },
    {
      "cell_type": "code",
      "source": [
        "final_list=[]\n",
        "for attribute in attributes:\n",
        "  temp_dict=dict()\n",
        "  temp_dict[attribute.upper()+\" RATING\"]=result_car['KIA EV6'][attribute+'_rating']\n",
        "  final_list.append(temp_dict)\n",
        "print(\"KIA EV6\",final_list)"
      ],
      "metadata": {
        "colab": {
          "base_uri": "https://localhost:8080/"
        },
        "id": "jzSCCi04lE-p",
        "outputId": "184f43a5-50c4-4ece-d08e-c95f43ddec83"
      },
      "execution_count": null,
      "outputs": [
        {
          "output_type": "stream",
          "name": "stdout",
          "text": [
            "KIA EV6 [{'PERFORMANCE RATING': 'EXCELLENT'}, {'RANGE RATING': 'EXCELLENT'}, {'RIDE RATING': 'EXCELLENT'}, {'HANDLING RATING': 'EXCELLENT'}, {'BRAKING RATING': 'OKAY'}, {'STEERING RATING': 'OKAY'}, {'OFFROAD_CAPABILITY RATING': 'OKAY'}, {'NVH RATING': 'OKAY'}, {'OCCUPANT_COMFORT RATING': 'EXCELLENT'}, {'VISIBILITY_AND_PACKAGE RATING': 'OKAY'}, {'SAFETY RATING': 'EXCELLENT'}, {'SOFTWARE_FEATURES RATING': 'GOOD'}]\n"
          ]
        }
      ]
    },
    {
      "cell_type": "code",
      "source": [
        "final_list=[]\n",
        "for attribute in attributes:\n",
        "  temp_dict=dict()\n",
        "  temp_dict[attribute.upper()+\" RATING\"]=result_car['MERCEDES BENZ EQS'][attribute+'_rating']\n",
        "  final_list.append(temp_dict)\n",
        "print(\"MERCEDES BENZ EQS\",final_list)"
      ],
      "metadata": {
        "colab": {
          "base_uri": "https://localhost:8080/"
        },
        "id": "GYuq2njilW07",
        "outputId": "3b37dbcb-8e52-44e2-f0a5-cc10cc6c3d21"
      },
      "execution_count": null,
      "outputs": [
        {
          "output_type": "stream",
          "name": "stdout",
          "text": [
            "MERCEDES BENZ EQS [{'PERFORMANCE RATING': 'GOOD'}, {'RANGE RATING': 'GOOD'}, {'RIDE RATING': 'OKAY'}, {'HANDLING RATING': 'OKAY'}, {'BRAKING RATING': 'OKAY'}, {'STEERING RATING': 'OKAY'}, {'OFFROAD_CAPABILITY RATING': 'OKAY'}, {'NVH RATING': 'OKAY'}, {'OCCUPANT_COMFORT RATING': 'OKAY'}, {'VISIBILITY_AND_PACKAGE RATING': 'OKAY'}, {'SAFETY RATING': 'OKAY'}, {'SOFTWARE_FEATURES RATING': 'OKAY'}]\n"
          ]
        }
      ]
    },
    {
      "cell_type": "code",
      "source": [
        "final_list=[]\n",
        "for attribute in attributes:\n",
        "  temp_dict=dict()\n",
        "  temp_dict[attribute.upper()+\" RATING\"]=result_car['MG ZS EV'][attribute+'_rating']\n",
        "  final_list.append(temp_dict)\n",
        "print(\"MG ZS EV\",final_list)"
      ],
      "metadata": {
        "colab": {
          "base_uri": "https://localhost:8080/"
        },
        "id": "BbfmyWUrlmdL",
        "outputId": "39a129a6-c705-432f-fa89-b40580aca802"
      },
      "execution_count": null,
      "outputs": [
        {
          "output_type": "stream",
          "name": "stdout",
          "text": [
            "MG ZS EV [{'PERFORMANCE RATING': 'EXCELLENT'}, {'RANGE RATING': 'EXCELLENT'}, {'RIDE RATING': 'EXCELLENT'}, {'HANDLING RATING': 'OKAY'}, {'BRAKING RATING': 'GOOD'}, {'STEERING RATING': 'OKAY'}, {'OFFROAD_CAPABILITY RATING': 'GOOD'}, {'NVH RATING': 'OKAY'}, {'OCCUPANT_COMFORT RATING': 'BAD'}, {'VISIBILITY_AND_PACKAGE RATING': 'GOOD'}, {'SAFETY RATING': 'EXCELLENT'}, {'SOFTWARE_FEATURES RATING': 'OKAY'}]\n"
          ]
        }
      ]
    },
    {
      "cell_type": "code",
      "source": [
        "final_list=[]\n",
        "for attribute in attributes:\n",
        "  temp_dict=dict()\n",
        "  temp_dict[attribute.upper()+\" RATING\"]=result_car['TATA NEXON EV'][attribute+'_rating']\n",
        "  final_list.append(temp_dict)\n",
        "print(\"TATA NEXON EV\",final_list)"
      ],
      "metadata": {
        "colab": {
          "base_uri": "https://localhost:8080/"
        },
        "id": "FxeXUTBQlX5Y",
        "outputId": "681bf6da-0928-4e61-e2ed-7337ecc6643e"
      },
      "execution_count": null,
      "outputs": [
        {
          "output_type": "stream",
          "name": "stdout",
          "text": [
            "TATA NEXON EV [{'PERFORMANCE RATING': 'EXCELLENT'}, {'RANGE RATING': 'GOOD'}, {'RIDE RATING': 'EXCELLENT'}, {'HANDLING RATING': 'EXCELLENT'}, {'BRAKING RATING': 'OKAY'}, {'STEERING RATING': 'OKAY'}, {'OFFROAD_CAPABILITY RATING': 'OKAY'}, {'NVH RATING': 'OKAY'}, {'OCCUPANT_COMFORT RATING': 'OKAY'}, {'VISIBILITY_AND_PACKAGE RATING': 'OKAY'}, {'SAFETY RATING': 'OKAY'}, {'SOFTWARE_FEATURES RATING': 'OKAY'}]\n"
          ]
        }
      ]
    },
    {
      "cell_type": "code",
      "source": [
        "final_list=[]\n",
        "for attribute in attributes:\n",
        "  temp_dict=dict()\n",
        "  temp_dict[attribute.upper()+\" RATING\"]=result_car['TATA Tigor EV'][attribute+'_rating']\n",
        "  final_list.append(temp_dict)\n",
        "print(\"TATA Tigor EV\",final_list)"
      ],
      "metadata": {
        "colab": {
          "base_uri": "https://localhost:8080/"
        },
        "id": "gx59xAMklYnU",
        "outputId": "b98e7caa-feed-480c-9b54-08bcc4ad580c"
      },
      "execution_count": null,
      "outputs": [
        {
          "output_type": "stream",
          "name": "stdout",
          "text": [
            "TATA Tigor EV [{'PERFORMANCE RATING': 'EXCELLENT'}, {'RANGE RATING': 'OKAY'}, {'RIDE RATING': 'OKAY'}, {'HANDLING RATING': 'OKAY'}, {'BRAKING RATING': 'OKAY'}, {'STEERING RATING': 'OKAY'}, {'OFFROAD_CAPABILITY RATING': 'OKAY'}, {'NVH RATING': 'OKAY'}, {'OCCUPANT_COMFORT RATING': 'OKAY'}, {'VISIBILITY_AND_PACKAGE RATING': 'OKAY'}, {'SAFETY RATING': 'OKAY'}, {'SOFTWARE_FEATURES RATING': 'OKAY'}]\n"
          ]
        }
      ]
    },
    {
      "cell_type": "code",
      "source": [],
      "metadata": {
        "id": "Gelt8h2QmPjj"
      },
      "execution_count": null,
      "outputs": []
    }
  ]
}